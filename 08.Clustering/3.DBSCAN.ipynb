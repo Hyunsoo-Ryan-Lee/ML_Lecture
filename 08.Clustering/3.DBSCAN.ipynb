{
 "cells": [
  {
   "cell_type": "markdown",
   "metadata": {},
   "source": [
    "## DBSCAN\n",
    "\n",
    "https://www.youtube.com/watch?v=RDZUdRSDOok"
   ]
  },
  {
   "cell_type": "code",
   "execution_count": null,
   "metadata": {},
   "outputs": [],
   "source": [
    "from sklearn.datasets import make_moons\n",
    "import numpy as np\n",
    "import seaborn as sns\n",
    "\n",
    "n_samples = 1000\n",
    "np.random.seed(3)\n",
    "X, y = make_moons(n_samples=n_samples, noise=.05)  # noise: 잡음의 크기. 0이면 정확한 반원을 이룸\n",
    "df = pd.DataFrame(X)\n",
    "\n",
    "#시각화\n",
    "plt.figure(figsize=(16, 9))\n",
    "sns.scatterplot(x=df[0], y=df[1], marker='o', s=200)\n"
   ]
  },
  {
   "cell_type": "code",
   "execution_count": null,
   "metadata": {},
   "outputs": [],
   "source": [
    "from sklearn.cluster import KMeans\n",
    "\n",
    "model = KMeans(n_clusters=2, random_state = 123)\n",
    "model.fit(df)\n",
    "df['kmeans_label'] = model.predict(df)\n",
    "\n",
    "# 각 군집의 중심점\n",
    "centers = model.cluster_centers_\n",
    "\n",
    "# 클러스터링 결과 시각화\n",
    "plt.figure(figsize=(16, 9))\n",
    "\n",
    "sns.scatterplot(x=df[0], y=df[1], hue=df['kmeans_label'] , s=200)\n",
    "sns.scatterplot(x=centers[:,0], y=centers[:,1], color='black', s=200)"
   ]
  },
  {
   "cell_type": "code",
   "execution_count": null,
   "metadata": {},
   "outputs": [],
   "source": [
    "df = df.drop('kmeans_label', axis=1)\n",
    "\n",
    "df.head()"
   ]
  },
  {
   "cell_type": "code",
   "execution_count": null,
   "metadata": {},
   "outputs": [],
   "source": [
    "from sklearn.cluster import DBSCAN\n",
    "\n",
    "eps = 0.1 # 반경\n",
    "min_samples = 5 # 최소 데이터 갯수\n",
    "\n",
    "# DBSCAN 모델 학습\n",
    "model = DBSCAN(eps=eps, min_samples=min_samples)\n",
    "model.fit(df)\n",
    "df['dbscan_label'] = model.labels_\n",
    "\n",
    "# 시각화\n",
    "plt.figure(figsize=(16, 9))\n",
    "sns.scatterplot(x=df[0], y=df[1], hue=df['dbscan_label'], s=200)\n"
   ]
  },
  {
   "cell_type": "code",
   "execution_count": null,
   "metadata": {},
   "outputs": [],
   "source": []
  }
 ],
 "metadata": {
  "language_info": {
   "name": "python"
  }
 },
 "nbformat": 4,
 "nbformat_minor": 2
}
