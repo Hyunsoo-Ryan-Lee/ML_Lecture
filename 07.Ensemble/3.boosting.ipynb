{
 "cells": [
  {
   "cell_type": "markdown",
   "metadata": {},
   "source": [
    "#### 부스팅(Boosting)\n",
    "\n",
    "- 여러 개의 모델이 순차적으로 학습을 진행\n",
    "- 이전 모델이 예측이 틀린 데이터에 대해 올바르게 예측할 수 있도록 다음 모델에게 가중치를 부여하면서 학습과 예측을 진행\n",
    "- 오류가 큰 데이터에 더 많은 가중치를 부여하여 모델을 강화\n",
    "- 계속하여 모델에게 가중치를 부스팅하며 학습을 진행하기에 부스팅 방식이라고 불림\n",
    "- 순차적으로 학습하기에 배깅 방식과는 달리 훈련을 동시에 진행할 수 없으므로 훈련시간이 오래걸림\n",
    "- 대표적인 부스팅 알고리즘 : Gradient Boosting, AdaBoost, XGBoost\n",
    "\n",
    "![](https://velog.velcdn.com/images/newnew_daddy/post/91a8df59-7a6a-4f7a-a324-c70d972f3803/image.png)\n",
    "\n",
    "---\n",
    "\n",
    "#### 배깅 vs 부스팅\n",
    "- 배깅 : 여러 학습 모델을 병렬적으로 학습하여 각각의 예측 결과를 평균내거나 투표를 통해 결합\n",
    "- 부스팅 : 학습 모델을 순차적으로 학습시키며, 각 모델이 이전 모델의 오류를 보완하도록 가중치를 조정하여 결합\n",
    "\n",
    "![](https://velog.velcdn.com/images/newnew_daddy/post/a4b64e88-06a1-4487-a30f-ab8e7a71bce0/image.png)\n"
   ]
  }
 ],
 "metadata": {
  "language_info": {
   "name": "python"
  }
 },
 "nbformat": 4,
 "nbformat_minor": 2
}
