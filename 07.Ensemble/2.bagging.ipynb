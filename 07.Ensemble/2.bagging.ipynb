{
 "cells": [
  {
   "cell_type": "markdown",
   "metadata": {},
   "source": [
    "#### 배깅(Bagging)\n",
    "- Bootstrap Aggregation의 줄임말 (Bootstrap : 중복허용 리샘플링을 뜻하는 통계학적 용어.)\n",
    "- 임의로 만든 bootstrap 데이터 셋을 통해 모델을 학습시키고 결과를 집계하는 방법\n",
    "- 모두 같은 유형의 알고리즘 기반의 분류기를 사용\n",
    "- 예측값의 최빈값을 최종 예측값으로 선택\n",
    "\n",
    "#### Random Forest\n",
    "- 대표적인 배깅 방식 모델로, 배깅 기법을 결정트리의 앙상블에 특화시킨 모델\n",
    "\n",
    "![](https://velog.velcdn.com/images/newnew_daddy/post/8934deef-b1a7-49a7-b9c0-b05fb6fd5ceb/image.png)\n",
    "\n",
    "#### 보팅 vs 배깅\n",
    "- 보팅 : 학습별로 다른 모델 사용\n",
    "- 배깅 : 활용하는 데이터를 랜덤하게 가져가지만 동일한 모델 사용\n",
    "\n",
    "![](https://velog.velcdn.com/images/newnew_daddy/post/e3f5e000-940b-4486-9d8b-c824d8416864/image.png)"
   ]
  },
  {
   "cell_type": "markdown",
   "metadata": {},
   "source": [
    "#### Bagging 분류기 실습"
   ]
  },
  {
   "cell_type": "code",
   "execution_count": 29,
   "metadata": {},
   "outputs": [],
   "source": [
    "import pandas as pd\n",
    "from sklearn.model_selection import train_test_split\n",
    "from sklearn.tree import DecisionTreeClassifier\n",
    "from sklearn.ensemble import BaggingClassifier"
   ]
  },
  {
   "cell_type": "code",
   "execution_count": 48,
   "metadata": {},
   "outputs": [
    {
     "name": "stdout",
     "output_type": "stream",
     "text": [
      "   feature_1  feature_2   feature_3    feature_4  feature_5  feature_6  target\n",
      "0  -0.284875  17.047723  187.513880 -2036.404485   0.246930   0.007247       1\n",
      "1   1.987276 -33.129862   12.169793  2219.773399  -0.133698  -0.006408       3\n",
      "2  -0.499730 -33.406223 -145.777203  4780.497106  -0.323490   0.010177       2\n",
      "3   0.833334   8.154486  198.025785 -1692.479252   0.079407   0.021835       1\n",
      "4  -0.450013 -17.605486 -200.557081  1644.364531  -0.029546   0.006536       2\n"
     ]
    }
   ],
   "source": [
    "import numpy as np\n",
    "import pandas as pd\n",
    "from sklearn.datasets import make_classification\n",
    "from sklearn.preprocessing import StandardScaler\n",
    "\n",
    "# 조건에 맞는 데이터셋 생성\n",
    "X, y = make_classification(\n",
    "    n_samples=500,        # 샘플 수\n",
    "    n_features=6,         # 총 특성 수\n",
    "    n_informative=5,      # 정보 특성 수\n",
    "    n_redundant=0,        # 중복 특성 수\n",
    "    n_classes=5,          # 클래스 수\n",
    "    n_clusters_per_class=1, # 각 클래스당 클러스터 수\n",
    "    class_sep=1.5,        # 클래스 간의 구분 정도 (큰 값일수록 더 잘 구분됨)\n",
    "    random_state=42\n",
    ")\n",
    "\n",
    "# DataFrame으로 변환\n",
    "columns = [f'feature_{i}' for i in range(1, 7)]\n",
    "df = pd.DataFrame(X, columns=columns)\n",
    "df['target'] = y\n",
    "\n",
    "# 각 컬럼의 스케일을 다르게 하기 위해 변환\n",
    "scales = [1, 10, 100, 1000, 0.1, 0.01]\n",
    "for i, scale in enumerate(scales):\n",
    "    df[f'feature_{i+1}'] *= scale\n",
    "\n",
    "# 생성된 데이터셋 저장 (선택 사항)\n",
    "df.to_csv(\"./dataset/sample_multiclass_dataset.csv\", index=False)\n"
   ]
  },
  {
   "cell_type": "code",
   "execution_count": 49,
   "metadata": {},
   "outputs": [
    {
     "data": {
      "text/html": [
       "<div>\n",
       "<style scoped>\n",
       "    .dataframe tbody tr th:only-of-type {\n",
       "        vertical-align: middle;\n",
       "    }\n",
       "\n",
       "    .dataframe tbody tr th {\n",
       "        vertical-align: top;\n",
       "    }\n",
       "\n",
       "    .dataframe thead th {\n",
       "        text-align: right;\n",
       "    }\n",
       "</style>\n",
       "<table border=\"1\" class=\"dataframe\">\n",
       "  <thead>\n",
       "    <tr style=\"text-align: right;\">\n",
       "      <th></th>\n",
       "      <th>feature_1</th>\n",
       "      <th>feature_2</th>\n",
       "      <th>feature_3</th>\n",
       "      <th>feature_4</th>\n",
       "      <th>feature_5</th>\n",
       "      <th>feature_6</th>\n",
       "      <th>target</th>\n",
       "    </tr>\n",
       "  </thead>\n",
       "  <tbody>\n",
       "    <tr>\n",
       "      <th>0</th>\n",
       "      <td>-0.284875</td>\n",
       "      <td>17.047723</td>\n",
       "      <td>187.513880</td>\n",
       "      <td>-2036.404485</td>\n",
       "      <td>0.246930</td>\n",
       "      <td>0.007247</td>\n",
       "      <td>1</td>\n",
       "    </tr>\n",
       "    <tr>\n",
       "      <th>1</th>\n",
       "      <td>1.987276</td>\n",
       "      <td>-33.129862</td>\n",
       "      <td>12.169793</td>\n",
       "      <td>2219.773399</td>\n",
       "      <td>-0.133698</td>\n",
       "      <td>-0.006408</td>\n",
       "      <td>3</td>\n",
       "    </tr>\n",
       "    <tr>\n",
       "      <th>2</th>\n",
       "      <td>-0.499730</td>\n",
       "      <td>-33.406223</td>\n",
       "      <td>-145.777203</td>\n",
       "      <td>4780.497106</td>\n",
       "      <td>-0.323490</td>\n",
       "      <td>0.010177</td>\n",
       "      <td>2</td>\n",
       "    </tr>\n",
       "    <tr>\n",
       "      <th>3</th>\n",
       "      <td>0.833334</td>\n",
       "      <td>8.154486</td>\n",
       "      <td>198.025785</td>\n",
       "      <td>-1692.479252</td>\n",
       "      <td>0.079407</td>\n",
       "      <td>0.021835</td>\n",
       "      <td>1</td>\n",
       "    </tr>\n",
       "    <tr>\n",
       "      <th>4</th>\n",
       "      <td>-0.450013</td>\n",
       "      <td>-17.605486</td>\n",
       "      <td>-200.557081</td>\n",
       "      <td>1644.364531</td>\n",
       "      <td>-0.029546</td>\n",
       "      <td>0.006536</td>\n",
       "      <td>2</td>\n",
       "    </tr>\n",
       "  </tbody>\n",
       "</table>\n",
       "</div>"
      ],
      "text/plain": [
       "   feature_1  feature_2   feature_3    feature_4  feature_5  feature_6  target\n",
       "0  -0.284875  17.047723  187.513880 -2036.404485   0.246930   0.007247       1\n",
       "1   1.987276 -33.129862   12.169793  2219.773399  -0.133698  -0.006408       3\n",
       "2  -0.499730 -33.406223 -145.777203  4780.497106  -0.323490   0.010177       2\n",
       "3   0.833334   8.154486  198.025785 -1692.479252   0.079407   0.021835       1\n",
       "4  -0.450013 -17.605486 -200.557081  1644.364531  -0.029546   0.006536       2"
      ]
     },
     "execution_count": 49,
     "metadata": {},
     "output_type": "execute_result"
    }
   ],
   "source": [
    "df = pd.read_csv('./dataset/sample_multiclass_dataset.csv')\n",
    "\n",
    "df.head()"
   ]
  },
  {
   "cell_type": "code",
   "execution_count": 50,
   "metadata": {},
   "outputs": [],
   "source": [
    "X = df[df.columns[:-1]].values\n",
    "y = df[df.columns[-1]].values"
   ]
  },
  {
   "cell_type": "code",
   "execution_count": 51,
   "metadata": {},
   "outputs": [],
   "source": [
    "X_train, X_test, y_train, y_test = train_test_split(X, y, test_size=0.3, random_state=42)"
   ]
  },
  {
   "cell_type": "code",
   "execution_count": 52,
   "metadata": {},
   "outputs": [],
   "source": [
    "from sklearn.preprocessing import StandardScaler\n",
    "\n",
    "sc = StandardScaler()\n",
    "\n",
    "X_train = sc.fit_transform(X_train)\n",
    "X_test = sc.transform(X_test)"
   ]
  },
  {
   "cell_type": "markdown",
   "metadata": {},
   "source": [
    "#### BaggingClassifier 메소드의 주요 인자 설명\n",
    "\n",
    "```python\n",
    "from sklearn.ensemble import BaggingClassifier\n",
    "from sklearn.tree import DecisionTreeClassifier\n",
    "\n",
    "# Define a base model\n",
    "base_model = DecisionTreeClassifier(random_state=42)\n",
    "\n",
    "# Define the BaggingClassifier\n",
    "bagging_clf = BaggingClassifier(\n",
    "    estimator=base_model,  # Bagging에 사용될 기본 학습기 (여기서는 Decision Tree)\n",
    "    n_estimators=50,            # 앙상블에 포함될 기본 학습기의 수 (50개의 결정 트리)\n",
    "    max_samples=0.8,            # 각 기본 학습기 학습 시 사용할 데이터 샘플의 비율 (전체 데이터의 80%)\n",
    "    max_features=1.0,           # 각 기본 학습기 학습 시 사용할 특성의 비율 (전체 특성의 100%)\n",
    "    bootstrap=True,             # 샘플링 시 중복 허용 여부 (True일 경우 부트스트랩 샘플링)\n",
    "    bootstrap_features=False,   # 특성 샘플링 시 중복 허용 여부 (기본값은 False)\n",
    "    random_state=42,            # 난수 시드 설정 (재현성을 위해 설정)\n",
    "    verbose=0,                  # 학습 과정의 진행 상황 출력 정도 (0일 경우 출력 없음)\n",
    ")\n",
    "```"
   ]
  },
  {
   "cell_type": "code",
   "execution_count": 53,
   "metadata": {},
   "outputs": [],
   "source": [
    "base_model = DecisionTreeClassifier(max_depth=3, random_state=42)\n",
    "\n",
    "bagging_clf = BaggingClassifier(\n",
    "    estimator=base_model,  # The base estimator to fit on random subsets of the dataset\n",
    "    n_estimators=50,            # The number of base estimators in the ensemble\n",
    "    max_samples=0.8,            # The fraction of samples to draw from X to train each base estimator\n",
    "    max_features=1.0,           # The fraction of features to draw from X to train each base estimator\n",
    "    bootstrap=True,             # Whether samples are drawn with replacement\n",
    "    random_state=42\n",
    ")"
   ]
  },
  {
   "cell_type": "code",
   "execution_count": 54,
   "metadata": {},
   "outputs": [
    {
     "name": "stdout",
     "output_type": "stream",
     "text": [
      "Bagging Classifier accuracy: 0.87\n"
     ]
    }
   ],
   "source": [
    "# Fit the BaggingClassifier\n",
    "bagging_clf.fit(X_train, y_train)\n",
    "\n",
    "# Predict using the test set\n",
    "y_pred = bagging_clf.predict(X_test)\n",
    "\n",
    "# Evaluate the model\n",
    "accuracy = accuracy_score(y_test, y_pred)\n",
    "print(f\"Bagging Classifier accuracy: {accuracy:.2f}\")"
   ]
  },
  {
   "cell_type": "code",
   "execution_count": 55,
   "metadata": {},
   "outputs": [
    {
     "name": "stdout",
     "output_type": "stream",
     "text": [
      "0.92\n",
      "0.8733333333333333\n"
     ]
    }
   ],
   "source": [
    "## BaggingClassifier 모델 성능 평가\n",
    "\n",
    "print(bagging_clf.score(X_train, y_train))\n",
    "print(bagging_clf.score(X_test, y_test))"
   ]
  },
  {
   "cell_type": "code",
   "execution_count": 56,
   "metadata": {},
   "outputs": [
    {
     "name": "stdout",
     "output_type": "stream",
     "text": [
      "Accuracy: 0.873\n",
      "--------------------------------------------------\n",
      "Classification Report:\n",
      "              precision    recall  f1-score   support\n",
      "\n",
      "           0       0.91      0.88      0.89        33\n",
      "           1       0.93      1.00      0.97        28\n",
      "           2       0.80      0.65      0.71        31\n",
      "           3       0.89      0.94      0.91        33\n",
      "           4       0.82      0.92      0.87        25\n",
      "\n",
      "    accuracy                           0.87       150\n",
      "   macro avg       0.87      0.88      0.87       150\n",
      "weighted avg       0.87      0.87      0.87       150\n",
      "\n",
      "Confusion Matrix:\n",
      "[[29  1  1  2  0]\n",
      " [ 0 28  0  0  0]\n",
      " [ 3  1 20  2  5]\n",
      " [ 0  0  2 31  0]\n",
      " [ 0  0  2  0 23]]\n",
      "--------------------------------------------------\n"
     ]
    },
    {
     "data": {
      "image/png": "[encoded data removed]",
      "text/plain": [
       "<Figure size 640x480 with 2 Axes>"
      ]
     },
     "metadata": {},
     "output_type": "display_data"
    }
   ],
   "source": [
    "from utils import evaluate_cls_model\n",
    "\n",
    "evaluate_cls_model(y_test, y_pred, False)"
   ]
  },
  {
   "cell_type": "code",
   "execution_count": 57,
   "metadata": {},
   "outputs": [
    {
     "name": "stdout",
     "output_type": "stream",
     "text": [
      "Base Decision Tree accuracy: 0.70\n"
     ]
    }
   ],
   "source": [
    "# For comparison, evaluate the base model\n",
    "base_model.fit(X_train, y_train)\n",
    "y_pred_base = base_model.predict(X_test)\n",
    "accuracy_base = accuracy_score(y_test, y_pred_base)\n",
    "print(f\"Base Decision Tree accuracy: {accuracy_base:.2f}\")"
   ]
  },
  {
   "cell_type": "markdown",
   "metadata": {},
   "source": [
    "#### 결정트리 vs 랜덤포레스트"
   ]
  },
  {
   "cell_type": "code",
   "execution_count": 58,
   "metadata": {},
   "outputs": [
    {
     "name": "stdout",
     "output_type": "stream",
     "text": [
      "Decision Tree Accuracy: 0.86\n",
      "Random Forest Accuracy: 0.9\n"
     ]
    },
    {
     "data": {
      "image/png": "[encoded data removed]",
      "text/plain": [
       "<Figure size 1400x500 with 2 Axes>"
      ]
     },
     "metadata": {},
     "output_type": "display_data"
    },
    {
     "name": "stdout",
     "output_type": "stream",
     "text": [
      "Decision Tree Classification Report:\n",
      "              precision    recall  f1-score   support\n",
      "\n",
      "           0       0.94      0.88      0.91        33\n",
      "           1       0.93      0.93      0.93        28\n",
      "           2       0.77      0.74      0.75        31\n",
      "           3       0.88      0.91      0.90        33\n",
      "           4       0.78      0.84      0.81        25\n",
      "\n",
      "    accuracy                           0.86       150\n",
      "   macro avg       0.86      0.86      0.86       150\n",
      "weighted avg       0.86      0.86      0.86       150\n",
      "\n",
      "Random Forest Classification Report:\n",
      "              precision    recall  f1-score   support\n",
      "\n",
      "           0       0.97      0.88      0.92        33\n",
      "           1       0.93      1.00      0.97        28\n",
      "           2       0.79      0.74      0.77        31\n",
      "           3       0.91      0.94      0.93        33\n",
      "           4       0.89      0.96      0.92        25\n",
      "\n",
      "    accuracy                           0.90       150\n",
      "   macro avg       0.90      0.90      0.90       150\n",
      "weighted avg       0.90      0.90      0.90       150\n",
      "\n"
     ]
    }
   ],
   "source": [
    "import pandas as pd\n",
    "import numpy as np\n",
    "import matplotlib.pyplot as plt\n",
    "from sklearn.model_selection import train_test_split\n",
    "from sklearn.tree import DecisionTreeClassifier\n",
    "from sklearn.ensemble import RandomForestClassifier\n",
    "from sklearn.metrics import accuracy_score, confusion_matrix, classification_report\n",
    "\n",
    "# 데이터 로드\n",
    "data = pd.read_csv('./dataset/sample_multiclass_dataset.csv')\n",
    "\n",
    "# 데이터 분할\n",
    "X = data.drop('target', axis=1)\n",
    "y = data['target']\n",
    "X_train, X_test, y_train, y_test = train_test_split(X, y, test_size=0.3, random_state=42)\n",
    "\n",
    "# 결정 트리 모델 학습 및 평가\n",
    "dt_model = DecisionTreeClassifier(random_state=42)\n",
    "dt_model.fit(X_train, y_train)\n",
    "y_pred_dt = dt_model.predict(X_test)\n",
    "\n",
    "# 랜덤 포레스트 모델 학습 및 평가\n",
    "rf_model = RandomForestClassifier(n_estimators=100, random_state=42)\n",
    "rf_model.fit(X_train, y_train)\n",
    "y_pred_rf = rf_model.predict(X_test)\n",
    "\n",
    "# 정확도 비교\n",
    "accuracy_dt = accuracy_score(y_test, y_pred_dt)\n",
    "accuracy_rf = accuracy_score(y_test, y_pred_rf)\n",
    "\n",
    "print(f'Decision Tree Accuracy: {accuracy_dt}')\n",
    "print(f'Random Forest Accuracy: {accuracy_rf}')\n",
    "\n",
    "# 혼동 행렬 시각화\n",
    "conf_matrix_dt = confusion_matrix(y_test, y_pred_dt)\n",
    "conf_matrix_rf = confusion_matrix(y_test, y_pred_rf)\n",
    "\n",
    "fig, axes = plt.subplots(nrows=1, ncols=2, figsize=(14, 5))\n",
    "\n",
    "axes[0].imshow(conf_matrix_dt, interpolation='nearest', cmap=plt.cm.Blues)\n",
    "axes[0].set_title('Decision Tree Confusion Matrix')\n",
    "axes[0].set_xlabel('Predicted label')\n",
    "axes[0].set_ylabel('True label')\n",
    "\n",
    "axes[1].imshow(conf_matrix_rf, interpolation='nearest', cmap=plt.cm.Blues)\n",
    "axes[1].set_title('Random Forest Confusion Matrix')\n",
    "axes[1].set_xlabel('Predicted label')\n",
    "axes[1].set_ylabel('True label')\n",
    "\n",
    "plt.tight_layout()\n",
    "plt.show()\n",
    "\n",
    "# 분류 보고서 출력\n",
    "print('Decision Tree Classification Report:')\n",
    "print(classification_report(y_test, y_pred_dt))\n",
    "\n",
    "print('Random Forest Classification Report:')\n",
    "print(classification_report(y_test, y_pred_rf))\n"
   ]
  },
  {
   "cell_type": "code",
   "execution_count": null,
   "metadata": {},
   "outputs": [],
   "source": []
  }
 ],
 "metadata": {
  "kernelspec": {
   "display_name": "lecture",
   "language": "python",
   "name": "python3"
  },
  "language_info": {
   "codemirror_mode": {
    "name": "ipython",
    "version": 3
   },
   "file_extension": ".py",
   "mimetype": "text/x-python",
   "name": "python",
   "nbconvert_exporter": "python",
   "pygments_lexer": "ipython3",
   "version": "3.10.4"
  }
 },
 "nbformat": 4,
 "nbformat_minor": 2
}
