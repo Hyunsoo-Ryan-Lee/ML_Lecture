{
 "cells": [
  {
   "cell_type": "markdown",
   "metadata": {},
   "source": [
    "#### 배깅(Bagging)\n",
    "- Bootstrap Aggregation의 줄임말 (Bootstrap : 중복허용 리샘플링을 뜻하는 통계학적 용어.)\n",
    "- 임의로 만든 bootstrap 데이터 셋을 통해 모델을 학습시키고 결과를 집계하는 방법\n",
    "- 모두 같은 유형의 알고리즘 기반의 분류기를 사용\n",
    "- 예측값의 최빈값을 최종 예측값으로 선택\n",
    "\n",
    "#### Random Forest\n",
    "- 대표적인 배깅 방식 모델로, 배깅 기법을 결정트리의 앙상블에 특화시킨 모델\n",
    "\n",
    "![](https://velog.velcdn.com/images/newnew_daddy/post/8934deef-b1a7-49a7-b9c0-b05fb6fd5ceb/image.png)\n",
    "\n",
    "#### 보팅 vs 배깅\n",
    "- 보팅 : 학습별로 다른 모델 사용\n",
    "- 배깅 : 활용하는 데이터를 랜덤하게 가져가지만 동일한 모델 사용\n",
    "\n",
    "![](https://velog.velcdn.com/images/newnew_daddy/post/e3f5e000-940b-4486-9d8b-c824d8416864/image.png)"
   ]
  },
  {
   "cell_type": "code",
   "execution_count": null,
   "metadata": {},
   "outputs": [],
   "source": []
  }
 ],
 "metadata": {
  "kernelspec": {
   "display_name": "lecture",
   "language": "python",
   "name": "python3"
  },
  "language_info": {
   "codemirror_mode": {
    "name": "ipython",
    "version": 3
   },
   "file_extension": ".py",
   "mimetype": "text/x-python",
   "name": "python",
   "nbconvert_exporter": "python",
   "pygments_lexer": "ipython3",
   "version": "3.10.4"
  }
 },
 "nbformat": 4,
 "nbformat_minor": 2
}
