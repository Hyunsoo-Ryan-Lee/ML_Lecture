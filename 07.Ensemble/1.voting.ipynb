{
 "cells": [
  {
   "cell_type": "markdown",
   "metadata": {},
   "source": [
    "## 앙상블 학습(Ensemble Learning)\n",
    "\n",
    "<img src=\"https://velog.velcdn.com/images/newnew_daddy/post/c3059ab7-cd9e-4ffe-b3f6-43d529773445/image.png\" width=\"70%\">\n",
    "\n",
    "- 여러 개의 학습 모델을 결합하여 단일 모델보다 더 나은 예측 성능을 얻는 기계 학습 기법\n",
    "- 개별 모델이 가지는 약점을 보완하고, 예측 결과의 정확성과 안정성을 높이는 데 효과적\n",
    "- 앙상블 모델의 예측 성능이 일반적으로 개별 성능보다 우수\n",
    "\n",
    "#### 앙상블 학습의 종류\n",
    "- Voting\n",
    "- Bagging\n",
    "- Boosting\n",
    "- Stacking"
   ]
  },
  {
   "cell_type": "markdown",
   "metadata": {},
   "source": [
    "#### 보팅(Voting)\n",
    "- 다른 알고리즘이 낸 결과값들을 놓고 투표를 통해 최종 결과를 결정하는 방식\n",
    "- Voting 방법\n",
    "  - Hard Voting : 다수의 모델이 예측한 결과값을 최종 결과로 선정\n",
    "  - Soft Voting : 모든 모델이 예측한 레이블 값의 결정 확률 평균을 구한 뒤 가장 확률이 높은\n",
    "레이블 값을 최종 결과로 선정\n",
    "\n",
    "![](https://velog.velcdn.com/images/newnew_daddy/post/1f1fb051-9015-4b22-93fe-c618270f747b/image.png)"
   ]
  },
  {
   "cell_type": "markdown",
   "metadata": {},
   "source": [
    "https://continuous-development.tistory.com/entry/MLDL-%EC%95%99%EC%83%81%EB%B8%94-%ED%95%99%EC%8A%B5-Ensemble-Learning-2-Voting%EB%B3%B4%ED%8C%85%EC%9D%B4%EB%9E%80-1"
   ]
  },
  {
   "cell_type": "code",
   "execution_count": 4,
   "metadata": {},
   "outputs": [
    {
     "name": "stdout",
     "output_type": "stream",
     "text": [
      "Ensemble model accuracy: 0.98\n",
      "LogisticRegression accuracy: 0.97\n",
      "DecisionTreeClassifier accuracy: 0.84\n",
      "SVC accuracy: 0.99\n"
     ]
    }
   ],
   "source": [
    "import numpy as np\n",
    "import matplotlib.pyplot as plt\n",
    "from sklearn.datasets import load_digits\n",
    "from sklearn.model_selection import train_test_split\n",
    "from sklearn.linear_model import LogisticRegression\n",
    "from sklearn.tree import DecisionTreeClassifier\n",
    "from sklearn.svm import SVC\n",
    "from sklearn.ensemble import VotingClassifier\n",
    "from sklearn.metrics import accuracy_score\n",
    "\n",
    "# Load the Iris dataset\n",
    "iris = load_digits()\n",
    "X, y = iris.data, iris.target\n",
    "\n",
    "# Split the dataset into training and test sets\n",
    "X_train, X_test, y_train, y_test = train_test_split(X, y, test_size=0.3, random_state=42)\n",
    "\n",
    "# Define individual models\n",
    "log_clf = LogisticRegression(max_iter=1000, random_state=42)\n",
    "tree_clf = DecisionTreeClassifier(random_state=42)\n",
    "svm_clf = SVC(probability=True, random_state=42)\n",
    "\n",
    "# Define the VotingClassifier with soft voting\n",
    "voting_clf = VotingClassifier(\n",
    "    estimators=[('lr', log_clf), ('dt', tree_clf), ('svc', svm_clf)],\n",
    "    voting='soft'  # 'soft' voting uses predicted probabilities for voting\n",
    ")\n",
    "\n",
    "# Fit the model\n",
    "voting_clf.fit(X_train, y_train)\n",
    "\n",
    "# Predict using the test set\n",
    "y_pred = voting_clf.predict(X_test)\n",
    "\n",
    "# Evaluate the model\n",
    "accuracy = accuracy_score(y_test, y_pred)\n",
    "print(f\"Ensemble model accuracy: {accuracy:.2f}\")\n",
    "\n",
    "# For comparison, evaluate individual models\n",
    "for clf in (log_clf, tree_clf, svm_clf):\n",
    "    clf.fit(X_train, y_train)\n",
    "    y_pred_individual = clf.predict(X_test)\n",
    "    accuracy_individual = accuracy_score(y_test, y_pred_individual)\n",
    "    print(f\"{clf.__class__.__name__} accuracy: {accuracy_individual:.2f}\")\n"
   ]
  },
  {
   "cell_type": "code",
   "execution_count": 25,
   "metadata": {},
   "outputs": [
    {
     "data": {
      "text/html": [
       "<div>\n",
       "<style scoped>\n",
       "    .dataframe tbody tr th:only-of-type {\n",
       "        vertical-align: middle;\n",
       "    }\n",
       "\n",
       "    .dataframe tbody tr th {\n",
       "        vertical-align: top;\n",
       "    }\n",
       "\n",
       "    .dataframe thead th {\n",
       "        text-align: right;\n",
       "    }\n",
       "</style>\n",
       "<table border=\"1\" class=\"dataframe\">\n",
       "  <thead>\n",
       "    <tr style=\"text-align: right;\">\n",
       "      <th></th>\n",
       "      <th>A</th>\n",
       "      <th>B</th>\n",
       "      <th>C</th>\n",
       "      <th>D</th>\n",
       "      <th>E</th>\n",
       "      <th>F</th>\n",
       "      <th>G</th>\n",
       "      <th>target</th>\n",
       "    </tr>\n",
       "  </thead>\n",
       "  <tbody>\n",
       "    <tr>\n",
       "      <th>0</th>\n",
       "      <td>14.88</td>\n",
       "      <td>14.57</td>\n",
       "      <td>0.8811</td>\n",
       "      <td>5.554</td>\n",
       "      <td>3.333</td>\n",
       "      <td>1.018</td>\n",
       "      <td>4.956</td>\n",
       "      <td>1</td>\n",
       "    </tr>\n",
       "    <tr>\n",
       "      <th>1</th>\n",
       "      <td>14.29</td>\n",
       "      <td>14.09</td>\n",
       "      <td>0.9050</td>\n",
       "      <td>5.291</td>\n",
       "      <td>3.337</td>\n",
       "      <td>2.699</td>\n",
       "      <td>4.825</td>\n",
       "      <td>1</td>\n",
       "    </tr>\n",
       "    <tr>\n",
       "      <th>2</th>\n",
       "      <td>13.84</td>\n",
       "      <td>13.94</td>\n",
       "      <td>0.8955</td>\n",
       "      <td>5.324</td>\n",
       "      <td>3.379</td>\n",
       "      <td>2.259</td>\n",
       "      <td>4.805</td>\n",
       "      <td>1</td>\n",
       "    </tr>\n",
       "    <tr>\n",
       "      <th>3</th>\n",
       "      <td>16.14</td>\n",
       "      <td>14.99</td>\n",
       "      <td>0.9034</td>\n",
       "      <td>5.658</td>\n",
       "      <td>3.562</td>\n",
       "      <td>1.355</td>\n",
       "      <td>5.175</td>\n",
       "      <td>1</td>\n",
       "    </tr>\n",
       "    <tr>\n",
       "      <th>4</th>\n",
       "      <td>14.38</td>\n",
       "      <td>14.21</td>\n",
       "      <td>0.8951</td>\n",
       "      <td>5.386</td>\n",
       "      <td>3.312</td>\n",
       "      <td>2.462</td>\n",
       "      <td>4.956</td>\n",
       "      <td>1</td>\n",
       "    </tr>\n",
       "  </tbody>\n",
       "</table>\n",
       "</div>"
      ],
      "text/plain": [
       "       A      B       C      D      E      F      G  target\n",
       "0  14.88  14.57  0.8811  5.554  3.333  1.018  4.956       1\n",
       "1  14.29  14.09  0.9050  5.291  3.337  2.699  4.825       1\n",
       "2  13.84  13.94  0.8955  5.324  3.379  2.259  4.805       1\n",
       "3  16.14  14.99  0.9034  5.658  3.562  1.355  5.175       1\n",
       "4  14.38  14.21  0.8951  5.386  3.312  2.462  4.956       1"
      ]
     },
     "execution_count": 25,
     "metadata": {},
     "output_type": "execute_result"
    }
   ],
   "source": [
    "import pandas as pd\n",
    "\n",
    "df = pd.read_csv('./dataset/wheat.csv')\n",
    "\n",
    "df.columns = ['A','B','C','D','E','F','G','target']\n",
    "\n",
    "df.head()"
   ]
  },
  {
   "cell_type": "code",
   "execution_count": 26,
   "metadata": {},
   "outputs": [],
   "source": [
    "X = df[df.columns[:-1]].values\n",
    "y = df[df.columns[-1]].values"
   ]
  },
  {
   "cell_type": "code",
   "execution_count": 27,
   "metadata": {},
   "outputs": [],
   "source": [
    "X_train, X_test, y_train, y_test = train_test_split(X, y, test_size=0.3, random_state=42)"
   ]
  },
  {
   "cell_type": "code",
   "execution_count": 28,
   "metadata": {},
   "outputs": [],
   "source": [
    "from sklearn.preprocessing import StandardScaler\n",
    "\n",
    "sc = StandardScaler()\n",
    "\n",
    "X_train = sc.fit_transform(X_train)\n",
    "X_test = sc.transform(X_test)"
   ]
  },
  {
   "cell_type": "code",
   "execution_count": 37,
   "metadata": {},
   "outputs": [
    {
     "name": "stdout",
     "output_type": "stream",
     "text": [
      "Ensemble model accuracy: 0.94\n",
      "LogisticRegression accuracy: 0.92\n",
      "DecisionTreeClassifier accuracy: 0.92\n",
      "SVC accuracy: 0.94\n"
     ]
    }
   ],
   "source": [
    "# Define individual models\n",
    "log_clf = LogisticRegression(max_iter=100, random_state=42)\n",
    "tree_clf = DecisionTreeClassifier(max_depth=3, random_state=42)\n",
    "svm_clf = SVC(probability=True, random_state=42)\n",
    "\n",
    "# Define the VotingClassifier with soft voting\n",
    "voting_clf = VotingClassifier(\n",
    "    estimators=[('lr', log_clf), ('dt', tree_clf), ('svc', svm_clf)],\n",
    "    voting='soft'  # 'soft' voting uses predicted probabilities for voting\n",
    ")\n",
    "\n",
    "# Fit the model\n",
    "voting_clf.fit(X_train, y_train)\n",
    "\n",
    "# Predict using the test set\n",
    "y_pred = voting_clf.predict(X_test)\n",
    "\n",
    "# Evaluate the model\n",
    "accuracy = accuracy_score(y_test, y_pred)\n",
    "print(f\"Ensemble model accuracy: {accuracy:.2f}\")\n",
    "\n",
    "# For comparison, evaluate individual models\n",
    "for clf in (log_clf, tree_clf, svm_clf):\n",
    "    clf.fit(X_train, y_train)\n",
    "    y_pred_individual = clf.predict(X_test)\n",
    "    accuracy_individual = accuracy_score(y_test, y_pred_individual)\n",
    "    print(f\"{clf.__class__.__name__} accuracy: {accuracy_individual:.2f}\")"
   ]
  },
  {
   "cell_type": "code",
   "execution_count": null,
   "metadata": {},
   "outputs": [],
   "source": []
  }
 ],
 "metadata": {
  "kernelspec": {
   "display_name": "Pyspark",
   "language": "python",
   "name": "python3"
  },
  "language_info": {
   "codemirror_mode": {
    "name": "ipython",
    "version": 3
   },
   "file_extension": ".py",
   "mimetype": "text/x-python",
   "name": "python",
   "nbconvert_exporter": "python",
   "pygments_lexer": "ipython3",
   "version": "3.10.4"
  }
 },
 "nbformat": 4,
 "nbformat_minor": 2
}
