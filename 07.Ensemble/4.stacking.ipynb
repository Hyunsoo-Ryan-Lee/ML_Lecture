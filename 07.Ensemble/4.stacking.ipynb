{
 "cells": [
  {
   "cell_type": "markdown",
   "metadata": {},
   "source": [
    "#### 스태킹(Stacking)\n",
    "\n",
    "- 스태킹은 여러 모델의 예측 결과를 메타 모델(meta-model)로 결합하는 방법\n",
    "- 각 기본 모델(base model)이 예측한 결과를 새로운 데이터로 사용하여 메타 모델이 학습됨\n",
    "- 기본 모델과 메타 모델이 서로 다른 알고리즘을 사용할 수 있음\n",
    "\n",
    "![](https://velog.velcdn.com/images/newnew_daddy/post/53adabda-652c-4291-bf35-8306340b18bb/image.png)\n",
    "\n",
    "#### 배깅 vs 부스팅 vs 스태깅\n",
    "\n",
    "![](https://velog.velcdn.com/images/newnew_daddy/post/02139a3a-06cd-4fd9-b00e-40e3988ded13/image.png)\n"
   ]
  },
  {
   "cell_type": "code",
   "execution_count": 11,
   "metadata": {},
   "outputs": [],
   "source": [
    "import numpy as np\n",
    "import pandas as pd\n",
    "from sklearn.datasets import make_classification\n",
    "from sklearn.preprocessing import StandardScaler\n",
    "\n",
    "# 조건에 맞는 데이터셋 생성\n",
    "X, y = make_classification(\n",
    "    n_samples=1000,        # 샘플 수\n",
    "    n_features=6,         # 총 특성 수\n",
    "    n_informative=5,      # 정보 특성 수\n",
    "    n_redundant=0,        # 중복 특성 수\n",
    "    n_classes=5,          # 클래스 수\n",
    "    n_clusters_per_class=1, # 각 클래스당 클러스터 수\n",
    "    class_sep=1.5,        # 클래스 간의 구분 정도 (큰 값일수록 더 잘 구분됨)\n",
    "    random_state=42\n",
    ")\n",
    "\n",
    "# DataFrame으로 변환\n",
    "columns = [f'feature_{i}' for i in range(1, 7)]\n",
    "df = pd.DataFrame(X, columns=columns)\n",
    "df['target'] = y\n",
    "\n",
    "# 각 컬럼의 스케일을 다르게 하기 위해 변환\n",
    "scales = [1, 10, 100, 1000, 0.1, 0.01]\n",
    "for i, scale in enumerate(scales):\n",
    "    df[f'feature_{i+1}'] *= scale\n",
    "\n",
    "# df.to_csv(\"sample_multiclass_dataset.csv\", index=False)\n"
   ]
  },
  {
   "cell_type": "markdown",
   "metadata": {},
   "source": [
    "#### StackingClassifier 메소드의 주요 인자 설명\n",
    "\n",
    "```python\n",
    "from sklearn.ensemble import BaggingClassifier\n",
    "from sklearn.tree import DecisionTreeClassifier\n",
    "\n",
    "base_models = [\n",
    "    ('lr', LogisticRegression(max_iter=1000, random_state=42)),\n",
    "    ('dt', DecisionTreeClassifier(random_state=42)),\n",
    "    ('svc', SVC(probability=True, random_state=42))\n",
    "]\n",
    "\n",
    "meta_model = LogisticRegression(max_iter=1000, random_state=42)\n",
    "\n",
    "stacking_clf = StackingClassifier(\n",
    "    estimators=base_models,       # 베이스 모델들의 리스트, 각 모델은 (이름, 객체) 형태\n",
    "    final_estimator=meta_model,   # 메타 모델 (최종 예측을 수행할 모델)\n",
    "    cv=5,                         # 교차 검증을 위한 폴드 수 (None일 경우 기본값으로 사용)\n",
    "    stack_method='auto',          # 메타 모델을 학습하는 방법('predict_proba', 'decision_function', 'predict')\n",
    "    passthrough=False,            # True로 설정 시, 베이스 모델의 원본 입력 데이터도 메타 모델에 전달\n",
    "    verbose=0                     # 학습 과정의 진행 상황을 출력하는 정도 (0이면 출력 없음)\n",
    ")\n",
    "```"
   ]
  },
  {
   "cell_type": "code",
   "execution_count": 1,
   "metadata": {},
   "outputs": [],
   "source": [
    "import pandas as pd\n",
    "import matplotlib.pyplot as plt\n",
    "from sklearn.model_selection import train_test_split\n",
    "from sklearn.preprocessing import StandardScaler\n",
    "from sklearn.ensemble import StackingClassifier\n",
    "from sklearn.linear_model import LogisticRegression\n",
    "from sklearn.tree import DecisionTreeClassifier\n",
    "from sklearn.svm import SVC\n",
    "from sklearn.metrics import accuracy_score"
   ]
  },
  {
   "cell_type": "code",
   "execution_count": null,
   "metadata": {},
   "outputs": [],
   "source": [
    "df = pd.read_csv('./dataset/sample_multiclass_dataset.csv')\n",
    "\n",
    "X = df[df.columns[:-1]].values\n",
    "y = df[df.columns[-1]].values\n",
    "\n",
    "X_train, X_test, y_train, y_test = train_test_split(X, y, test_size=0.3, random_state=42)"
   ]
  },
  {
   "cell_type": "code",
   "execution_count": null,
   "metadata": {},
   "outputs": [],
   "source": [
    "sc = StandardScaler()\n",
    "\n",
    "X_train = sc.fit_transform(X_train)\n",
    "X_test = sc.transform(X_test)"
   ]
  },
  {
   "cell_type": "code",
   "execution_count": null,
   "metadata": {},
   "outputs": [],
   "source": [
    "# 기본 학습기 설정\n",
    "\n",
    "base_learners = [\n",
    "    ('lr', LogisticRegression(max_iter=500, random_state=42)),\n",
    "    ('decision_tree', DecisionTreeClassifier(random_state=42)),\n",
    "    ('svc', SVC(kernel='linear', random_state=42, probability=True))\n",
    "]"
   ]
  },
  {
   "cell_type": "code",
   "execution_count": null,
   "metadata": {},
   "outputs": [],
   "source": [
    "# 메타 학습기 설정\n",
    "meta_learner = LogisticRegression()\n",
    "\n",
    "# 스태킹 모델\n",
    "stacking_model = StackingClassifier(estimators=base_learners, final_estimator=meta_learner)\n",
    "stacking_model.fit(X_train, y_train)"
   ]
  },
  {
   "cell_type": "code",
   "execution_count": null,
   "metadata": {},
   "outputs": [],
   "source": [
    "# 기본 학습기의 예측 결과\n",
    "lr_predictions = stacking_model.named_estimators_['lr'].predict(X_test)\n",
    "dt_predictions = stacking_model.named_estimators_['decision_tree'].predict(X_test)\n",
    "svc_predictions = stacking_model.named_estimators_['svc'].predict(X_test)"
   ]
  },
  {
   "cell_type": "code",
   "execution_count": null,
   "metadata": {},
   "outputs": [],
   "source": [
    "# 정확도 출력\n",
    "print(f\"Logistic Regression Accuracy: {accuracy_score(y_test, lr_predictions)}\")\n",
    "print(f\"Decision Tree Accuracy: {accuracy_score(y_test, dt_predictions)}\")\n",
    "print(f\"SVC Accuracy: {accuracy_score(y_test, svc_predictions)}\")"
   ]
  },
  {
   "cell_type": "code",
   "execution_count": null,
   "metadata": {},
   "outputs": [],
   "source": [
    "# 메타 학습기의 최종 예측 결과\n",
    "stacked_predictions = stacking_model.predict(X_test)\n",
    "\n",
    "print(f\"Stacked Model Accuracy: {accuracy_score(y_test, stacked_predictions)}\")"
   ]
  },
  {
   "cell_type": "code",
   "execution_count": null,
   "metadata": {},
   "outputs": [],
   "source": [
    "# 시각화\n",
    "fig, axes = plt.subplots(2, 2, figsize=(15, 10))\n",
    "\n",
    "axes[0, 0].scatter(X_test[:, 0], X_test[:, 1], c=y_test, cmap='viridis', edgecolor='k', s=100)\n",
    "axes[0, 0].set_title(\"True Labels\")\n",
    "\n",
    "axes[0, 1].scatter(X_test[:, 0], X_test[:, 1], c=dt_predictions, cmap='viridis', edgecolor='k', s=100)\n",
    "axes[0, 1].set_title(\"Decision Tree Predictions\")\n",
    "\n",
    "axes[1, 0].scatter(X_test[:, 0], X_test[:, 1], c=svc_predictions, cmap='viridis', edgecolor='k', s=100)\n",
    "axes[1, 0].set_title(\"SVC Predictions\")\n",
    "\n",
    "axes[1, 1].scatter(X_test[:, 0], X_test[:, 1], c=stacked_predictions, cmap='viridis', edgecolor='k', s=100)\n",
    "axes[1, 1].set_title(\"Stacked Model Predictions\")\n",
    "\n",
    "plt.show()"
   ]
  }
 ],
 "metadata": {
  "kernelspec": {
   "display_name": "Pyspark",
   "language": "python",
   "name": "python3"
  },
  "language_info": {
   "codemirror_mode": {
    "name": "ipython",
    "version": 3
   },
   "file_extension": ".py",
   "mimetype": "text/x-python",
   "name": "python",
   "nbconvert_exporter": "python",
   "pygments_lexer": "ipython3",
   "version": "3.10.4"
  }
 },
 "nbformat": 4,
 "nbformat_minor": 2
}
