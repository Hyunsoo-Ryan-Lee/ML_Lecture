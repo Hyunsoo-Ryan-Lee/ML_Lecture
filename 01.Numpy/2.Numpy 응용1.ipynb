{
 "cells": [
  {
   "cell_type": "markdown",
   "metadata": {},
   "source": [
    "## 3. 배열 조작"
   ]
  },
  {
   "cell_type": "markdown",
   "metadata": {},
   "source": [
    "### 3-1. 배열 인덱싱 및 슬라이싱"
   ]
  },
  {
   "cell_type": "code",
   "execution_count": null,
   "metadata": {},
   "outputs": [],
   "source": [
    "## 기본 인덱싱\n",
    "\n",
    "arr = np.array([1, 2, 3, 4, 5])\n",
    "print(\"Element at index 0:\", arr[0])\n",
    "print(\"Element at index 4:\", arr[4])"
   ]
  },
  {
   "cell_type": "code",
   "execution_count": null,
   "metadata": {},
   "outputs": [],
   "source": [
    "## 다차원 배열 인덱싱\n",
    "\n",
    "arr = np.array([[1, 2, 3], [4, 5, 6], [7, 8, 9]])\n",
    "print(\"Element at (0, 0):\", arr[0, 0])\n",
    "print(\"Element at (1, 2):\", arr[1, 2])"
   ]
  },
  {
   "cell_type": "code",
   "execution_count": null,
   "metadata": {},
   "outputs": [],
   "source": [
    "## 배열 슬라이싱\n",
    "\n",
    "arr = np.array([1, 2, 3, 4, 5])\n",
    "print(\"Slice [0:3]:\", arr[0:3])\n",
    "print(\"Slice [::2]:\", arr[::2])"
   ]
  },
  {
   "cell_type": "markdown",
   "metadata": {},
   "source": [
    "### 3-2. 배열 형상 변경\n",
    "\n",
    "- **np.reshape()**: 배열의 형상을 변경합니다.\n",
    "- **np.resize()**: 배열의 크기를 변경합니다.\n",
    "- **np.ravel()**: 다차원 배열을 1차원으로 펼칩니다.\n",
    "- **np.flatten()**: 다차원 배열을 1차원으로 펼칩니다.\n",
    "- **np.append()**: 배열에 요소를 추가합니다.\n",
    "- **np.insert()**: 배열의 지정한 위치에 요소를 삽입합니다.\n",
    "- **np.delete()**: 배열의 요소를 삭제합니다."
   ]
  },
  {
   "cell_type": "code",
   "execution_count": null,
   "metadata": {},
   "outputs": [],
   "source": [
    "arr = np.arange(6)\n",
    "reshaped_arr = arr.reshape((2, 3))\n",
    "print(\"Original Array:\", arr)\n",
    "print(\"Reshaped Array:\\\\n\", reshaped_arr)\n",
    "\n",
    "resized_arr = np.resize(arr, (3, 2))\n",
    "print(\"Resized Array:\\\\n\", resized_arr)"
   ]
  },
  {
   "cell_type": "code",
   "execution_count": null,
   "metadata": {},
   "outputs": [],
   "source": [
    "arr = np.array([[1, 2, 3], [4, 5, 6]])\n",
    "ravel_arr = arr.ravel()\n",
    "flatten_arr = arr.flatten()\n",
    "print(\"Ravel Array:\", ravel_arr)\n",
    "print(\"Flatten Array:\", flatten_arr)"
   ]
  },
  {
   "cell_type": "code",
   "execution_count": null,
   "metadata": {},
   "outputs": [],
   "source": [
    "arr = np.array([1, 2, 3, 4, 5])\n",
    "appended_arr = np.append(arr, [6, 7])\n",
    "inserted_arr = np.insert(arr, 2, 9)\n",
    "deleted_arr = np.delete(arr, 1)\n",
    "\n",
    "print(\"Appended Array:\", appended_arr)\n",
    "print(\"Inserted Array:\", inserted_arr)\n",
    "print(\"Deleted Array:\", deleted_arr)"
   ]
  },
  {
   "cell_type": "markdown",
   "metadata": {},
   "source": [
    "### 3-3. 배열 결합 및 분할\n",
    "\n",
    "- **np.concatenate()**: 두 배열을 결합합니다.\n",
    "- **np.stack()**: 두 배열을 새로운 축으로 결합합니다.\n",
    "- **np.hstack()**: 두 배열을 수평으로 결합합니다.\n",
    "- **np.vstack()**: 두 배열을 수직으로 결합합니다.\n",
    "- **np.split()**: 배열을 분할합니다.\n",
    "- **np.hsplit()**: 배열을 수평으로 분할합니다.\n",
    "- **np.vsplit()**: 배열을 수직으로 분할합니다."
   ]
  },
  {
   "cell_type": "code",
   "execution_count": null,
   "metadata": {},
   "outputs": [],
   "source": [
    "arr1 = np.array([1, 2, 3])\n",
    "arr2 = np.array([4, 5, 6])\n",
    "\n",
    "concatenated_arr = np.concatenate((arr1, arr2))\n",
    "stacked_arr = np.stack((arr1, arr2))\n",
    "hstacked_arr = np.hstack((arr1, arr2))\n",
    "vstacked_arr = np.vstack((arr1, arr2))\n",
    "\n",
    "print(\"Concatenated Array:\", concatenated_arr)\n",
    "print(\"Stacked Array:\\\\n\", stacked_arr)\n",
    "print(\"Horizontally Stacked Array:\", hstacked_arr)\n",
    "print(\"Vertically Stacked Array:\\\\n\", vstacked_arr)"
   ]
  },
  {
   "cell_type": "code",
   "execution_count": null,
   "metadata": {},
   "outputs": [],
   "source": [
    "arr = np.arange(9).reshape(3, 3)\n",
    "split_arr = np.split(arr, 3)\n",
    "hsplit_arr = np.hsplit(arr, 3)\n",
    "vsplit_arr = np.vsplit(arr, 3)\n",
    "\n",
    "print(\"Split Array:\", split_arr)\n",
    "print(\"Horizontally Split Array:\", hsplit_arr)\n",
    "print(\"Vertically Split Array:\\\\n\", vsplit_arr)"
   ]
  },
  {
   "cell_type": "markdown",
   "metadata": {},
   "source": [
    "## 4. 배열 연산"
   ]
  },
  {
   "cell_type": "markdown",
   "metadata": {},
   "source": [
    "### 4-1. 기본연산\n",
    "\n",
    "- **np.add()**: 두 배열의 요소를 더합니다.\n",
    "- **np.subtract()**: 두 배열의 요소를 뺍니다.\n",
    "- **np.multiply()**: 두 배열의 요소를 곱합니다.\n",
    "- **np.divide()**: 두 배열의 요소를 나눕니다."
   ]
  },
  {
   "cell_type": "markdown",
   "metadata": {},
   "source": [
    "### 스칼라 + 벡터 연산\n",
    "\n",
    "$$\n",
    "\\begin{align}\n",
    "x=\n",
    "\\begin{bmatrix}\n",
    "1 \\\\\n",
    "2 \\\\\n",
    "3 \\\\\n",
    "\\end{bmatrix}\n",
    "\\end{align}\n",
    "$$\n",
    "\n",
    "$$\n",
    "\\begin{align}\n",
    "10 - x = 10 -\n",
    "\\begin{bmatrix}\n",
    "1 \\\\\n",
    "2 \\\\\n",
    "3 \\\\\n",
    "\\end{bmatrix}\n",
    "=\n",
    "\\begin{bmatrix}\n",
    "10 - 1 \\\\\n",
    "10 - 2 \\\\\n",
    "10 - 3 \\\\\n",
    "\\end{bmatrix}\n",
    "=\n",
    "\\begin{bmatrix}\n",
    "9 \\\\\n",
    "8 \\\\\n",
    "7 \\\\\n",
    "\\end{bmatrix}\n",
    "\\end{align}\n",
    "$$\n",
    "\n",
    "$$\n",
    "\\begin{align}\n",
    "10 \\times\n",
    "\\begin{bmatrix}\n",
    "1 & 2 \\\\\n",
    "3 & 4\n",
    "\\end{bmatrix}\n",
    "=\n",
    "\\begin{bmatrix}\n",
    "10\\times1 & 10\\times2 \\\\\n",
    "10\\times3 & 10\\times4 \\\\\n",
    "\\end{bmatrix}\n",
    "=\n",
    "\\begin{bmatrix}\n",
    "10 & 20 \\\\\n",
    "30 & 40\n",
    "\\end{bmatrix}\n",
    "\\end{align}\n",
    "$$"
   ]
  },
  {
   "cell_type": "code",
   "execution_count": null,
   "metadata": {},
   "outputs": [],
   "source": [
    "x = np.array([1,2,3])\n",
    "print(10-x) #[10-1, 10-2, 10-3]\n",
    "print(10*x)\n",
    "print(10/x)"
   ]
  },
  {
   "cell_type": "code",
   "execution_count": null,
   "metadata": {},
   "outputs": [],
   "source": [
    "print(x > 1.5) #[1>1.5, 2 >1.5, 3>1.5]\n",
    "print((x>1) & (x<2))"
   ]
  },
  {
   "cell_type": "code",
   "execution_count": null,
   "metadata": {},
   "outputs": [],
   "source": [
    "y = np.arange(6).reshape(2,3)\n",
    "r = y + 10\n",
    "\n",
    "print(r.shape)\n",
    "r, y > 3"
   ]
  },
  {
   "cell_type": "markdown",
   "metadata": {},
   "source": [
    "### 벡터 + 벡터 연산\n",
    "\n",
    "$$\n",
    "\\begin{align}\n",
    "\\begin{bmatrix}\n",
    "1 \\\\\n",
    "2 \\\\\n",
    "3 \\\\\n",
    "\\end{bmatrix}\n",
    "+\n",
    "\\begin{bmatrix}\n",
    "10 \\\\\n",
    "20 \\\\\n",
    "30 \\\\\n",
    "\\end{bmatrix}\n",
    "=\n",
    "\\begin{bmatrix}\n",
    "1 + 10 \\\\\n",
    "2 + 20 \\\\\n",
    "3 + 30 \\\\\n",
    "\\end{bmatrix}\n",
    "=\n",
    "\\begin{bmatrix}\n",
    "11 \\\\\n",
    "22 \\\\\n",
    "33 \\\\\n",
    "\\end{bmatrix}\n",
    "\\end{align}\n",
    "$$\n",
    "\n",
    "$$\n",
    "\\begin{align}\n",
    "\\begin{bmatrix}\n",
    "1 \\\\\n",
    "2 \\\\\n",
    "3 \\\\\n",
    "\\end{bmatrix}\n",
    "-\n",
    "\\begin{bmatrix}\n",
    "10 \\\\\n",
    "20 \\\\\n",
    "30 \\\\\n",
    "\\end{bmatrix}\n",
    "=\n",
    "\\begin{bmatrix}\n",
    "1 - 10 \\\\\n",
    "2 - 20 \\\\\n",
    "3 - 30 \\\\\n",
    "\\end{bmatrix}\n",
    "=\n",
    "\\begin{bmatrix}\n",
    "-9 \\\\\n",
    "-18 \\\\\n",
    "-27 \\\\\n",
    "\\end{bmatrix}\n",
    "\\end{align}\n",
    "$$\n",
    "\n",
    "$$\n",
    "\\begin{align}\n",
    "\\begin{bmatrix}\n",
    "1 & 2 \\\\\n",
    "3 & 4\n",
    "\\end{bmatrix}\n",
    "+\n",
    "\\begin{bmatrix}\n",
    "10 & 20 \\\\\n",
    "30 & 40 \\\\\n",
    "\\end{bmatrix}\n",
    "=\n",
    "\\begin{bmatrix}\n",
    "1+10 & 2+20 \\\\\n",
    "3+30 & 4+40\n",
    "\\end{bmatrix}\n",
    "\\end{align}\n",
    "$$"
   ]
  },
  {
   "cell_type": "code",
   "execution_count": null,
   "metadata": {},
   "outputs": [],
   "source": [
    "a = np.arange(1,5).reshape(2,2)\n",
    "b = np.arange(6,10).reshape(2,2)\n",
    "\n",
    "# 사칙연산의 경우 각 index끼리 연산이 된다.\n",
    "print(a+b)\n",
    "print(a-b)\n",
    "print(a*b)\n",
    "print(a/b)"
   ]
  },
  {
   "cell_type": "code",
   "execution_count": null,
   "metadata": {},
   "outputs": [],
   "source": [
    "# 배열간의 연산\n",
    "# 피연산자인 배열들의 shape이 동일해야 연산이 가능. (2,2,5) + (2,2,5)\n",
    "\n",
    "a = np.array([10,20,30])\n",
    "b = np.array([100, 200, 300])\n",
    "r = a + b\n",
    "print(a.shape, b.shape, r.shape)\n",
    "r"
   ]
  },
  {
   "cell_type": "code",
   "execution_count": 131,
   "metadata": {},
   "outputs": [
    {
     "data": {
      "text/plain": [
       "array([  1,  16, 243])"
      ]
     },
     "execution_count": 131,
     "metadata": {},
     "output_type": "execute_result"
    }
   ],
   "source": [
    "a = np.array([1,2,3])\n",
    "b = np.array([3,4,5])\n",
    "a**b"
   ]
  },
  {
   "cell_type": "markdown",
   "metadata": {},
   "source": [
    "### 4-2. 범용 함수\n",
    "#### 단항 범용 함수\n",
    "- 매개변수로 한개의 배열을 받는다.\n",
    "- 한 배열내의 원소별로 연산\n",
    "\n",
    "<img src=\"https://velog.velcdn.com/images/newnew_daddy/post/fa89baf0-554f-4599-82af-27c17b260b61/image.png\" width=\"40%\">"
   ]
  },
  {
   "cell_type": "code",
   "execution_count": null,
   "metadata": {},
   "outputs": [],
   "source": [
    "arr = np.array([1, 2, 3, 4])\n",
    "\n",
    "sqrt_arr = np.sqrt(arr)\n",
    "exp_arr = np.exp(arr)\n",
    "log_arr = np.log(arr)\n",
    "sin_arr = np.sin(arr)\n",
    "cos_arr = np.cos(arr)\n",
    "\n",
    "print(\"Square Root Array:\", sqrt_arr)\n",
    "print(\"Exponential Array:\", exp_arr)\n",
    "print(\"Logarithm Array:\", log_arr)\n",
    "print(\"Sine Array:\", sin_arr)\n",
    "print(\"Cosine Array:\", cos_arr)"
   ]
  },
  {
   "cell_type": "markdown",
   "metadata": {},
   "source": [
    "#### 이항 범용 함수\n",
    "- 매개변수로 두개의 배열을 받는다.\n",
    "- 두 배열의 같은 index 원소별로 연산\n",
    "\n",
    "<img src=\"https://velog.velcdn.com/images/newnew_daddy/post/f9617af4-f6ac-44da-a9fd-a979703189ab/image.png\" width=\"40%\">"
   ]
  },
  {
   "cell_type": "code",
   "execution_count": 137,
   "metadata": {},
   "outputs": [
    {
     "name": "stdout",
     "output_type": "stream",
     "text": [
      "[5 7 9]\n",
      "Added Array: [5 7 9]\n",
      "Subtracted Array: [-3 -3 -3]\n",
      "Multiplied Array: [ 4 10 18]\n",
      "Divided Array: [0.25 0.4  0.5 ]\n"
     ]
    }
   ],
   "source": [
    "arr1 = np.array([1, 2, 3])\n",
    "arr2 = np.array([4, 5, 6])\n",
    "\n",
    "add_arr = np.add(arr1, arr2)\n",
    "sub_arr = np.subtract(arr1, arr2)\n",
    "mul_arr = np.multiply(arr1, arr2)\n",
    "div_arr = np.divide(arr1, arr2)\n",
    "\n",
    "print(arr1 + arr2)\n",
    "print(\"Added Array:\", add_arr)\n",
    "print(\"Subtracted Array:\", sub_arr)\n",
    "print(\"Multiplied Array:\", mul_arr)\n",
    "print(\"Divided Array:\", div_arr)"
   ]
  },
  {
   "cell_type": "code",
   "execution_count": 138,
   "metadata": {},
   "outputs": [
    {
     "name": "stdout",
     "output_type": "stream",
     "text": [
      "[4 2 2] [4.  2.5 2. ]\n",
      "[0 1 0] [0 1 0]\n"
     ]
    }
   ],
   "source": [
    "# 몫연산\n",
    "print(np.floor_divide(arr2, arr1), arr2/arr1)\n",
    "# 나머지연산\n",
    "print(np.mod(arr2, arr1), arr2%arr1)"
   ]
  },
  {
   "cell_type": "code",
   "execution_count": 139,
   "metadata": {},
   "outputs": [
    {
     "name": "stdout",
     "output_type": "stream",
     "text": [
      "[4 5 6]\n",
      "[1 2 3]\n"
     ]
    }
   ],
   "source": [
    "print(np.maximum(arr1, arr2))\n",
    "print(np.minimum(arr1, arr2))"
   ]
  },
  {
   "cell_type": "code",
   "execution_count": 140,
   "metadata": {},
   "outputs": [
    {
     "name": "stdout",
     "output_type": "stream",
     "text": [
      "[False False False]\n",
      "[ True  True  True]\n"
     ]
    }
   ],
   "source": [
    "print(np.greater(arr1, arr2))\n",
    "print(np.less(arr1, arr2))"
   ]
  },
  {
   "cell_type": "markdown",
   "metadata": {},
   "source": [
    "#### 기술통계함수\n",
    "- 통계 결과를 계산해 주는 함수들\n",
    "        \n",
    "<img src=\"https://velog.velcdn.com/images/newnew_daddy/post/35351b19-db7d-4915-9e97-49db02655357/image.png\" width=\"40%\">\n",
    "\n",
    "- https://docs.scipy.org/doc/numpy-1.15.1/reference/routines.statistics.html"
   ]
  },
  {
   "cell_type": "markdown",
   "metadata": {},
   "source": [
    "- Quantile(분위수) -> np.quantile(행렬, 분위수(0~1사이))\n",
    "    >Quantile이란 주어진 데이터를 동등한 크기로 분할하는 지점을 말합니다. 예를 들어, 시험을 치고 상위 10%에 속하는지를 확인하고 싶다면 점수 데이터를 정렬한 뒤 데이터의 수를 10개의 동등한 크기, 즉 각 그룹이 같은 데이터 수를 보유하도로 분할하면 됩니다.\n",
    "\n",
    "<img src=\"https://velog.velcdn.com/images/newnew_daddy/post/cf1af72c-c72a-45d1-b23f-096946755530/image.png\" width=\"40%\">\n",
    "\n",
    "- Percentile(백분위수) -> np.percentile(행렬, 0~100)\n",
    "    >Percentile은 데이터를 100등분하는 지점을 말합니다. 보통 흔히 상위 몇%라고 말할때 주로 사용하는게 바로 이 percentile입니다."
   ]
  },
  {
   "cell_type": "code",
   "execution_count": null,
   "metadata": {},
   "outputs": [],
   "source": [
    "arr = np.array([1, 2, 3, 4, 5])\n",
    "\n",
    "sum_val = np.sum(arr)\n",
    "mean_val = np.mean(arr)\n",
    "median_val = np.median(arr)\n",
    "std_val = np.std(arr)\n",
    "var_val = np.var(arr)\n",
    "\n",
    "print(\"Sum:\", sum_val)\n",
    "print(\"Mean:\", mean_val)\n",
    "print(\"Median:\", median_val)\n",
    "print(\"Standard Deviation:\", std_val)\n",
    "print(\"Variance:\", var_val)"
   ]
  },
  {
   "cell_type": "code",
   "execution_count": 142,
   "metadata": {},
   "outputs": [
    {
     "data": {
      "text/plain": [
       "array([22,  5, 19, 39,  3, 45, 28,  3, 28, 24])"
      ]
     },
     "execution_count": 142,
     "metadata": {},
     "output_type": "execute_result"
    }
   ],
   "source": [
    "p = np.random.randint(50, size=10)\n",
    "p"
   ]
  },
  {
   "cell_type": "code",
   "execution_count": 145,
   "metadata": {},
   "outputs": [
    {
     "name": "stdout",
     "output_type": "stream",
     "text": [
      "14.799999999999997\n",
      "13.828955130450023\n",
      "191.24\n",
      "5\n",
      "4\n",
      "23.0\n",
      "4.6\n",
      "8.5\n"
     ]
    }
   ],
   "source": [
    "print(np.quantile(p, 0.3))\n",
    "print(np.std(p)) # 표준편차\n",
    "print(np.var(p)) # 분산\n",
    "print(np.argmax(p)) # 최대값 index\n",
    "print(np.argmin(p)) # 최소값 index\n",
    "print(np.median(p)) # 중앙값\n",
    "print(np.quantile(p,0.2))\n",
    "print(np.percentile(p,25))"
   ]
  },
  {
   "cell_type": "markdown",
   "metadata": {},
   "source": [
    "### 4-2. 브로드캐스팅\n",
    "<img src=\"https://velog.velcdn.com/images/newnew_daddy/post/30555f79-aaf7-46bf-97a4-227d7e34c81a/image.png\" width=\"60%\">\n",
    "<img src=\"https://velog.velcdn.com/images/newnew_daddy/post/86b08b01-7b78-4a79-ac1e-461166cbf3ea/image.png\" width=\"60%\">\n",
    "\n",
    "- **브로드캐스팅의 개념**\n",
    "    - 브로드캐스팅은 다른 크기의 배열 간의 연산을 가능하게 합니다.\n",
    "    - 배열 간의 연산을 수행할 때, 자동으로 적절한 형상으로 맞춰주어 동일한 크기의 배열로 만들어 주는 과정\n",
    "- **브로드캐스팅 규칙**\n",
    "    1. 배열의 rank (배열의 차원 수)가 서로 다를 경우, 차원이 더 작은 배열의 앞쪽에 1을 추가합니다.\n",
    "    2. 배열의 shape (형상)이 맞지 않을 경우, 둘 중 하나의 배열의 shape가 1이면 해당 차원을 늘려서 맞춥니다.\n",
    "    3. 두 배열의 각 차원에서 크기가 다르고, 그 중 하나가 1도 아니라면, 두 배열은 호환되지 않으며 브로드캐스팅이 불가능합니다."
   ]
  },
  {
   "cell_type": "code",
   "execution_count": null,
   "metadata": {},
   "outputs": [],
   "source": [
    "# 배열과 스칼라의 덧셈\n",
    "\n",
    "array = np.array([1, 2, 3])\n",
    "scalar = 5\n",
    "\n",
    "result = array + scalar\n",
    "print(result)  # 출력: [6 7 8]"
   ]
  },
  {
   "cell_type": "code",
   "execution_count": null,
   "metadata": {},
   "outputs": [],
   "source": [
    "# 1차원 배열과 2차원 배열의 덧셈\n",
    "## 여기서 array_1d는 (1, 3) 형상을 가지고, array_2d는 (2, 3) 형상을 가집니다. array_1d는 자동으로 (2, 3) 형상으로 맞춰져서 계산\n",
    "\n",
    "array_1d = np.array([1, 2, 3])\n",
    "array_2d = np.array([[10, 20, 30], [40, 50, 60]])\n",
    "\n",
    "result = array_2d + array_1d\n",
    "print(result)"
   ]
  },
  {
   "cell_type": "code",
   "execution_count": null,
   "metadata": {},
   "outputs": [],
   "source": [
    "# 2차원 배열과 1차원 배열의 덧셈\n",
    "## 여기서 array_2d는 (3, 1) 형상을 가지고, array_1d는 (3,) 형상을 가집니다. array_1d는 (1, 3) 형상으로 변환되어 계산됩니다.\n",
    "\n",
    "array_2d = np.array([[1], [2], [3]])\n",
    "array_1d = np.array([10, 20, 30])\n",
    "\n",
    "result = array_2d + array_1d\n",
    "print(result)"
   ]
  },
  {
   "cell_type": "code",
   "execution_count": 5,
   "metadata": {},
   "outputs": [
    {
     "name": "stdout",
     "output_type": "stream",
     "text": [
      "[[[11 21 31]\n",
      "  [12 22 32]\n",
      "  [13 23 33]]\n",
      "\n",
      " [[14 24 34]\n",
      "  [15 25 35]\n",
      "  [16 26 36]]]\n",
      "(2, 3, 1) (1, 3) (2, 3, 3)\n"
     ]
    },
    {
     "data": {
      "text/plain": [
       "(None, None)"
      ]
     },
     "execution_count": 5,
     "metadata": {},
     "output_type": "execute_result"
    }
   ],
   "source": [
    "# 3차원 배열과 2차원 배열의 덧셈\n",
    "## 여기서 array_3d는 (2, 3, 1) 형상을 가지고, array_2d는 (1, 3) 형상을 가집니다. array_2d는 (2, 3, 3) 형상으로 변환되어 계산됩니다.\n",
    "\n",
    "array_3d = np.array([[[1], [2], [3]], [[4], [5], [6]]])\n",
    "array_2d = np.array([[10, 20, 30]])\n",
    "\n",
    "result = array_3d + array_2d\n",
    "print(result), print(array_3d.shape, array_2d.shape, result.shape)"
   ]
  },
  {
   "cell_type": "code",
   "execution_count": 6,
   "metadata": {},
   "outputs": [
    {
     "name": "stdout",
     "output_type": "stream",
     "text": [
      "Conditional Indexing Result: [2 4]\n"
     ]
    }
   ],
   "source": [
    "arr = np.array([1, 2, 3, 4, 5])\n",
    "cond = (arr % 2 == 0)\n",
    "filtered_arr = arr[cond]\n",
    "\n",
    "print(\"Conditional Indexing Result:\", filtered_arr)"
   ]
  },
  {
   "cell_type": "markdown",
   "metadata": {},
   "source": [
    "## 5. 배열 조작 2"
   ]
  },
  {
   "cell_type": "markdown",
   "metadata": {},
   "source": [
    "### 5-1. 인덱싱"
   ]
  },
  {
   "cell_type": "code",
   "execution_count": null,
   "metadata": {},
   "outputs": [],
   "source": [
    "## 조건에 따른 인덱싱 1\n",
    "\n",
    "arr = np.array([1, 2, 3, 4, 5])\n",
    "bool_idx = arr > 2\n",
    "filtered_arr = arr[bool_idx]\n",
    "\n",
    "print(\"Boolean Indexing Result:\", filtered_arr)"
   ]
  },
  {
   "cell_type": "code",
   "execution_count": null,
   "metadata": {},
   "outputs": [],
   "source": [
    "## 조건에 다른 인덱싱 2\n",
    "\n",
    "arr = np.array([1, 2, 3, 4, 5])\n",
    "cond = (arr % 2 == 0)\n",
    "filtered_arr = arr[cond]\n",
    "\n",
    "print(\"Conditional Indexing Result:\", filtered_arr)\n"
   ]
  },
  {
   "cell_type": "code",
   "execution_count": null,
   "metadata": {},
   "outputs": [],
   "source": [
    "## 인덱스 배열을 사용한 인덱싱\n",
    "\n",
    "arr = np.array([10, 20, 30, 40, 50])\n",
    "indices = [0, 2, 4]\n",
    "fancy_indexed_arr = arr[indices]\n",
    "\n",
    "print(\"Fancy Indexing Result:\", fancy_indexed_arr)\n"
   ]
  },
  {
   "cell_type": "markdown",
   "metadata": {},
   "source": [
    "### 5-2. 배열 정렬\n",
    "- Numpy 배열을 기준에 따라 정렬\n",
    "  - sort\n",
    "  - lexsort\n",
    "  - where\n",
    "  - searchsorted\n",
    "  - extract"
   ]
  },
  {
   "cell_type": "code",
   "execution_count": null,
   "metadata": {},
   "outputs": [],
   "source": [
    "## np.sort - 배열을 정렬\n",
    "\n",
    "array = np.array([3, 1, 2, 5, 4])\n",
    "sorted_array = np.sort(array)\n",
    "print(\"Original array:\", array)\n",
    "print(\"Sorted array:\", sorted_array)"
   ]
  },
  {
   "cell_type": "code",
   "execution_count": 48,
   "metadata": {},
   "outputs": [
    {
     "name": "stdout",
     "output_type": "stream",
     "text": [
      "Names sorted: ['Alice' 'Joe' 'John' 'John']\n",
      "Ages sorted: [24 25 23 25]\n"
     ]
    }
   ],
   "source": [
    "## np.lexsort - 여러 키를 기반으로 배열을 정렬. 키는 마지막 배열부터 첫 번째 배열의 순서로 사용됩니다.\n",
    "\n",
    "names = ('John', 'John', 'Joe', 'Alice')\n",
    "ages = (25, 23, 25, 24)\n",
    "\n",
    "# lexsort는 마지막 키부터 정렬하므로, 이름이 동일할 때 나이를 기준으로 정렬\n",
    "indices = np.lexsort((ages, names))\n",
    "sorted_names = np.array(names)[indices]\n",
    "sorted_ages = np.array(ages)[indices]\n",
    "\n",
    "print(\"Names sorted:\", sorted_names)\n",
    "print(\"Ages sorted:\", sorted_ages)"
   ]
  },
  {
   "cell_type": "code",
   "execution_count": 41,
   "metadata": {},
   "outputs": [
    {
     "name": "stdout",
     "output_type": "stream",
     "text": [
      "Indices where array > 3: (array([3, 4], dtype=int64),)\n",
      "New array: [ 1  2  3 40 50]\n"
     ]
    }
   ],
   "source": [
    "## np.where - 조건에 따라 배열의 인덱스나 값을 반환\n",
    "\n",
    "array = np.array([1, 2, 3, 4, 5])\n",
    "condition = array > 3\n",
    "\n",
    "# 조건을 만족하는 요소의 인덱스를 반환\n",
    "indices = np.where(condition)\n",
    "print(\"Indices where array > 3:\", indices)\n",
    "\n",
    "# 조건을 만족하는 요소를 특정 값으로 대체\n",
    "new_array = np.where(condition, array * 10, array)\n",
    "print(\"New array:\", new_array)\n"
   ]
  },
  {
   "cell_type": "code",
   "execution_count": 45,
   "metadata": {},
   "outputs": [
    {
     "name": "stdout",
     "output_type": "stream",
     "text": [
      "Indices to insert values: [2 4]\n"
     ]
    }
   ],
   "source": [
    "## np.searchsorted -  정렬된 배열에 값을 삽입할 위치를 반환\n",
    "\n",
    "sorted_array = np.array([1, 2, 4, 5, 7])\n",
    "values_to_insert = np.array([3, 6])\n",
    "\n",
    "indices = np.searchsorted(sorted_array, values_to_insert)\n",
    "print(\"Indices to insert values:\", indices)"
   ]
  },
  {
   "cell_type": "code",
   "execution_count": 47,
   "metadata": {},
   "outputs": [
    {
     "name": "stdout",
     "output_type": "stream",
     "text": [
      "Extracted elements: [2 3 4 5]\n"
     ]
    }
   ],
   "source": [
    "## np.extract - 조건을 만족하는 배열의 요소를 추출\n",
    "\n",
    "array = np.array([1, 2, 3, 4, 5])\n",
    "condition = array > 1.5\n",
    "\n",
    "# 조건을 만족하는 요소를 추출\n",
    "extracted_elements = np.extract(condition, array)\n",
    "print(\"Extracted elements:\", extracted_elements)"
   ]
  },
  {
   "cell_type": "markdown",
   "metadata": {},
   "source": [
    "### 5-3. arg로 시작하는 함수들\n",
    "- 배열에서 특정 조건을 만족하는 요소의 인덱스를 찾거나, 배열의 정렬과 관련된 작업을 수행\n",
    "  - argmax\n",
    "  - argmin\n",
    "  - argsort\n",
    "  - argwhere\n",
    "  - argpartition"
   ]
  },
  {
   "cell_type": "code",
   "execution_count": null,
   "metadata": {},
   "outputs": [],
   "source": [
    "## argmax - 배열에서 최대값을 가지는 요소의 인덱스를 반환합니다.\n",
    "\n",
    "arr = np.array([1, 3, 2, 7, 4])\n",
    "index = np.argmax(arr)\n",
    "print(index)"
   ]
  },
  {
   "cell_type": "code",
   "execution_count": null,
   "metadata": {},
   "outputs": [],
   "source": [
    "## argmin - 배열에서 최소값을 가지는 요소의 인덱스를 반환합니다.\n",
    "\n",
    "arr = np.array([1, 3, 2, 0, 4])\n",
    "index = np.argmin(arr)\n",
    "print(index)  # 출력: 3"
   ]
  },
  {
   "cell_type": "code",
   "execution_count": 9,
   "metadata": {},
   "outputs": [
    {
     "name": "stdout",
     "output_type": "stream",
     "text": [
      "[1 2 0]\n",
      "[0 2 1]\n"
     ]
    }
   ],
   "source": [
    "## argsort - 배열을 오름차순 정렬했을 때 원래 배열의 요소들이 이동한 위치를 나타내는 인덱스를 반환\n",
    "\n",
    "arr = np.array([3, 1, 2])\n",
    "indices = np.argsort(arr)\n",
    "print(indices)  # 출력: [1, 2, 0]\n",
    "\n",
    "## 내림차순\n",
    "indices = np.argsort(arr)[::-1]\n",
    "print(indices)  # 출력: [1, 2, 0]"
   ]
  },
  {
   "cell_type": "code",
   "execution_count": 10,
   "metadata": {},
   "outputs": [
    {
     "name": "stdout",
     "output_type": "stream",
     "text": [
      "[[3]\n",
      " [4]]\n"
     ]
    }
   ],
   "source": [
    "## argwhere - 조건을 만족하는 요소들의 인덱스를 반환. 2차원 이상의 배열도 적용 가능\n",
    "\n",
    "arr = np.array([1, 2, 3, 4, 5])\n",
    "indices = np.argwhere(arr > 3)\n",
    "print(indices)  # 출력: [[3], [4]]"
   ]
  },
  {
   "cell_type": "code",
   "execution_count": 38,
   "metadata": {},
   "outputs": [
    {
     "name": "stdout",
     "output_type": "stream",
     "text": [
      "Origin\n",
      "[[6 3 7 4 6 9 2]\n",
      " [6 7 4 3 7 7 2]\n",
      " [5 4 1 7 5 1 4]\n",
      " [0 9 5 8 0 9 2]]\n",
      "partiton\n",
      "[[3 2 4 6 6 9 7]\n",
      " [2 3 4 6 7 7 7]\n",
      " [1 4 1 4 5 5 7]\n",
      " [0 0 2 5 8 9 9]]\n",
      "argpartiton\n",
      "[[1 6 3 4 0 5 2]\n",
      " [6 3 2 0 5 1 4]\n",
      " [5 6 2 1 0 4 3]\n",
      " [4 0 6 2 3 5 1]]\n"
     ]
    }
   ],
   "source": [
    "## np.partition(arr, n) - 배열의 순서에 상관없이 작은 숫자를 n개 뽑아 왼쪽으로 놓겠다.\n",
    "## argpartition - 배열을 부분 정렬하여 지정된 k번째 요소를 기준으로 작은 값들은 앞쪽에, 큰 값들은 뒤쪽에 배치하고 그 인덱스를 반환\n",
    "\n",
    "rand = np.random.RandomState(42)\n",
    "arr = rand.randint(0, 10, (4,7))\n",
    "\n",
    "print(\"Origin\")\n",
    "print(arr)\n",
    "print(\"partiton\")\n",
    "print(np.partition(arr, 4, axis=1))\n",
    "print(\"argpartiton\")\n",
    "print(np.argpartition(arr, 4, axis=1))"
   ]
  }
 ],
 "metadata": {
  "kernelspec": {
   "display_name": "lecture",
   "language": "python",
   "name": "python3"
  },
  "language_info": {
   "codemirror_mode": {
    "name": "ipython",
    "version": 3
   },
   "file_extension": ".py",
   "mimetype": "text/x-python",
   "name": "python",
   "nbconvert_exporter": "python",
   "pygments_lexer": "ipython3",
   "version": "3.12.4"
  }
 },
 "nbformat": 4,
 "nbformat_minor": 2
}
