{
 "cells": [
  {
   "cell_type": "markdown",
   "metadata": {},
   "source": [
    "## 6. 선형대수"
   ]
  },
  {
   "cell_type": "markdown",
   "metadata": {},
   "source": [
    "### 6-1. 선형대수 함수\n",
    "- np.dot()\n",
    "- np.transpose()\n",
    "- np.linalg.inv()\n",
    "- np.linalg.det()\n",
    "- np.linalg.eig() -> https://6mini.github.io/did%20unknown/2021/08/14/didunk6/"
   ]
  },
  {
   "cell_type": "markdown",
   "metadata": {},
   "source": [
    "#### 내적연산(dot product)\n",
    "\n",
    "- `@` 연산자 또는 `numpy.dot(벡터/행렬, 벡터/행렬)`  함수 사용\n",
    "- 벡터간의 내적\n",
    "    - 같은 index의 원소끼리 곱한뒤 결과를 모두 더한다.\n",
    "    - 벡터간의 내적의 결과는 스칼라가 된다.\n",
    "    - $ x \\cdot y $ 또는 $x^T y$로 표현\n",
    "    - 조건\n",
    "        - 두 벡터의 차원(원소의개수)가 같아야 한다.\n",
    "        - 앞의 벡터는 행벡터 뒤의 벡터는 열벡터 이어야 한다.\n",
    "            - numpy 에서는 vector 끼리 연산시 앞의 벡터는 행벡터로 뒤의 벡터는 열벡터로 인식해 처리한다.\n",
    "\n",
    "$$\n",
    "\\begin{align}\n",
    "x =\n",
    "\\begin{bmatrix}\n",
    "1 \\\\ 2 \\\\ 3 \\\\\n",
    "\\end{bmatrix}\n",
    ",\\;\\;\\;\n",
    "y = \n",
    "\\begin{bmatrix}\n",
    "4 \\\\ 5 \\\\ 6 \\\\\n",
    "\\end{bmatrix} \n",
    "\\end{align}\n",
    "$$\n",
    "\n",
    "$$\n",
    "\\begin{align}\n",
    "x^T y = \n",
    "\\begin{bmatrix}\n",
    "1 & 2 & 3\n",
    "\\end{bmatrix}\n",
    "\\begin{bmatrix}\n",
    "4 \\\\ 5 \\\\ 6 \\\\\n",
    "\\end{bmatrix} \n",
    "= 1 \\times 4 + 2 \\times 5 + 3 \\times 6 = 32\n",
    "\\end{align}\n",
    "$$\n",
    "\n",
    "#### 내적연산의 조건\n",
    "- 앞 행렬의 행과 뒤 행렬의 열간에 내적을 한다.\n",
    "- 행렬과 행렬을 내적하면 그 결과는 행렬이 된다.\n",
    "- 앞 행렬의 열수와 뒤 행렬의 행수가 같아야 한다.\n",
    "- 내적의 결과의 형태(shape)는 앞행렬의 행수와 뒤 행렬의 열의 형태를 가진다.\n",
    "    - (3 x 2)와 (2 x 5) = (3 x 5)\n",
    "    - (1 x 5)와 (5 x 1) = (1 x 1)    \n",
    "\n",
    "$$\n",
    "\\begin{align}\n",
    "A = \\begin{bmatrix} 1 & 2 & 3 \\\\ 4 & 5 & 6 \\end{bmatrix}\n",
    "\\end{align}\n",
    "$$\n",
    "\n",
    "$$\n",
    "\\begin{align}\n",
    "B = \\begin{bmatrix} 1 & 2 \\\\ 3 & 4 \\\\ 5 & 6 \\end{bmatrix}\n",
    "\\end{align}\n",
    "$$\n",
    "\n",
    "$$\n",
    "\\begin{align}\n",
    "A\\cdot B = \\begin{bmatrix} 1\\times 1 + 2\\times 3 + 3 \\times 5 & 1\\times 2 + 2\\times 4 + 3 \\times 6  \\\\ 4\\times 1 + 5\\times 3 + 6 \\times 5  & 4\\times 2 + 5\\times 4 + 6 \\times 6  \\end{bmatrix} = \n",
    "\\begin{bmatrix} 22 & 28 \\\\ 49 & 64 \\end{bmatrix}\n",
    "\\end{align}\n",
    "$$"
   ]
  },
  {
   "cell_type": "code",
   "execution_count": 129,
   "metadata": {},
   "outputs": [
    {
     "data": {
      "text/plain": [
       "(array([[110, 120, 130],\n",
       "        [262, 288, 314],\n",
       "        [414, 456, 498]]),\n",
       " array([[110, 120, 130],\n",
       "        [262, 288, 314],\n",
       "        [414, 456, 498]]))"
      ]
     },
     "execution_count": 129,
     "metadata": {},
     "output_type": "execute_result"
    }
   ],
   "source": [
    "a1 = np.arange(1,13).reshape(3,4)\n",
    "b1 = np.arange(5,17).reshape(4,3)\n",
    "c1 = np.arange(6).reshape(3,2)\n",
    "\n",
    "np.dot(a1,b1), a1@b1"
   ]
  },
  {
   "cell_type": "code",
   "execution_count": 130,
   "metadata": {},
   "outputs": [
    {
     "data": {
      "text/plain": [
       "(array([[ 760, 1120],\n",
       "        [1832, 2696],\n",
       "        [2904, 4272]]),\n",
       " array([[ 760, 1120],\n",
       "        [1832, 2696],\n",
       "        [2904, 4272]]))"
      ]
     },
     "execution_count": 130,
     "metadata": {},
     "output_type": "execute_result"
    }
   ],
   "source": [
    "np.dot(np.dot(a1,b1),c1), (a1@b1)@c1"
   ]
  },
  {
   "cell_type": "code",
   "execution_count": 58,
   "metadata": {},
   "outputs": [
    {
     "name": "stdout",
     "output_type": "stream",
     "text": [
      "[[1 2]\n",
      " [3 4]]\n",
      "[[5 6]\n",
      " [7 8]]\n",
      "Dot Product:\n",
      " [[19 22]\n",
      " [43 50]]\n",
      "Transposed Array:\n",
      " [[1 3]\n",
      " [2 4]]\n"
     ]
    }
   ],
   "source": [
    "arr1 = np.array([[1, 2], [3, 4]])\n",
    "arr2 = np.array([[5, 6], [7, 8]])\n",
    "print(arr1)\n",
    "print(arr2)\n",
    "# np.dot(): 두 배열의 내적을 계산합니다.\n",
    "dot_product = np.dot(arr1, arr2)\n",
    "print(\"Dot Product:\\n\", dot_product)\n",
    "\n",
    "# np.transpose(): 배열의 전치를 반환합니다.\n",
    "transposed_arr = np.transpose(arr1)\n",
    "print(\"Transposed Array:\\n\", transposed_arr)"
   ]
  },
  {
   "cell_type": "code",
   "execution_count": 120,
   "metadata": {},
   "outputs": [
    {
     "name": "stdout",
     "output_type": "stream",
     "text": [
      "Inverse Array:\n",
      " [[-2.   1. ]\n",
      " [ 1.5 -0.5]]\n",
      "[[1.0000000e+00 0.0000000e+00]\n",
      " [8.8817842e-16 1.0000000e+00]]\n",
      "Determinant: -2.0000000000000004\n",
      "0.0\n",
      "Eigenvalues: [-0.37228132  5.37228132]\n",
      "Eigenvectors:\n",
      " [[-0.82456484 -0.41597356]\n",
      " [ 0.56576746 -0.90937671]]\n"
     ]
    }
   ],
   "source": [
    "from numpy.linalg import inv, det, eig\n",
    "\n",
    "arr = np.array([[1, 2], [3, 4]])\n",
    "\n",
    "# np.linalg.inv(): 행렬의 역행렬을 계산합니다.\n",
    "inverse_arr = inv(arr)\n",
    "print(\"Inverse Array:\\n\", inverse_arr)\n",
    "print(np.dot(arr, inverse_arr))\n",
    "\n",
    "# np.linalg.det(): 역행렬이 존재하는지 여부를 확인. 0 -> 역행렬 존재 X / 0이외의 값 -> 역행렬 존재\n",
    "determinant = det(arr)\n",
    "print(\"Determinant:\", determinant)\n",
    "print(det(np.array([[0,0], [0,0]])))\n",
    "\n",
    "# np.linalg.eig(): 행렬의 고유값과 고유벡터를 계산합니다.\n",
    "eigenvalues, eigenvectors = eig(arr)\n",
    "print(\"Eigenvalues:\", eigenvalues)\n",
    "print(\"Eigenvectors:\\n\", eigenvectors)\n"
   ]
  },
  {
   "cell_type": "code",
   "execution_count": 124,
   "metadata": {},
   "outputs": [
    {
     "name": "stdout",
     "output_type": "stream",
     "text": [
      "EigResult(eigenvalues=array([6., 2.]), eigenvectors=array([[ 0.70710678, -0.70710678],\n",
      "       [ 0.70710678,  0.70710678]]))\n",
      "Eigenvalue : [6. 2.]\n",
      "Eigenvector : [[ 0.70710678 -0.70710678]\n",
      " [ 0.70710678  0.70710678]]\n"
     ]
    }
   ],
   "source": [
    "arr = np.array([[4, 2], [2, 4]]) # 매트릭스 생성\n",
    "\n",
    "print(eig(arr)) #Eigenvalue와 Eigenvector\n",
    "\n",
    "value = eig(arr)[0] #Eigenvalue\n",
    "vector = eig(arr)[1] #Eigenvector\n",
    "\n",
    "print('Eigenvalue :', value)\n",
    "print('Eigenvector :', vector)"
   ]
  },
  {
   "cell_type": "code",
   "execution_count": 125,
   "metadata": {},
   "outputs": [
    {
     "data": {
      "text/plain": [
       "array([[ 4.24264069, -1.41421356],\n",
       "       [ 4.24264069,  1.41421356]])"
      ]
     },
     "execution_count": 125,
     "metadata": {},
     "output_type": "execute_result"
    }
   ],
   "source": [
    "np.dot(arr, vector)"
   ]
  },
  {
   "cell_type": "code",
   "execution_count": 118,
   "metadata": {},
   "outputs": [
    {
     "data": {
      "text/plain": [
       "((2,), (2, 2))"
      ]
     },
     "execution_count": 118,
     "metadata": {},
     "output_type": "execute_result"
    }
   ],
   "source": [
    "np.array(value).shape, vector.shape"
   ]
  },
  {
   "cell_type": "code",
   "execution_count": 119,
   "metadata": {},
   "outputs": [
    {
     "data": {
      "text/plain": [
       "array([[24, 12],\n",
       "       [ 4,  8]])"
      ]
     },
     "execution_count": 119,
     "metadata": {},
     "output_type": "execute_result"
    }
   ],
   "source": [
    "np.dot([[6, 0], [0, 2]], arr)"
   ]
  },
  {
   "cell_type": "markdown",
   "metadata": {},
   "source": [
    "## 7. 배열 저장 및 불러오기"
   ]
  },
  {
   "cell_type": "markdown",
   "metadata": {},
   "source": [
    "### 7-1. 바이너리 파일로 저장/읽기\n",
    "- **np.save(\"파일경로\", 배열)**\n",
    "    - 배열을 raw 바이너리 형식으로 저장한다. (압축하지 않은)\n",
    "    - 파일명에 확장자로 npy를 붙인다. (무조건 붙인다. abc.xxx 해도 abc.xxx.npy 로 저장)\n",
    "- **np.load(\"파일경로\")**\n",
    "    - 파일에 저장된 배열을 불러온다.\n",
    "- **np.savez(\"파일경로\", 이름=배열, 이름=배열, ...)**\n",
    "    - 여러개의 배열을 저장할 때 사용\n",
    "    - 파일명에 확장자로 npz가 붙는다.\n",
    "    - 내부적으로 압축해서 저장한다.\n",
    "    - load() 함수로 불러오면 저장된 배열목록이 반환 된다. 저장시 지정한 이름을 이용해 조회 "
   ]
  },
  {
   "cell_type": "code",
   "execution_count": 1,
   "metadata": {},
   "outputs": [
    {
     "name": "stdout",
     "output_type": "stream",
     "text": [
      "(5,) (3, 3, 5) (5, 10)\n"
     ]
    }
   ],
   "source": [
    "import numpy as np\n",
    "\n",
    "a = np.array([1, 10, 5, 7, 20])\n",
    "b = np.ones(shape=(3,3,5))\n",
    "c = np.random.normal(10, 2, size=(5,10)) #평균:10, 표준편차:2\n",
    "print(a.shape, b.shape, c.shape)"
   ]
  },
  {
   "cell_type": "code",
   "execution_count": 2,
   "metadata": {},
   "outputs": [],
   "source": [
    "# binary 파일에 배열을 저장\n",
    "# 한파일에 하나에 배열 - save(경로, 배열)\n",
    "# 경로: 상대경로(현재 working directory 기준 경로), . : 현재디렉토리, ..: 상위디렉토리\n",
    "#       절대경로(root 디렉토리부터 전체 경로) - c:\\a\\b\\abc\n",
    "np.save(\"data/array_a\", a)  #data/array_a.npy\n",
    "np.save(\"data/array_b.npy\", b)\n",
    "np.save(\"data/array.c\", c) #data/array.c.npy"
   ]
  },
  {
   "cell_type": "code",
   "execution_count": 3,
   "metadata": {},
   "outputs": [
    {
     "name": "stdout",
     "output_type": "stream",
     "text": [
      "[ 1 10  5  7 20]\n",
      "[[[1. 1. 1. 1. 1.]\n",
      "  [1. 1. 1. 1. 1.]\n",
      "  [1. 1. 1. 1. 1.]]\n",
      "\n",
      " [[1. 1. 1. 1. 1.]\n",
      "  [1. 1. 1. 1. 1.]\n",
      "  [1. 1. 1. 1. 1.]]\n",
      "\n",
      " [[1. 1. 1. 1. 1.]\n",
      "  [1. 1. 1. 1. 1.]\n",
      "  [1. 1. 1. 1. 1.]]]\n",
      "[[ 8.4130659  11.19543239  9.27530979  8.73957262  9.38621063  8.4025236\n",
      "  11.40206669  9.36356144  8.28962679 10.6658509 ]\n",
      " [ 8.29978192 10.36985003 12.05964706  8.58017066  8.67475366 10.93089608\n",
      "   4.89577291  8.34300704 12.15502457  8.05734223]\n",
      " [10.15104087 10.65426095 10.87755188 11.10479966  7.53393409 10.59446406\n",
      "   8.98402937  9.90909378 12.44098816  7.63606038]\n",
      " [ 7.43167508  8.48621674  8.72959296  8.71454025  8.09317757  9.46519291\n",
      "   7.72172066 10.63775799  7.9000678   6.50084424]\n",
      " [ 8.99801634  9.83348618 10.73740148  7.89461481  8.55618807  9.27896608\n",
      "  11.93359474  7.42898445  8.42434498  7.20127248]]\n"
     ]
    }
   ],
   "source": [
    "# 불러오기(load) - load()\n",
    "a2 = np.load('data/array_a.npy')\n",
    "b2 = np.load('data/array_b.npy')\n",
    "c2 = np.load('data/array.c.npy')\n",
    "\n",
    "print(a2)\n",
    "print(b2)\n",
    "print(c2)"
   ]
  },
  {
   "cell_type": "code",
   "execution_count": 4,
   "metadata": {},
   "outputs": [],
   "source": [
    "# 한파일에 여러개 배열 - savez(경로, 이름1=배열, 이름2=배열, ...)\n",
    "np.savez(\"data/array\", a=a, b=b, c=c) #data/array.npz"
   ]
  },
  {
   "cell_type": "code",
   "execution_count": 5,
   "metadata": {},
   "outputs": [
    {
     "data": {
      "text/plain": [
       "NpzFile 'data/array.npz' with keys: a, b, c"
      ]
     },
     "execution_count": 5,
     "metadata": {},
     "output_type": "execute_result"
    }
   ],
   "source": [
    "arrays = np.load('data/array.npz')\n",
    "arrays"
   ]
  },
  {
   "cell_type": "code",
   "execution_count": 6,
   "metadata": {},
   "outputs": [
    {
     "data": {
      "text/plain": [
       "['a', 'b', 'c']"
      ]
     },
     "execution_count": 6,
     "metadata": {},
     "output_type": "execute_result"
    }
   ],
   "source": [
    "# 배열들의 이름들을 조회\n",
    "arrays.files"
   ]
  },
  {
   "cell_type": "code",
   "execution_count": 7,
   "metadata": {},
   "outputs": [
    {
     "name": "stdout",
     "output_type": "stream",
     "text": [
      "[ 1 10  5  7 20]\n",
      "[[[1. 1. 1. 1. 1.]\n",
      "  [1. 1. 1. 1. 1.]\n",
      "  [1. 1. 1. 1. 1.]]\n",
      "\n",
      " [[1. 1. 1. 1. 1.]\n",
      "  [1. 1. 1. 1. 1.]\n",
      "  [1. 1. 1. 1. 1.]]\n",
      "\n",
      " [[1. 1. 1. 1. 1.]\n",
      "  [1. 1. 1. 1. 1.]\n",
      "  [1. 1. 1. 1. 1.]]]\n",
      "[[ 8.4130659  11.19543239  9.27530979  8.73957262  9.38621063  8.4025236\n",
      "  11.40206669  9.36356144  8.28962679 10.6658509 ]\n",
      " [ 8.29978192 10.36985003 12.05964706  8.58017066  8.67475366 10.93089608\n",
      "   4.89577291  8.34300704 12.15502457  8.05734223]\n",
      " [10.15104087 10.65426095 10.87755188 11.10479966  7.53393409 10.59446406\n",
      "   8.98402937  9.90909378 12.44098816  7.63606038]\n",
      " [ 7.43167508  8.48621674  8.72959296  8.71454025  8.09317757  9.46519291\n",
      "   7.72172066 10.63775799  7.9000678   6.50084424]\n",
      " [ 8.99801634  9.83348618 10.73740148  7.89461481  8.55618807  9.27896608\n",
      "  11.93359474  7.42898445  8.42434498  7.20127248]]\n"
     ]
    }
   ],
   "source": [
    "# 각 배열을 조회 - index연산자 사용\n",
    "a3 = arrays['a']\n",
    "b3 = arrays['b']\n",
    "c3 = arrays['c']\n",
    "\n",
    "print(a3)\n",
    "print(b3)\n",
    "print(c3)"
   ]
  },
  {
   "cell_type": "code",
   "execution_count": null,
   "metadata": {},
   "outputs": [],
   "source": []
  },
  {
   "cell_type": "markdown",
   "metadata": {},
   "source": [
    "### 7-2. 텍스트 파일로 저장/읽기\n",
    "- **savetxt(\"파일경로\", 배열 , delimiter='공백')**\n",
    "  - 텍스트 형태로 저장.\n",
    "  - 각 원소는 공백을 기준으로 나뉘며 delimiter 속성으로 구분자를 지정할 수 있다. (delimiter생략시 공백)\n",
    "  - 1차원과 2차원 배열만 저장 가능하다. (3차원 이상은 저장이 안된다.)\n",
    "- **loadtxt(\"파일경로\" ,dtype=float, comments='', delimiter=공백)**"
   ]
  },
  {
   "cell_type": "code",
   "execution_count": 8,
   "metadata": {},
   "outputs": [
    {
     "name": "stdout",
     "output_type": "stream",
     "text": [
      "[[1.5 2.3 3.1]\n",
      " [4.2 5.8 6.5]]\n"
     ]
    }
   ],
   "source": [
    "import numpy as np\n",
    "\n",
    "# 예제 데이터 생성\n",
    "arr = np.array([[1.5, 2.3, 3.1], [4.2, 5.8, 6.5]])\n",
    "\n",
    "print(arr)\n"
   ]
  },
  {
   "cell_type": "code",
   "execution_count": 10,
   "metadata": {},
   "outputs": [],
   "source": [
    "# 데이터를 텍스트 파일로 저장\n",
    "np.savetxt('data/data.txt', arr, delimiter=',')"
   ]
  },
  {
   "cell_type": "code",
   "execution_count": 11,
   "metadata": {},
   "outputs": [
    {
     "name": "stdout",
     "output_type": "stream",
     "text": [
      "[[1.5 2.3 3.1]\n",
      " [4.2 5.8 6.5]]\n"
     ]
    }
   ],
   "source": [
    "# 텍스트 파일에서 데이터 불러오기\n",
    "loaded_data = np.loadtxt('data/data.txt', delimiter=',')\n",
    "\n",
    "print(loaded_data)"
   ]
  },
  {
   "cell_type": "code",
   "execution_count": 13,
   "metadata": {},
   "outputs": [
    {
     "name": "stdout",
     "output_type": "stream",
     "text": [
      "Data loaded from 'data.csv':\\n [[1.5 2.3 3.1]\n",
      " [4.2 5.8 6.5]]\n"
     ]
    }
   ],
   "source": [
    "# CSV 파일에서 데이터 불러오기\n",
    "\n",
    "data = \"1.5,2.3,3.1\\n4.2,5.8,6.5\\n\"\n",
    "with open('data.csv', 'w') as file:\n",
    "    file.write(data)\n",
    "\n",
    "loaded_data = np.loadtxt('data.csv', delimiter=',')\n",
    "print(loaded_data)\n"
   ]
  },
  {
   "cell_type": "code",
   "execution_count": 14,
   "metadata": {},
   "outputs": [
    {
     "name": "stdout",
     "output_type": "stream",
     "text": [
      "[[1.5 2.3 3.1]\n",
      " [4.2 5.8 6.5]]\n"
     ]
    }
   ],
   "source": [
    "# 공백으로 구분된 텍스트 파일에서 데이터 불러오기\n",
    "\n",
    "data = \"1.5 2.3 3.1\\n4.2 5.8 6.5\\n\"\n",
    "with open('data.txt', 'w') as file:\n",
    "    file.write(data)\n",
    "\n",
    "loaded_data = np.loadtxt('data.txt')\n",
    "print(loaded_data)"
   ]
  },
  {
   "cell_type": "code",
   "execution_count": 16,
   "metadata": {},
   "outputs": [
    {
     "name": "stdout",
     "output_type": "stream",
     "text": [
      "[[1.5 2.3 3.1]\n",
      " [4.2 5.8 6.5]]\n"
     ]
    }
   ],
   "source": [
    "# 주석과 헤더가 있는 파일에서 데이터 불러오기\n",
    "\n",
    "data = \"# This is a comment\\n# Another comment\\n1.5 2.3 3.1\\n4.2 5.8 6.5\\n\"\n",
    "with open('data_with_comments.txt', 'w') as file:\n",
    "    file.write(data)\n",
    "\n",
    "loaded_data = np.loadtxt('data_with_comments.txt', comments='#')\n",
    "print(loaded_data)\n"
   ]
  }
 ],
 "metadata": {
  "kernelspec": {
   "display_name": "lecture",
   "language": "python",
   "name": "python3"
  },
  "language_info": {
   "codemirror_mode": {
    "name": "ipython",
    "version": 3
   },
   "file_extension": ".py",
   "mimetype": "text/x-python",
   "name": "python",
   "nbconvert_exporter": "python",
   "pygments_lexer": "ipython3",
   "version": "3.12.4"
  }
 },
 "nbformat": 4,
 "nbformat_minor": 2
}
