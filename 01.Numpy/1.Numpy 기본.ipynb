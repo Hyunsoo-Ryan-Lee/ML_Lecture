{
 "cells": [
  {
   "cell_type": "markdown",
   "metadata": {},
   "source": [
    "## 1. Numpy 소개\n",
    "\n",
    "#### NumPy란 무엇인가?\n",
    "- NumPy는 \"Numerical Python\"의 약자로, 파이썬에서 대규모 다차원 배열과 행렬을 효율적으로 처리할 수 있도록 해주는 라이브러리\n",
    "- 고성능 과학연산을 위한 패키지로 과학 계산, 데이터 분석, 머신러닝 등 다양한 분야에서 사용\n",
    "- MATLAB과 유사한 기능을 제공하여, 기존 MATLAB 사용자들이 쉽게 접근 가능\n",
    "- NumPy는 벡터화된 연산을 지원하여 반복문 없이 빠른 배열 연산이 가능\n",
    "- NumPy의 핵심은 n차원 배열 객체인 `ndarray`\n",
    "#### NumPy 설치 방법\n",
    "- NumPy는 pip를 사용하여 설치할 수 있습니다.\n",
    "> pip install numpy"
   ]
  },
  {
   "cell_type": "markdown",
   "metadata": {},
   "source": [
    "#### 넘파이에서 데이터 구조\n",
    "- **스칼라 (Scalar)**\n",
    "    - 하나의 숫자로 이루어진 데이터\n",
    "- **벡터 (Vector)**\n",
    "    - 여러개의 숫자들을 특정한 순서대로 모아놓은 데이터 모음(데이터 레코드)\n",
    "    - 1D Array (1차원 배열)\n",
    "- **행렬 (Matrix)**\n",
    "    - 벡터들을 모아놓은 데이터 집합\n",
    "    - 2D Array (2차원 배열)\n",
    "- **텐서 (Tensor)**\n",
    "    - 같은 크기의 행렬들(텐서들)을 모아놓은 데이터 집합\n",
    "    - ND Array (다차원 배열)"
   ]
  },
  {
   "cell_type": "markdown",
   "metadata": {},
   "source": [
    "#### 용어\n",
    "- 축 (axis) \n",
    "    - 값들의 나열 방향\n",
    "    - 하나의 축(axis)는 하나의 범주(Category)이다.\n",
    "- 랭크(rank) \n",
    "    - 데이터 집합에서 축의 개수. \n",
    "- 형태/형상(shape)\n",
    "    - 각 축(axis) 별 데이터의 개수\n",
    "- 크기(size) \n",
    "    - 배열내 원소의 총 개수\n",
    "\n",
    "<img src=\"https://velog.velcdn.com/images/newnew_daddy/post/5d3678c2-4e10-4797-9eab-d7e831fc7cd4/image.png\" width=\"40%\">\n",
    "\n",
    "[출처: https://www.oreilly.com/library/view/elegant-scipy/9781491922927/ch01.html ]"
   ]
  },
  {
   "cell_type": "markdown",
   "metadata": {},
   "source": [
    "## 2. Numpy 기본 사용법"
   ]
  },
  {
   "cell_type": "markdown",
   "metadata": {},
   "source": [
    "### 2-1. Numpy 배열 생성"
   ]
  },
  {
   "cell_type": "markdown",
   "metadata": {},
   "source": [
    "- **np.array()**: 파이썬 리스트나 튜플을 배열로 변환합니다.\n",
    "- **np.arange()**: 지정한 간격으로 숫자 배열을 생성합니다.\n",
    "- **np.linspace()**: 지정한 구간을 균등한 간격으로 나눈 배열을 생성합니다."
   ]
  },
  {
   "cell_type": "code",
   "execution_count": 2,
   "metadata": {},
   "outputs": [
    {
     "name": "stdout",
     "output_type": "stream",
     "text": [
      "Array: [1 2 3 4 5]\n",
      "Arange: [0 2 4 6 8]\n",
      "Linspace: [0.   0.25 0.5  0.75 1.  ]\n"
     ]
    }
   ],
   "source": [
    "import numpy as np\n",
    "\n",
    "arr = np.array([1, 2, 3, 4, 5])\n",
    "print(\"Array:\", arr)\n",
    "\n",
    "arr_range = np.arange(0, 10, 2)\n",
    "print(\"Arange:\", arr_range)\n",
    "\n",
    "arr_linspace = np.linspace(0, 1, 5)\n",
    "print(\"Linspace:\", arr_linspace)"
   ]
  },
  {
   "cell_type": "markdown",
   "metadata": {},
   "source": []
  },
  {
   "cell_type": "markdown",
   "metadata": {},
   "source": [
    "### 2-2. Numpy의 데이터 타입\n",
    "<img src=\"https://velog.velcdn.com/images/newnew_daddy/post/f83a3ba6-f8d0-44a1-80de-fa28588d20df/image.png\" width=\"40%\">\n",
    "\n",
    "- ndarray 는 같은 타입의 데이터만 모아서 관리한다.\n",
    "- 배열 생성시 dtype 속성을 이용해 데이터 타입 설정 가능\n",
    "- ndarray.dtype 속성을 이용해 조회\n",
    "- ndarray.astype(데이터타입)\n",
    "    - 데이터타입 변환하는 메소드\n",
    "    - 변환한 새로운 ndarray객체를 반환\n",
    "- 타입 지정\n",
    "    - 'int', 'int64', 'float'\n",
    "    - numpy에 각 타입이 변수로 제공됨\n",
    "        - numpy.int, numpy.int64, numpy.float   "
   ]
  },
  {
   "cell_type": "code",
   "execution_count": 7,
   "metadata": {},
   "outputs": [
    {
     "name": "stdout",
     "output_type": "stream",
     "text": [
      "Integer Array: [1 2 3]\n",
      "Float Array: [1. 2. 3.]\n",
      "Complex Array: [1.+2.j 3.+4.j 5.+6.j]\n"
     ]
    }
   ],
   "source": [
    "int_array = np.array([1, 2, 3], dtype=int)\n",
    "float_array = np.array([1.0, 2.0, 3.0], dtype=float)\n",
    "complex_array = np.array([1+2j, 3+4j, 5+6j], dtype=complex)\n",
    "\n",
    "print(\"Integer Array:\", int_array)\n",
    "print(\"Float Array:\", float_array)\n",
    "print(\"Complex Array:\", complex_array)"
   ]
  },
  {
   "cell_type": "markdown",
   "metadata": {},
   "source": [
    "- **배열의 속성 (dtype, shape, size 등)**"
   ]
  },
  {
   "cell_type": "code",
   "execution_count": 9,
   "metadata": {},
   "outputs": [
    {
     "name": "stdout",
     "output_type": "stream",
     "text": [
      "[[1 2 3]\n",
      " [4 5 6]]\n",
      "Dtype: int64\n",
      "Shape: (2, 3)\n",
      "Size: 6\n"
     ]
    }
   ],
   "source": [
    "arr = np.array([[1, 2, 3], [4, 5, 6]])\n",
    "\n",
    "print(arr)\n",
    "print(\"Dtype:\", arr.dtype)\n",
    "print(\"Shape:\", arr.shape)\n",
    "print(\"Size:\", arr.size)"
   ]
  },
  {
   "cell_type": "markdown",
   "metadata": {},
   "source": [
    "### 2-2. 배열 초기화"
   ]
  },
  {
   "cell_type": "markdown",
   "metadata": {},
   "source": [
    "- **np.zeros()**: 모든 요소가 0인 배열을 생성합니다.\n",
    "- **np.ones()**: 모든 요소가 1인 배열을 생성합니다.\n",
    "- **np.full()**: 모든 요소가 지정한 값인 배열을 생성합니다.\n",
    "- **np.empty()**: 초기화되지 않은 배열을 생성합니다.\n",
    "- **np.eye()**: 단위 행렬을 생성합니다."
   ]
  },
  {
   "cell_type": "code",
   "execution_count": 11,
   "metadata": {},
   "outputs": [
    {
     "name": "stdout",
     "output_type": "stream",
     "text": [
      "Zeros Array:\n",
      " [[0. 0. 0.]\n",
      " [0. 0. 0.]\n",
      " [0. 0. 0.]]\n",
      "Ones Array:\n",
      " [[1. 1.]\n",
      " [1. 1.]]\n",
      "Full Array:\n",
      " [[7 7 7]\n",
      " [7 7 7]]\n",
      "Empty Array:\n",
      " [[0. 0. 0.]\n",
      " [0. 0. 0.]\n",
      " [0. 0. 0.]]\n",
      "Eye Array:\n",
      " [[1. 0. 0. 0.]\n",
      " [0. 1. 0. 0.]\n",
      " [0. 0. 1. 0.]\n",
      " [0. 0. 0. 1.]]\n"
     ]
    }
   ],
   "source": [
    "zeros_array = np.zeros((3, 3))\n",
    "ones_array = np.ones((2, 2))\n",
    "full_array = np.full((2, 3), 7)\n",
    "empty_array = np.empty((3, 3))\n",
    "eye_array = np.eye(4)\n",
    "\n",
    "print(\"Zeros Array:\\n\", zeros_array)\n",
    "print(\"Ones Array:\\n\", ones_array)\n",
    "print(\"Full Array:\\n\", full_array)\n",
    "print(\"Empty Array:\\n\", empty_array)\n",
    "print(\"Eye Array:\\n\", eye_array)"
   ]
  },
  {
   "cell_type": "markdown",
   "metadata": {},
   "source": [
    "- **np.random.rand()**: 0과 1 사이의 균등 분포에서 난수를 생성합니다.\n",
    "- **np.random.randint()**: 지정한 범위 내의 정수를 생성합니다.\n",
    "- **np.random.randn()**: 표준 정규 분포에서 난수를 생성합니다."
   ]
  },
  {
   "cell_type": "code",
   "execution_count": 12,
   "metadata": {},
   "outputs": [
    {
     "name": "stdout",
     "output_type": "stream",
     "text": [
      "Random Array:\\n [[0.62791747 0.72144574 0.94806321]\n",
      " [0.48410929 0.86677381 0.36759946]\n",
      " [0.35824143 0.22620314 0.87159029]]\n",
      "Random Integer Array:\\n [[8 3 5]\n",
      " [6 1 0]\n",
      " [6 8 2]]\n",
      "Random Normal Array:\\n [[-0.30934884  0.5986518   0.31035378]\n",
      " [-1.34636339  0.42375384 -0.36622839]\n",
      " [-0.30410192  1.5450567  -0.14936842]]\n"
     ]
    }
   ],
   "source": [
    "rand_array = np.random.rand(3, 3)\n",
    "randint_array = np.random.randint(0, 10, (3, 3))\n",
    "randn_array = np.random.randn(3, 3)\n",
    "\n",
    "print(\"Random Array:\\\\n\", rand_array)\n",
    "print(\"Random Integer Array:\\\\n\", randint_array)\n",
    "print(\"Random Normal Array:\\\\n\", randn_array)\n"
   ]
  },
  {
   "cell_type": "code",
   "execution_count": 3,
   "metadata": {},
   "outputs": [
    {
     "data": {
      "image/png": "[encoded data removed]",
      "text/plain": [
       "<Figure size 640x480 with 1 Axes>"
      ]
     },
     "metadata": {},
     "output_type": "display_data"
    }
   ],
   "source": [
    "## randn 난수 배열이 정규 분포를 따르는지 시각화\n",
    "import matplotlib.pyplot as plt\n",
    "# 난수 생성\n",
    "data = np.random.randn(1000)\n",
    "\n",
    "# 히스토그램 시각화\n",
    "plt.hist(data, bins=30, edgecolor='k', alpha=0.7)\n",
    "plt.title('Histogram of np.random.randn()')\n",
    "plt.xlabel('Value')\n",
    "plt.ylabel('Frequency')\n",
    "plt.show()"
   ]
  }
 ],
 "metadata": {
  "kernelspec": {
   "display_name": "lecture",
   "language": "python",
   "name": "python3"
  },
  "language_info": {
   "codemirror_mode": {
    "name": "ipython",
    "version": 3
   },
   "file_extension": ".py",
   "mimetype": "text/x-python",
   "name": "python",
   "nbconvert_exporter": "python",
   "pygments_lexer": "ipython3",
   "version": "3.12.4"
  }
 },
 "nbformat": 4,
 "nbformat_minor": 2
}
