{
 "cells": [
  {
   "cell_type": "markdown",
   "metadata": {},
   "source": [
    "## 1. Numpy 소개\n",
    "\n",
    "#### NumPy란 무엇인가?\n",
    "- NumPy는 \"Numerical Python\"의 약자로, 파이썬에서 대규모 다차원 배열과 행렬을 효율적으로 처리할 수 있도록 해주는 라이브러리\n",
    "- 고성능 과학연산을 위한 패키지로 과학 계산, 데이터 분석, 머신러닝 등 다양한 분야에서 사용\n",
    "- MATLAB과 유사한 기능을 제공하여, 기존 MATLAB 사용자들이 쉽게 접근 가능\n",
    "- NumPy는 벡터화된 연산을 지원하여 반복문 없이 빠른 배열 연산이 가능\n",
    "- NumPy의 핵심은 n차원 배열 객체인 `ndarray`\n",
    "#### NumPy 설치 방법\n",
    "- NumPy는 pip를 사용하여 설치할 수 있습니다.\n",
    "> pip install numpy"
   ]
  },
  {
   "cell_type": "markdown",
   "metadata": {},
   "source": []
  },
  {
   "cell_type": "markdown",
   "metadata": {},
   "source": [
    "#### 넘파이에서 데이터 구조\n",
    "- **스칼라 (Scalar)**\n",
    "    - 하나의 숫자로 이루어진 데이터\n",
    "- **벡터 (Vector)**\n",
    "    - 여러개의 숫자들을 특정한 순서대로 모아놓은 데이터 모음(데이터 레코드)\n",
    "    - 1D Array (1차원 배열)\n",
    "- **행렬 (Matrix)**\n",
    "    - 벡터들을 모아놓은 데이터 집합\n",
    "    - 2D Array (2차원 배열)\n",
    "- **텐서 (Tensor)**\n",
    "    - 같은 크기의 행렬들(텐서들)을 모아놓은 데이터 집합\n",
    "    - ND Array (다차원 배열)"
   ]
  },
  {
   "cell_type": "markdown",
   "metadata": {},
   "source": [
    "#### 용어\n",
    "- 축 (axis) \n",
    "    - 값들의 나열 방향\n",
    "    - 하나의 축(axis)는 하나의 범주(Category)이다.\n",
    "- 랭크(rank) \n",
    "    - 데이터 집합에서 축의 개수. \n",
    "- 형태/형상(shape)\n",
    "    - 각 축(axis) 별 데이터의 개수\n",
    "- 크기(size) \n",
    "    - 배열내 원소의 총 개수\n",
    "\n",
    "<img src=\"https://velog.velcdn.com/images/newnew_daddy/post/5d3678c2-4e10-4797-9eab-d7e831fc7cd4/image.png\" width=\"40%\">\n",
    "\n",
    "[출처: https://www.oreilly.com/library/view/elegant-scipy/9781491922927/ch01.html ]"
   ]
  },
  {
   "cell_type": "markdown",
   "metadata": {},
   "source": [
    "## 2. Numpy 기본 사용법"
   ]
  },
  {
   "cell_type": "markdown",
   "metadata": {},
   "source": [
    "### 2-1. Numpy 배열 생성"
   ]
  },
  {
   "cell_type": "markdown",
   "metadata": {},
   "source": [
    "- **np.array()**: 파이썬 리스트나 튜플을 배열로 변환합니다.\n",
    "- **np.arange()**: 지정한 간격으로 숫자 배열을 생성합니다.\n",
    "- **np.linspace()**: 지정한 구간을 균등한 간격으로 나눈 배열을 생성합니다."
   ]
  },
  {
   "cell_type": "code",
   "execution_count": 2,
   "metadata": {},
   "outputs": [
    {
     "name": "stdout",
     "output_type": "stream",
     "text": [
      "Array: [1 2 3 4 5]\n",
      "Arange: [0 2 4 6 8]\n",
      "Linspace: [0.   0.25 0.5  0.75 1.  ]\n"
     ]
    }
   ],
   "source": [
    "import numpy as np\n",
    "\n",
    "arr = np.array([1, 2, 3, 4, 5])\n",
    "print(\"Array:\", arr)\n",
    "\n",
    "arr_range = np.arange(0, 10, 2)\n",
    "print(\"Arange:\", arr_range)\n",
    "\n",
    "arr_linspace = np.linspace(0, 1, 5)\n",
    "print(\"Linspace:\", arr_linspace)"
   ]
  },
  {
   "cell_type": "markdown",
   "metadata": {},
   "source": [
    "### 2-2. Numpy의 데이터 타입\n",
    "<img src=\"https://velog.velcdn.com/images/newnew_daddy/post/f83a3ba6-f8d0-44a1-80de-fa28588d20df/image.png\" width=\"40%\">\n",
    "\n",
    "- ndarray 는 같은 타입의 데이터만 모아서 관리한다.\n",
    "- 배열 생성시 dtype 속성을 이용해 데이터 타입 설정 가능\n",
    "- ndarray.dtype 속성을 이용해 조회\n",
    "- ndarray.astype(데이터타입)\n",
    "    - 데이터타입 변환하는 메소드\n",
    "    - 변환한 새로운 ndarray객체를 반환\n",
    "- 타입 지정\n",
    "    - 'int', 'int64', 'float'\n",
    "    - numpy에 각 타입이 변수로 제공됨\n",
    "        - numpy.int, numpy.int64, numpy.float   "
   ]
  },
  {
   "cell_type": "code",
   "execution_count": 7,
   "metadata": {},
   "outputs": [
    {
     "name": "stdout",
     "output_type": "stream",
     "text": [
      "Integer Array: [1 2 3]\n",
      "Float Array: [1. 2. 3.]\n",
      "Complex Array: [1.+2.j 3.+4.j 5.+6.j]\n"
     ]
    }
   ],
   "source": [
    "int_array = np.array([1, 2, 3], dtype=int)\n",
    "float_array = np.array([1.0, 2.0, 3.0], dtype=float)\n",
    "complex_array = np.array([1+2j, 3+4j, 5+6j], dtype=complex)\n",
    "\n",
    "print(\"Integer Array:\", int_array)\n",
    "print(\"Float Array:\", float_array)\n",
    "print(\"Complex Array:\", complex_array)"
   ]
  },
  {
   "cell_type": "markdown",
   "metadata": {},
   "source": [
    "- **배열의 속성 (dtype, shape, size 등)**"
   ]
  },
  {
   "cell_type": "code",
   "execution_count": 9,
   "metadata": {},
   "outputs": [
    {
     "name": "stdout",
     "output_type": "stream",
     "text": [
      "[[1 2 3]\n",
      " [4 5 6]]\n",
      "Dtype: int64\n",
      "Shape: (2, 3)\n",
      "Size: 6\n"
     ]
    }
   ],
   "source": [
    "arr = np.array([[1, 2, 3], [4, 5, 6]])\n",
    "\n",
    "print(arr)\n",
    "print(\"Dtype:\", arr.dtype)\n",
    "print(\"Shape:\", arr.shape)\n",
    "print(\"Size:\", arr.size)"
   ]
  },
  {
   "cell_type": "markdown",
   "metadata": {},
   "source": [
    "### 2-2. 배열 초기화"
   ]
  },
  {
   "cell_type": "markdown",
   "metadata": {},
   "source": [
    "- **np.zeros()**: 모든 요소가 0인 배열을 생성합니다.\n",
    "- **np.ones()**: 모든 요소가 1인 배열을 생성합니다.\n",
    "- **np.full()**: 모든 요소가 지정한 값인 배열을 생성합니다.\n",
    "- **np.empty()**: 초기화되지 않은 배열을 생성합니다.\n",
    "- **np.eye()**: 단위 행렬을 생성합니다."
   ]
  },
  {
   "cell_type": "code",
   "execution_count": 11,
   "metadata": {},
   "outputs": [
    {
     "name": "stdout",
     "output_type": "stream",
     "text": [
      "Zeros Array:\n",
      " [[0. 0. 0.]\n",
      " [0. 0. 0.]\n",
      " [0. 0. 0.]]\n",
      "Ones Array:\n",
      " [[1. 1.]\n",
      " [1. 1.]]\n",
      "Full Array:\n",
      " [[7 7 7]\n",
      " [7 7 7]]\n",
      "Empty Array:\n",
      " [[0. 0. 0.]\n",
      " [0. 0. 0.]\n",
      " [0. 0. 0.]]\n",
      "Eye Array:\n",
      " [[1. 0. 0. 0.]\n",
      " [0. 1. 0. 0.]\n",
      " [0. 0. 1. 0.]\n",
      " [0. 0. 0. 1.]]\n"
     ]
    }
   ],
   "source": [
    "zeros_array = np.zeros((3, 3))\n",
    "ones_array = np.ones((2, 2))\n",
    "full_array = np.full((2, 3), 7)\n",
    "empty_array = np.empty((3, 3))\n",
    "eye_array = np.eye(4)\n",
    "\n",
    "print(\"Zeros Array:\\n\", zeros_array)\n",
    "print(\"Ones Array:\\n\", ones_array)\n",
    "print(\"Full Array:\\n\", full_array)\n",
    "print(\"Empty Array:\\n\", empty_array)\n",
    "print(\"Eye Array:\\n\", eye_array)"
   ]
  },
  {
   "cell_type": "markdown",
   "metadata": {},
   "source": [
    "- **np.random.rand()**: 0과 1 사이의 균등 분포에서 난수를 생성합니다.\n",
    "- **np.random.randint()**: 지정한 범위 내의 정수를 생성합니다.\n",
    "- **np.random.randn()**: 표준 정규 분포에서 난수를 생성합니다."
   ]
  },
  {
   "cell_type": "code",
   "execution_count": 12,
   "metadata": {},
   "outputs": [
    {
     "name": "stdout",
     "output_type": "stream",
     "text": [
      "Random Array:\\n [[0.62791747 0.72144574 0.94806321]\n",
      " [0.48410929 0.86677381 0.36759946]\n",
      " [0.35824143 0.22620314 0.87159029]]\n",
      "Random Integer Array:\\n [[8 3 5]\n",
      " [6 1 0]\n",
      " [6 8 2]]\n",
      "Random Normal Array:\\n [[-0.30934884  0.5986518   0.31035378]\n",
      " [-1.34636339  0.42375384 -0.36622839]\n",
      " [-0.30410192  1.5450567  -0.14936842]]\n"
     ]
    }
   ],
   "source": [
    "rand_array = np.random.rand(3, 3)\n",
    "randint_array = np.random.randint(0, 10, (3, 3))\n",
    "randn_array = np.random.randn(3, 3)\n",
    "\n",
    "print(\"Random Array:\\\\n\", rand_array)\n",
    "print(\"Random Integer Array:\\\\n\", randint_array)\n",
    "print(\"Random Normal Array:\\\\n\", randn_array)\n"
   ]
  },
  {
   "cell_type": "code",
   "execution_count": 3,
   "metadata": {},
   "outputs": [
    {
     "data": {
      "image/png": "[encoded data removed]",
      "text/plain": [
       "<Figure size 640x480 with 1 Axes>"
      ]
     },
     "metadata": {},
     "output_type": "display_data"
    }
   ],
   "source": [
    "## randn 난수 배열이 정규 분포를 따르는지 시각화\n",
    "import matplotlib.pyplot as plt\n",
    "# 난수 생성\n",
    "data = np.random.randn(1000)\n",
    "\n",
    "# 히스토그램 시각화\n",
    "plt.hist(data, bins=30, edgecolor='k', alpha=0.7)\n",
    "plt.title('Histogram of np.random.randn()')\n",
    "plt.xlabel('Value')\n",
    "plt.ylabel('Frequency')\n",
    "plt.show()"
   ]
  },
  {
   "cell_type": "markdown",
   "metadata": {},
   "source": [
    "## 3. 배열 조작"
   ]
  },
  {
   "cell_type": "markdown",
   "metadata": {},
   "source": [
    "### 3-1. 배열 인덱싱 및 슬라이싱"
   ]
  },
  {
   "cell_type": "code",
   "execution_count": null,
   "metadata": {},
   "outputs": [],
   "source": [
    "## 기본 인덱싱\n",
    "\n",
    "arr = np.array([1, 2, 3, 4, 5])\n",
    "print(\"Element at index 0:\", arr[0])\n",
    "print(\"Element at index 4:\", arr[4])"
   ]
  },
  {
   "cell_type": "code",
   "execution_count": null,
   "metadata": {},
   "outputs": [],
   "source": [
    "## 다차원 배열 인덱싱\n",
    "\n",
    "arr = np.array([[1, 2, 3], [4, 5, 6], [7, 8, 9]])\n",
    "print(\"Element at (0, 0):\", arr[0, 0])\n",
    "print(\"Element at (1, 2):\", arr[1, 2])"
   ]
  },
  {
   "cell_type": "code",
   "execution_count": null,
   "metadata": {},
   "outputs": [],
   "source": [
    "## 배열 슬라이싱\n",
    "\n",
    "arr = np.array([1, 2, 3, 4, 5])\n",
    "print(\"Slice [0:3]:\", arr[0:3])\n",
    "print(\"Slice [::2]:\", arr[::2])"
   ]
  },
  {
   "cell_type": "markdown",
   "metadata": {},
   "source": [
    "### 3-2. 배열 형상 변경\n",
    "\n",
    "- **np.reshape()**: 배열의 형상을 변경합니다.\n",
    "- **np.resize()**: 배열의 크기를 변경합니다.\n",
    "- **np.ravel()**: 다차원 배열을 1차원으로 펼칩니다.\n",
    "- **np.flatten()**: 다차원 배열을 1차원으로 펼칩니다.\n",
    "- **np.append()**: 배열에 요소를 추가합니다.\n",
    "- **np.insert()**: 배열의 지정한 위치에 요소를 삽입합니다.\n",
    "- **np.delete()**: 배열의 요소를 삭제합니다."
   ]
  },
  {
   "cell_type": "code",
   "execution_count": null,
   "metadata": {},
   "outputs": [],
   "source": [
    "arr = np.arange(6)\n",
    "reshaped_arr = arr.reshape((2, 3))\n",
    "print(\"Original Array:\", arr)\n",
    "print(\"Reshaped Array:\\\\n\", reshaped_arr)\n",
    "\n",
    "resized_arr = np.resize(arr, (3, 2))\n",
    "print(\"Resized Array:\\\\n\", resized_arr)"
   ]
  },
  {
   "cell_type": "code",
   "execution_count": null,
   "metadata": {},
   "outputs": [],
   "source": [
    "arr = np.array([[1, 2, 3], [4, 5, 6]])\n",
    "ravel_arr = arr.ravel()\n",
    "flatten_arr = arr.flatten()\n",
    "print(\"Ravel Array:\", ravel_arr)\n",
    "print(\"Flatten Array:\", flatten_arr)"
   ]
  },
  {
   "cell_type": "code",
   "execution_count": null,
   "metadata": {},
   "outputs": [],
   "source": [
    "arr = np.array([1, 2, 3, 4, 5])\n",
    "appended_arr = np.append(arr, [6, 7])\n",
    "inserted_arr = np.insert(arr, 2, 9)\n",
    "deleted_arr = np.delete(arr, 1)\n",
    "\n",
    "print(\"Appended Array:\", appended_arr)\n",
    "print(\"Inserted Array:\", inserted_arr)\n",
    "print(\"Deleted Array:\", deleted_arr)"
   ]
  },
  {
   "cell_type": "markdown",
   "metadata": {},
   "source": [
    "### 3-3. 배열 결합 및 분할\n",
    "\n",
    "- **np.concatenate()**: 두 배열을 결합합니다.\n",
    "- **np.stack()**: 두 배열을 새로운 축으로 결합합니다.\n",
    "- **np.hstack()**: 두 배열을 수평으로 결합합니다.\n",
    "- **np.vstack()**: 두 배열을 수직으로 결합합니다.\n",
    "- **np.split()**: 배열을 분할합니다.\n",
    "- **np.hsplit()**: 배열을 수평으로 분할합니다.\n",
    "- **np.vsplit()**: 배열을 수직으로 분할합니다."
   ]
  },
  {
   "cell_type": "code",
   "execution_count": null,
   "metadata": {},
   "outputs": [],
   "source": [
    "arr1 = np.array([1, 2, 3])\n",
    "arr2 = np.array([4, 5, 6])\n",
    "\n",
    "concatenated_arr = np.concatenate((arr1, arr2))\n",
    "stacked_arr = np.stack((arr1, arr2))\n",
    "hstacked_arr = np.hstack((arr1, arr2))\n",
    "vstacked_arr = np.vstack((arr1, arr2))\n",
    "\n",
    "print(\"Concatenated Array:\", concatenated_arr)\n",
    "print(\"Stacked Array:\\\\n\", stacked_arr)\n",
    "print(\"Horizontally Stacked Array:\", hstacked_arr)\n",
    "print(\"Vertically Stacked Array:\\\\n\", vstacked_arr)"
   ]
  },
  {
   "cell_type": "code",
   "execution_count": null,
   "metadata": {},
   "outputs": [],
   "source": [
    "arr = np.arange(9).reshape(3, 3)\n",
    "split_arr = np.split(arr, 3)\n",
    "hsplit_arr = np.hsplit(arr, 3)\n",
    "vsplit_arr = np.vsplit(arr, 3)\n",
    "\n",
    "print(\"Split Array:\", split_arr)\n",
    "print(\"Horizontally Split Array:\", hsplit_arr)\n",
    "print(\"Vertically Split Array:\\\\n\", vsplit_arr)"
   ]
  },
  {
   "cell_type": "markdown",
   "metadata": {},
   "source": [
    "## 4. 배열 연산"
   ]
  },
  {
   "cell_type": "markdown",
   "metadata": {},
   "source": [
    "### 4-1. 기본연산\n",
    "\n",
    "- **np.add()**: 두 배열의 요소를 더합니다.\n",
    "- **np.subtract()**: 두 배열의 요소를 뺍니다.\n",
    "- **np.multiply()**: 두 배열의 요소를 곱합니다.\n",
    "- **np.divide()**: 두 배열의 요소를 나눕니다."
   ]
  },
  {
   "cell_type": "markdown",
   "metadata": {},
   "source": [
    "### 스칼라 + 벡터 연산\n",
    "\n",
    "$$\n",
    "\\begin{align}\n",
    "x=\n",
    "\\begin{bmatrix}\n",
    "1 \\\\\n",
    "2 \\\\\n",
    "3 \\\\\n",
    "\\end{bmatrix}\n",
    "\\end{align}\n",
    "$$\n",
    "\n",
    "$$\n",
    "\\begin{align}\n",
    "10 - x = 10 -\n",
    "\\begin{bmatrix}\n",
    "1 \\\\\n",
    "2 \\\\\n",
    "3 \\\\\n",
    "\\end{bmatrix}\n",
    "=\n",
    "\\begin{bmatrix}\n",
    "10 - 1 \\\\\n",
    "10 - 2 \\\\\n",
    "10 - 3 \\\\\n",
    "\\end{bmatrix}\n",
    "=\n",
    "\\begin{bmatrix}\n",
    "9 \\\\\n",
    "8 \\\\\n",
    "7 \\\\\n",
    "\\end{bmatrix}\n",
    "\\end{align}\n",
    "$$\n",
    "\n",
    "$$\n",
    "\\begin{align}\n",
    "10 \\times\n",
    "\\begin{bmatrix}\n",
    "1 & 2 \\\\\n",
    "3 & 4\n",
    "\\end{bmatrix}\n",
    "=\n",
    "\\begin{bmatrix}\n",
    "10\\times1 & 10\\times2 \\\\\n",
    "10\\times3 & 10\\times4 \\\\\n",
    "\\end{bmatrix}\n",
    "=\n",
    "\\begin{bmatrix}\n",
    "10 & 20 \\\\\n",
    "30 & 40\n",
    "\\end{bmatrix}\n",
    "\\end{align}\n",
    "$$"
   ]
  },
  {
   "cell_type": "code",
   "execution_count": null,
   "metadata": {},
   "outputs": [],
   "source": [
    "x = np.array([1,2,3])\n",
    "print(10-x) #[10-1, 10-2, 10-3]\n",
    "print(10*x)\n",
    "print(10/x)"
   ]
  },
  {
   "cell_type": "code",
   "execution_count": null,
   "metadata": {},
   "outputs": [],
   "source": [
    "print(x > 1.5) #[1>1.5, 2 >1.5, 3>1.5]\n",
    "print((x>1) & (x<2))"
   ]
  },
  {
   "cell_type": "code",
   "execution_count": null,
   "metadata": {},
   "outputs": [],
   "source": [
    "y = np.arange(6).reshape(2,3)\n",
    "r = y + 10\n",
    "\n",
    "print(r.shape)\n",
    "r, y > 3"
   ]
  },
  {
   "cell_type": "markdown",
   "metadata": {},
   "source": [
    "### 벡터 + 벡터 연산\n",
    "\n",
    "$$\n",
    "\\begin{align}\n",
    "\\begin{bmatrix}\n",
    "1 \\\\\n",
    "2 \\\\\n",
    "3 \\\\\n",
    "\\end{bmatrix}\n",
    "+\n",
    "\\begin{bmatrix}\n",
    "10 \\\\\n",
    "20 \\\\\n",
    "30 \\\\\n",
    "\\end{bmatrix}\n",
    "=\n",
    "\\begin{bmatrix}\n",
    "1 + 10 \\\\\n",
    "2 + 20 \\\\\n",
    "3 + 30 \\\\\n",
    "\\end{bmatrix}\n",
    "=\n",
    "\\begin{bmatrix}\n",
    "11 \\\\\n",
    "22 \\\\\n",
    "33 \\\\\n",
    "\\end{bmatrix}\n",
    "\\end{align}\n",
    "$$\n",
    "\n",
    "$$\n",
    "\\begin{align}\n",
    "\\begin{bmatrix}\n",
    "1 \\\\\n",
    "2 \\\\\n",
    "3 \\\\\n",
    "\\end{bmatrix}\n",
    "-\n",
    "\\begin{bmatrix}\n",
    "10 \\\\\n",
    "20 \\\\\n",
    "30 \\\\\n",
    "\\end{bmatrix}\n",
    "=\n",
    "\\begin{bmatrix}\n",
    "1 - 10 \\\\\n",
    "2 - 20 \\\\\n",
    "3 - 30 \\\\\n",
    "\\end{bmatrix}\n",
    "=\n",
    "\\begin{bmatrix}\n",
    "-9 \\\\\n",
    "-18 \\\\\n",
    "-27 \\\\\n",
    "\\end{bmatrix}\n",
    "\\end{align}\n",
    "$$\n",
    "\n",
    "$$\n",
    "\\begin{align}\n",
    "\\begin{bmatrix}\n",
    "1 & 2 \\\\\n",
    "3 & 4\n",
    "\\end{bmatrix}\n",
    "+\n",
    "\\begin{bmatrix}\n",
    "10 & 20 \\\\\n",
    "30 & 40 \\\\\n",
    "\\end{bmatrix}\n",
    "=\n",
    "\\begin{bmatrix}\n",
    "1+10 & 2+20 \\\\\n",
    "3+30 & 4+40\n",
    "\\end{bmatrix}\n",
    "\\end{align}\n",
    "$$"
   ]
  },
  {
   "cell_type": "code",
   "execution_count": null,
   "metadata": {},
   "outputs": [],
   "source": [
    "a = np.arange(1,5).reshape(2,2)\n",
    "b = np.arange(6,10).reshape(2,2)\n",
    "\n",
    "# 사칙연산의 경우 각 index끼리 연산이 된다.\n",
    "print(a+b)\n",
    "print(a-b)\n",
    "print(a*b)\n",
    "print(a/b)"
   ]
  },
  {
   "cell_type": "code",
   "execution_count": null,
   "metadata": {},
   "outputs": [],
   "source": [
    "# 배열간의 연산\n",
    "# 피연산자인 배열들의 shape이 동일해야 연산이 가능. (2,2,5) + (2,2,5)\n",
    "\n",
    "a = np.array([10,20,30])\n",
    "b = np.array([100, 200, 300])\n",
    "r = a + b\n",
    "print(a.shape, b.shape, r.shape)\n",
    "r"
   ]
  },
  {
   "cell_type": "code",
   "execution_count": 131,
   "metadata": {},
   "outputs": [
    {
     "data": {
      "text/plain": [
       "array([  1,  16, 243])"
      ]
     },
     "execution_count": 131,
     "metadata": {},
     "output_type": "execute_result"
    }
   ],
   "source": [
    "a = np.array([1,2,3])\n",
    "b = np.array([3,4,5])\n",
    "a**b"
   ]
  },
  {
   "cell_type": "markdown",
   "metadata": {},
   "source": [
    "### 4-2. 범용 함수\n",
    "#### 단항 범용 함수\n",
    "- 매개변수로 한개의 배열을 받는다.\n",
    "- 한 배열내의 원소별로 연산\n",
    "\n",
    "<img src=\"https://velog.velcdn.com/images/newnew_daddy/post/fa89baf0-554f-4599-82af-27c17b260b61/image.png\" width=\"40%\">"
   ]
  },
  {
   "cell_type": "code",
   "execution_count": null,
   "metadata": {},
   "outputs": [],
   "source": [
    "arr = np.array([1, 2, 3, 4])\n",
    "\n",
    "sqrt_arr = np.sqrt(arr)\n",
    "exp_arr = np.exp(arr)\n",
    "log_arr = np.log(arr)\n",
    "sin_arr = np.sin(arr)\n",
    "cos_arr = np.cos(arr)\n",
    "\n",
    "print(\"Square Root Array:\", sqrt_arr)\n",
    "print(\"Exponential Array:\", exp_arr)\n",
    "print(\"Logarithm Array:\", log_arr)\n",
    "print(\"Sine Array:\", sin_arr)\n",
    "print(\"Cosine Array:\", cos_arr)"
   ]
  },
  {
   "cell_type": "markdown",
   "metadata": {},
   "source": [
    "#### 이항 범용 함수\n",
    "- 매개변수로 두개의 배열을 받는다.\n",
    "- 두 배열의 같은 index 원소별로 연산\n",
    "\n",
    "<img src=\"https://velog.velcdn.com/images/newnew_daddy/post/f9617af4-f6ac-44da-a9fd-a979703189ab/image.png\" width=\"40%\">"
   ]
  },
  {
   "cell_type": "code",
   "execution_count": 137,
   "metadata": {},
   "outputs": [
    {
     "name": "stdout",
     "output_type": "stream",
     "text": [
      "[5 7 9]\n",
      "Added Array: [5 7 9]\n",
      "Subtracted Array: [-3 -3 -3]\n",
      "Multiplied Array: [ 4 10 18]\n",
      "Divided Array: [0.25 0.4  0.5 ]\n"
     ]
    }
   ],
   "source": [
    "arr1 = np.array([1, 2, 3])\n",
    "arr2 = np.array([4, 5, 6])\n",
    "\n",
    "add_arr = np.add(arr1, arr2)\n",
    "sub_arr = np.subtract(arr1, arr2)\n",
    "mul_arr = np.multiply(arr1, arr2)\n",
    "div_arr = np.divide(arr1, arr2)\n",
    "\n",
    "print(arr1 + arr2)\n",
    "print(\"Added Array:\", add_arr)\n",
    "print(\"Subtracted Array:\", sub_arr)\n",
    "print(\"Multiplied Array:\", mul_arr)\n",
    "print(\"Divided Array:\", div_arr)"
   ]
  },
  {
   "cell_type": "code",
   "execution_count": 138,
   "metadata": {},
   "outputs": [
    {
     "name": "stdout",
     "output_type": "stream",
     "text": [
      "[4 2 2] [4.  2.5 2. ]\n",
      "[0 1 0] [0 1 0]\n"
     ]
    }
   ],
   "source": [
    "# 몫연산\n",
    "print(np.floor_divide(arr2, arr1), arr2/arr1)\n",
    "# 나머지연산\n",
    "print(np.mod(arr2, arr1), arr2%arr1)"
   ]
  },
  {
   "cell_type": "code",
   "execution_count": 139,
   "metadata": {},
   "outputs": [
    {
     "name": "stdout",
     "output_type": "stream",
     "text": [
      "[4 5 6]\n",
      "[1 2 3]\n"
     ]
    }
   ],
   "source": [
    "print(np.maximum(arr1, arr2))\n",
    "print(np.minimum(arr1, arr2))"
   ]
  },
  {
   "cell_type": "code",
   "execution_count": 140,
   "metadata": {},
   "outputs": [
    {
     "name": "stdout",
     "output_type": "stream",
     "text": [
      "[False False False]\n",
      "[ True  True  True]\n"
     ]
    }
   ],
   "source": [
    "print(np.greater(arr1, arr2))\n",
    "print(np.less(arr1, arr2))"
   ]
  },
  {
   "cell_type": "markdown",
   "metadata": {},
   "source": [
    "#### 기술통계함수\n",
    "- 통계 결과를 계산해 주는 함수들\n",
    "        \n",
    "<img src=\"https://velog.velcdn.com/images/newnew_daddy/post/35351b19-db7d-4915-9e97-49db02655357/image.png\" width=\"40%\">\n",
    "\n",
    "- https://docs.scipy.org/doc/numpy-1.15.1/reference/routines.statistics.html"
   ]
  },
  {
   "cell_type": "markdown",
   "metadata": {},
   "source": [
    "- Quantile(분위수) -> np.quantile(행렬, 분위수(0~1사이))\n",
    "    >Quantile이란 주어진 데이터를 동등한 크기로 분할하는 지점을 말합니다. 예를 들어, 시험을 치고 상위 10%에 속하는지를 확인하고 싶다면 점수 데이터를 정렬한 뒤 데이터의 수를 10개의 동등한 크기, 즉 각 그룹이 같은 데이터 수를 보유하도로 분할하면 됩니다.\n",
    "\n",
    "<img src=\"https://velog.velcdn.com/images/newnew_daddy/post/cf1af72c-c72a-45d1-b23f-096946755530/image.png\" width=\"40%\">\n",
    "\n",
    "- Percentile(백분위수) -> np.percentile(행렬, 0~100)\n",
    "    >Percentile은 데이터를 100등분하는 지점을 말합니다. 보통 흔히 상위 몇%라고 말할때 주로 사용하는게 바로 이 percentile입니다."
   ]
  },
  {
   "cell_type": "code",
   "execution_count": null,
   "metadata": {},
   "outputs": [],
   "source": [
    "arr = np.array([1, 2, 3, 4, 5])\n",
    "\n",
    "sum_val = np.sum(arr)\n",
    "mean_val = np.mean(arr)\n",
    "median_val = np.median(arr)\n",
    "std_val = np.std(arr)\n",
    "var_val = np.var(arr)\n",
    "\n",
    "print(\"Sum:\", sum_val)\n",
    "print(\"Mean:\", mean_val)\n",
    "print(\"Median:\", median_val)\n",
    "print(\"Standard Deviation:\", std_val)\n",
    "print(\"Variance:\", var_val)"
   ]
  },
  {
   "cell_type": "code",
   "execution_count": 142,
   "metadata": {},
   "outputs": [
    {
     "data": {
      "text/plain": [
       "array([22,  5, 19, 39,  3, 45, 28,  3, 28, 24])"
      ]
     },
     "execution_count": 142,
     "metadata": {},
     "output_type": "execute_result"
    }
   ],
   "source": [
    "p = np.random.randint(50, size=10)\n",
    "p"
   ]
  },
  {
   "cell_type": "code",
   "execution_count": 145,
   "metadata": {},
   "outputs": [
    {
     "name": "stdout",
     "output_type": "stream",
     "text": [
      "14.799999999999997\n",
      "13.828955130450023\n",
      "191.24\n",
      "5\n",
      "4\n",
      "23.0\n",
      "4.6\n",
      "8.5\n"
     ]
    }
   ],
   "source": [
    "print(np.quantile(p, 0.3))\n",
    "print(np.std(p)) # 표준편차\n",
    "print(np.var(p)) # 분산\n",
    "print(np.argmax(p)) # 최대값 index\n",
    "print(np.argmin(p)) # 최소값 index\n",
    "print(np.median(p)) # 중앙값\n",
    "print(np.quantile(p,0.2))\n",
    "print(np.percentile(p,25))"
   ]
  },
  {
   "cell_type": "markdown",
   "metadata": {},
   "source": [
    "### 4-2. 브로드캐스팅\n",
    "<img src=\"https://velog.velcdn.com/images/newnew_daddy/post/30555f79-aaf7-46bf-97a4-227d7e34c81a/image.png\" width=\"60%\">\n",
    "<img src=\"https://velog.velcdn.com/images/newnew_daddy/post/86b08b01-7b78-4a79-ac1e-461166cbf3ea/image.png\" width=\"60%\">\n",
    "\n",
    "- **브로드캐스팅의 개념**\n",
    "    - 브로드캐스팅은 다른 크기의 배열 간의 연산을 가능하게 합니다.\n",
    "    - 배열 간의 연산을 수행할 때, 자동으로 적절한 형상으로 맞춰주어 동일한 크기의 배열로 만들어 주는 과정\n",
    "- **브로드캐스팅 규칙**\n",
    "    1. 배열의 rank (배열의 차원 수)가 서로 다를 경우, 차원이 더 작은 배열의 앞쪽에 1을 추가합니다.\n",
    "    2. 배열의 shape (형상)이 맞지 않을 경우, 둘 중 하나의 배열의 shape가 1이면 해당 차원을 늘려서 맞춥니다.\n",
    "    3. 두 배열의 각 차원에서 크기가 다르고, 그 중 하나가 1도 아니라면, 두 배열은 호환되지 않으며 브로드캐스팅이 불가능합니다."
   ]
  },
  {
   "cell_type": "code",
   "execution_count": null,
   "metadata": {},
   "outputs": [],
   "source": [
    "# 배열과 스칼라의 덧셈\n",
    "\n",
    "array = np.array([1, 2, 3])\n",
    "scalar = 5\n",
    "\n",
    "result = array + scalar\n",
    "print(result)  # 출력: [6 7 8]"
   ]
  },
  {
   "cell_type": "code",
   "execution_count": null,
   "metadata": {},
   "outputs": [],
   "source": [
    "# 1차원 배열과 2차원 배열의 덧셈\n",
    "## 여기서 array_1d는 (1, 3) 형상을 가지고, array_2d는 (2, 3) 형상을 가집니다. array_1d는 자동으로 (2, 3) 형상으로 맞춰져서 계산\n",
    "\n",
    "array_1d = np.array([1, 2, 3])\n",
    "array_2d = np.array([[10, 20, 30], [40, 50, 60]])\n",
    "\n",
    "result = array_2d + array_1d\n",
    "print(result)"
   ]
  },
  {
   "cell_type": "code",
   "execution_count": null,
   "metadata": {},
   "outputs": [],
   "source": [
    "# 2차원 배열과 1차원 배열의 덧셈\n",
    "## 여기서 array_2d는 (3, 1) 형상을 가지고, array_1d는 (3,) 형상을 가집니다. array_1d는 (1, 3) 형상으로 변환되어 계산됩니다.\n",
    "\n",
    "array_2d = np.array([[1], [2], [3]])\n",
    "array_1d = np.array([10, 20, 30])\n",
    "\n",
    "result = array_2d + array_1d\n",
    "print(result)"
   ]
  },
  {
   "cell_type": "code",
   "execution_count": 5,
   "metadata": {},
   "outputs": [
    {
     "name": "stdout",
     "output_type": "stream",
     "text": [
      "[[[11 21 31]\n",
      "  [12 22 32]\n",
      "  [13 23 33]]\n",
      "\n",
      " [[14 24 34]\n",
      "  [15 25 35]\n",
      "  [16 26 36]]]\n",
      "(2, 3, 1) (1, 3) (2, 3, 3)\n"
     ]
    },
    {
     "data": {
      "text/plain": [
       "(None, None)"
      ]
     },
     "execution_count": 5,
     "metadata": {},
     "output_type": "execute_result"
    }
   ],
   "source": [
    "# 3차원 배열과 2차원 배열의 덧셈\n",
    "## 여기서 array_3d는 (2, 3, 1) 형상을 가지고, array_2d는 (1, 3) 형상을 가집니다. array_2d는 (2, 3, 3) 형상으로 변환되어 계산됩니다.\n",
    "\n",
    "array_3d = np.array([[[1], [2], [3]], [[4], [5], [6]]])\n",
    "array_2d = np.array([[10, 20, 30]])\n",
    "\n",
    "result = array_3d + array_2d\n",
    "print(result), print(array_3d.shape, array_2d.shape, result.shape)"
   ]
  },
  {
   "cell_type": "code",
   "execution_count": 6,
   "metadata": {},
   "outputs": [
    {
     "name": "stdout",
     "output_type": "stream",
     "text": [
      "Conditional Indexing Result: [2 4]\n"
     ]
    }
   ],
   "source": [
    "arr = np.array([1, 2, 3, 4, 5])\n",
    "cond = (arr % 2 == 0)\n",
    "filtered_arr = arr[cond]\n",
    "\n",
    "print(\"Conditional Indexing Result:\", filtered_arr)"
   ]
  },
  {
   "cell_type": "markdown",
   "metadata": {},
   "source": [
    "## 5. 배열 조작 2"
   ]
  },
  {
   "cell_type": "markdown",
   "metadata": {},
   "source": [
    "### 5-1. 인덱싱"
   ]
  },
  {
   "cell_type": "code",
   "execution_count": null,
   "metadata": {},
   "outputs": [],
   "source": [
    "## 조건에 따른 인덱싱 1\n",
    "\n",
    "arr = np.array([1, 2, 3, 4, 5])\n",
    "bool_idx = arr > 2\n",
    "filtered_arr = arr[bool_idx]\n",
    "\n",
    "print(\"Boolean Indexing Result:\", filtered_arr)"
   ]
  },
  {
   "cell_type": "code",
   "execution_count": null,
   "metadata": {},
   "outputs": [],
   "source": [
    "## 조건에 다른 인덱싱 2\n",
    "\n",
    "arr = np.array([1, 2, 3, 4, 5])\n",
    "cond = (arr % 2 == 0)\n",
    "filtered_arr = arr[cond]\n",
    "\n",
    "print(\"Conditional Indexing Result:\", filtered_arr)\n"
   ]
  },
  {
   "cell_type": "code",
   "execution_count": null,
   "metadata": {},
   "outputs": [],
   "source": [
    "## 인덱스 배열을 사용한 인덱싱\n",
    "\n",
    "arr = np.array([10, 20, 30, 40, 50])\n",
    "indices = [0, 2, 4]\n",
    "fancy_indexed_arr = arr[indices]\n",
    "\n",
    "print(\"Fancy Indexing Result:\", fancy_indexed_arr)\n"
   ]
  },
  {
   "cell_type": "markdown",
   "metadata": {},
   "source": [
    "### 5-2. 배열 정렬\n",
    "- Numpy 배열을 기준에 따라 정렬\n",
    "  - sort\n",
    "  - lexsort\n",
    "  - where\n",
    "  - searchsorted\n",
    "  - extract"
   ]
  },
  {
   "cell_type": "code",
   "execution_count": null,
   "metadata": {},
   "outputs": [],
   "source": [
    "## np.sort - 배열을 정렬\n",
    "\n",
    "array = np.array([3, 1, 2, 5, 4])\n",
    "sorted_array = np.sort(array)\n",
    "print(\"Original array:\", array)\n",
    "print(\"Sorted array:\", sorted_array)"
   ]
  },
  {
   "cell_type": "code",
   "execution_count": 48,
   "metadata": {},
   "outputs": [
    {
     "name": "stdout",
     "output_type": "stream",
     "text": [
      "Names sorted: ['Alice' 'Joe' 'John' 'John']\n",
      "Ages sorted: [24 25 23 25]\n"
     ]
    }
   ],
   "source": [
    "## np.lexsort - 여러 키를 기반으로 배열을 정렬. 키는 마지막 배열부터 첫 번째 배열의 순서로 사용됩니다.\n",
    "\n",
    "names = ('John', 'John', 'Joe', 'Alice')\n",
    "ages = (25, 23, 25, 24)\n",
    "\n",
    "# lexsort는 마지막 키부터 정렬하므로, 이름이 동일할 때 나이를 기준으로 정렬\n",
    "indices = np.lexsort((ages, names))\n",
    "sorted_names = np.array(names)[indices]\n",
    "sorted_ages = np.array(ages)[indices]\n",
    "\n",
    "print(\"Names sorted:\", sorted_names)\n",
    "print(\"Ages sorted:\", sorted_ages)"
   ]
  },
  {
   "cell_type": "code",
   "execution_count": 41,
   "metadata": {},
   "outputs": [
    {
     "name": "stdout",
     "output_type": "stream",
     "text": [
      "Indices where array > 3: (array([3, 4], dtype=int64),)\n",
      "New array: [ 1  2  3 40 50]\n"
     ]
    }
   ],
   "source": [
    "## np.where - 조건에 따라 배열의 인덱스나 값을 반환\n",
    "\n",
    "array = np.array([1, 2, 3, 4, 5])\n",
    "condition = array > 3\n",
    "\n",
    "# 조건을 만족하는 요소의 인덱스를 반환\n",
    "indices = np.where(condition)\n",
    "print(\"Indices where array > 3:\", indices)\n",
    "\n",
    "# 조건을 만족하는 요소를 특정 값으로 대체\n",
    "new_array = np.where(condition, array * 10, array)\n",
    "print(\"New array:\", new_array)\n"
   ]
  },
  {
   "cell_type": "code",
   "execution_count": 45,
   "metadata": {},
   "outputs": [
    {
     "name": "stdout",
     "output_type": "stream",
     "text": [
      "Indices to insert values: [2 4]\n"
     ]
    }
   ],
   "source": [
    "## np.searchsorted -  정렬된 배열에 값을 삽입할 위치를 반환\n",
    "\n",
    "sorted_array = np.array([1, 2, 4, 5, 7])\n",
    "values_to_insert = np.array([3, 6])\n",
    "\n",
    "indices = np.searchsorted(sorted_array, values_to_insert)\n",
    "print(\"Indices to insert values:\", indices)"
   ]
  },
  {
   "cell_type": "code",
   "execution_count": 47,
   "metadata": {},
   "outputs": [
    {
     "name": "stdout",
     "output_type": "stream",
     "text": [
      "Extracted elements: [2 3 4 5]\n"
     ]
    }
   ],
   "source": [
    "## np.extract - 조건을 만족하는 배열의 요소를 추출\n",
    "\n",
    "array = np.array([1, 2, 3, 4, 5])\n",
    "condition = array > 1.5\n",
    "\n",
    "# 조건을 만족하는 요소를 추출\n",
    "extracted_elements = np.extract(condition, array)\n",
    "print(\"Extracted elements:\", extracted_elements)"
   ]
  },
  {
   "cell_type": "markdown",
   "metadata": {},
   "source": [
    "### 5-3. arg로 시작하는 함수들\n",
    "- 배열에서 특정 조건을 만족하는 요소의 인덱스를 찾거나, 배열의 정렬과 관련된 작업을 수행\n",
    "  - argmax\n",
    "  - argmin\n",
    "  - argsort\n",
    "  - argwhere\n",
    "  - argpartition"
   ]
  },
  {
   "cell_type": "code",
   "execution_count": null,
   "metadata": {},
   "outputs": [],
   "source": [
    "## argmax - 배열에서 최대값을 가지는 요소의 인덱스를 반환합니다.\n",
    "\n",
    "arr = np.array([1, 3, 2, 7, 4])\n",
    "index = np.argmax(arr)\n",
    "print(index)"
   ]
  },
  {
   "cell_type": "code",
   "execution_count": null,
   "metadata": {},
   "outputs": [],
   "source": [
    "## argmin - 배열에서 최소값을 가지는 요소의 인덱스를 반환합니다.\n",
    "\n",
    "arr = np.array([1, 3, 2, 0, 4])\n",
    "index = np.argmin(arr)\n",
    "print(index)  # 출력: 3"
   ]
  },
  {
   "cell_type": "code",
   "execution_count": 9,
   "metadata": {},
   "outputs": [
    {
     "name": "stdout",
     "output_type": "stream",
     "text": [
      "[1 2 0]\n",
      "[0 2 1]\n"
     ]
    }
   ],
   "source": [
    "## argsort - 배열을 오름차순 정렬했을 때 원래 배열의 요소들이 이동한 위치를 나타내는 인덱스를 반환\n",
    "\n",
    "arr = np.array([3, 1, 2])\n",
    "indices = np.argsort(arr)\n",
    "print(indices)  # 출력: [1, 2, 0]\n",
    "\n",
    "## 내림차순\n",
    "indices = np.argsort(arr)[::-1]\n",
    "print(indices)  # 출력: [1, 2, 0]"
   ]
  },
  {
   "cell_type": "code",
   "execution_count": 10,
   "metadata": {},
   "outputs": [
    {
     "name": "stdout",
     "output_type": "stream",
     "text": [
      "[[3]\n",
      " [4]]\n"
     ]
    }
   ],
   "source": [
    "## argwhere - 조건을 만족하는 요소들의 인덱스를 반환. 2차원 이상의 배열도 적용 가능\n",
    "\n",
    "arr = np.array([1, 2, 3, 4, 5])\n",
    "indices = np.argwhere(arr > 3)\n",
    "print(indices)  # 출력: [[3], [4]]"
   ]
  },
  {
   "cell_type": "code",
   "execution_count": 38,
   "metadata": {},
   "outputs": [
    {
     "name": "stdout",
     "output_type": "stream",
     "text": [
      "Origin\n",
      "[[6 3 7 4 6 9 2]\n",
      " [6 7 4 3 7 7 2]\n",
      " [5 4 1 7 5 1 4]\n",
      " [0 9 5 8 0 9 2]]\n",
      "partiton\n",
      "[[3 2 4 6 6 9 7]\n",
      " [2 3 4 6 7 7 7]\n",
      " [1 4 1 4 5 5 7]\n",
      " [0 0 2 5 8 9 9]]\n",
      "argpartiton\n",
      "[[1 6 3 4 0 5 2]\n",
      " [6 3 2 0 5 1 4]\n",
      " [5 6 2 1 0 4 3]\n",
      " [4 0 6 2 3 5 1]]\n"
     ]
    }
   ],
   "source": [
    "## np.partition(arr, n) - 배열의 순서에 상관없이 작은 숫자를 n개 뽑아 왼쪽으로 놓겠다.\n",
    "## argpartition - 배열을 부분 정렬하여 지정된 k번째 요소를 기준으로 작은 값들은 앞쪽에, 큰 값들은 뒤쪽에 배치하고 그 인덱스를 반환\n",
    "\n",
    "rand = np.random.RandomState(42)\n",
    "arr = rand.randint(0, 10, (4,7))\n",
    "\n",
    "print(\"Origin\")\n",
    "print(arr)\n",
    "print(\"partiton\")\n",
    "print(np.partition(arr, 4, axis=1))\n",
    "print(\"argpartiton\")\n",
    "print(np.argpartition(arr, 4, axis=1))"
   ]
  },
  {
   "cell_type": "markdown",
   "metadata": {},
   "source": [
    "## 6. 선형대수"
   ]
  },
  {
   "cell_type": "markdown",
   "metadata": {},
   "source": [
    "### 6-1. 선형대수 함수\n",
    "- np.dot()\n",
    "- np.transpose()\n",
    "- np.linalg.inv()\n",
    "- np.linalg.det()\n",
    "- np.linalg.eig() -> https://6mini.github.io/did%20unknown/2021/08/14/didunk6/"
   ]
  },
  {
   "cell_type": "markdown",
   "metadata": {},
   "source": [
    "#### 내적연산(dot product)\n",
    "\n",
    "- `@` 연산자 또는 `numpy.dot(벡터/행렬, 벡터/행렬)`  함수 사용\n",
    "- 벡터간의 내적\n",
    "    - 같은 index의 원소끼리 곱한뒤 결과를 모두 더한다.\n",
    "    - 벡터간의 내적의 결과는 스칼라가 된다.\n",
    "    - $ x \\cdot y $ 또는 $x^T y$로 표현\n",
    "    - 조건\n",
    "        - 두 벡터의 차원(원소의개수)가 같아야 한다.\n",
    "        - 앞의 벡터는 행벡터 뒤의 벡터는 열벡터 이어야 한다.\n",
    "            - numpy 에서는 vector 끼리 연산시 앞의 벡터는 행벡터로 뒤의 벡터는 열벡터로 인식해 처리한다.\n",
    "\n",
    "$$\n",
    "\\begin{align}\n",
    "x =\n",
    "\\begin{bmatrix}\n",
    "1 \\\\ 2 \\\\ 3 \\\\\n",
    "\\end{bmatrix}\n",
    ",\\;\\;\\;\n",
    "y = \n",
    "\\begin{bmatrix}\n",
    "4 \\\\ 5 \\\\ 6 \\\\\n",
    "\\end{bmatrix} \n",
    "\\end{align}\n",
    "$$\n",
    "\n",
    "$$\n",
    "\\begin{align}\n",
    "x^T y = \n",
    "\\begin{bmatrix}\n",
    "1 & 2 & 3\n",
    "\\end{bmatrix}\n",
    "\\begin{bmatrix}\n",
    "4 \\\\ 5 \\\\ 6 \\\\\n",
    "\\end{bmatrix} \n",
    "= 1 \\times 4 + 2 \\times 5 + 3 \\times 6 = 32\n",
    "\\end{align}\n",
    "$$\n",
    "\n",
    "#### 내적연산의 조건\n",
    "- 앞 행렬의 행과 뒤 행렬의 열간에 내적을 한다.\n",
    "- 행렬과 행렬을 내적하면 그 결과는 행렬이 된다.\n",
    "- 앞 행렬의 열수와 뒤 행렬의 행수가 같아야 한다.\n",
    "- 내적의 결과의 형태(shape)는 앞행렬의 행수와 뒤 행렬의 열의 형태를 가진다.\n",
    "    - (3 x 2)와 (2 x 5) = (3 x 5)\n",
    "    - (1 x 5)와 (5 x 1) = (1 x 1)    \n",
    "\n",
    "$$\n",
    "\\begin{align}\n",
    "A = \\begin{bmatrix} 1 & 2 & 3 \\\\ 4 & 5 & 6 \\end{bmatrix}\n",
    "\\end{align}\n",
    "$$\n",
    "\n",
    "$$\n",
    "\\begin{align}\n",
    "B = \\begin{bmatrix} 1 & 2 \\\\ 3 & 4 \\\\ 5 & 6 \\end{bmatrix}\n",
    "\\end{align}\n",
    "$$\n",
    "\n",
    "$$\n",
    "\\begin{align}\n",
    "A\\cdot B = \\begin{bmatrix} 1\\times 1 + 2\\times 3 + 3 \\times 5 & 1\\times 2 + 2\\times 4 + 3 \\times 6  \\\\ 4\\times 1 + 5\\times 3 + 6 \\times 5  & 4\\times 2 + 5\\times 4 + 6 \\times 6  \\end{bmatrix} = \n",
    "\\begin{bmatrix} 22 & 28 \\\\ 49 & 64 \\end{bmatrix}\n",
    "\\end{align}\n",
    "$$"
   ]
  },
  {
   "cell_type": "code",
   "execution_count": 129,
   "metadata": {},
   "outputs": [
    {
     "data": {
      "text/plain": [
       "(array([[110, 120, 130],\n",
       "        [262, 288, 314],\n",
       "        [414, 456, 498]]),\n",
       " array([[110, 120, 130],\n",
       "        [262, 288, 314],\n",
       "        [414, 456, 498]]))"
      ]
     },
     "execution_count": 129,
     "metadata": {},
     "output_type": "execute_result"
    }
   ],
   "source": [
    "a1 = np.arange(1,13).reshape(3,4)\n",
    "b1 = np.arange(5,17).reshape(4,3)\n",
    "c1 = np.arange(6).reshape(3,2)\n",
    "\n",
    "np.dot(a1,b1), a1@b1"
   ]
  },
  {
   "cell_type": "code",
   "execution_count": 130,
   "metadata": {},
   "outputs": [
    {
     "data": {
      "text/plain": [
       "(array([[ 760, 1120],\n",
       "        [1832, 2696],\n",
       "        [2904, 4272]]),\n",
       " array([[ 760, 1120],\n",
       "        [1832, 2696],\n",
       "        [2904, 4272]]))"
      ]
     },
     "execution_count": 130,
     "metadata": {},
     "output_type": "execute_result"
    }
   ],
   "source": [
    "np.dot(np.dot(a1,b1),c1), (a1@b1)@c1"
   ]
  },
  {
   "cell_type": "code",
   "execution_count": 58,
   "metadata": {},
   "outputs": [
    {
     "name": "stdout",
     "output_type": "stream",
     "text": [
      "[[1 2]\n",
      " [3 4]]\n",
      "[[5 6]\n",
      " [7 8]]\n",
      "Dot Product:\n",
      " [[19 22]\n",
      " [43 50]]\n",
      "Transposed Array:\n",
      " [[1 3]\n",
      " [2 4]]\n"
     ]
    }
   ],
   "source": [
    "arr1 = np.array([[1, 2], [3, 4]])\n",
    "arr2 = np.array([[5, 6], [7, 8]])\n",
    "print(arr1)\n",
    "print(arr2)\n",
    "# np.dot(): 두 배열의 내적을 계산합니다.\n",
    "dot_product = np.dot(arr1, arr2)\n",
    "print(\"Dot Product:\\n\", dot_product)\n",
    "\n",
    "# np.transpose(): 배열의 전치를 반환합니다.\n",
    "transposed_arr = np.transpose(arr1)\n",
    "print(\"Transposed Array:\\n\", transposed_arr)"
   ]
  },
  {
   "cell_type": "code",
   "execution_count": 120,
   "metadata": {},
   "outputs": [
    {
     "name": "stdout",
     "output_type": "stream",
     "text": [
      "Inverse Array:\n",
      " [[-2.   1. ]\n",
      " [ 1.5 -0.5]]\n",
      "[[1.0000000e+00 0.0000000e+00]\n",
      " [8.8817842e-16 1.0000000e+00]]\n",
      "Determinant: -2.0000000000000004\n",
      "0.0\n",
      "Eigenvalues: [-0.37228132  5.37228132]\n",
      "Eigenvectors:\n",
      " [[-0.82456484 -0.41597356]\n",
      " [ 0.56576746 -0.90937671]]\n"
     ]
    }
   ],
   "source": [
    "from numpy.linalg import inv, det, eig\n",
    "\n",
    "arr = np.array([[1, 2], [3, 4]])\n",
    "\n",
    "# np.linalg.inv(): 행렬의 역행렬을 계산합니다.\n",
    "inverse_arr = inv(arr)\n",
    "print(\"Inverse Array:\\n\", inverse_arr)\n",
    "print(np.dot(arr, inverse_arr))\n",
    "\n",
    "# np.linalg.det(): 역행렬이 존재하는지 여부를 확인. 0 -> 역행렬 존재 X / 0이외의 값 -> 역행렬 존재\n",
    "determinant = det(arr)\n",
    "print(\"Determinant:\", determinant)\n",
    "print(det(np.array([[0,0], [0,0]])))\n",
    "\n",
    "# np.linalg.eig(): 행렬의 고유값과 고유벡터를 계산합니다.\n",
    "eigenvalues, eigenvectors = eig(arr)\n",
    "print(\"Eigenvalues:\", eigenvalues)\n",
    "print(\"Eigenvectors:\\n\", eigenvectors)\n"
   ]
  },
  {
   "cell_type": "code",
   "execution_count": 124,
   "metadata": {},
   "outputs": [
    {
     "name": "stdout",
     "output_type": "stream",
     "text": [
      "EigResult(eigenvalues=array([6., 2.]), eigenvectors=array([[ 0.70710678, -0.70710678],\n",
      "       [ 0.70710678,  0.70710678]]))\n",
      "Eigenvalue : [6. 2.]\n",
      "Eigenvector : [[ 0.70710678 -0.70710678]\n",
      " [ 0.70710678  0.70710678]]\n"
     ]
    }
   ],
   "source": [
    "arr = np.array([[4, 2], [2, 4]]) # 매트릭스 생성\n",
    "\n",
    "print(eig(arr)) #Eigenvalue와 Eigenvector\n",
    "\n",
    "value = eig(arr)[0] #Eigenvalue\n",
    "vector = eig(arr)[1] #Eigenvector\n",
    "\n",
    "print('Eigenvalue :', value)\n",
    "print('Eigenvector :', vector)"
   ]
  },
  {
   "cell_type": "code",
   "execution_count": 125,
   "metadata": {},
   "outputs": [
    {
     "data": {
      "text/plain": [
       "array([[ 4.24264069, -1.41421356],\n",
       "       [ 4.24264069,  1.41421356]])"
      ]
     },
     "execution_count": 125,
     "metadata": {},
     "output_type": "execute_result"
    }
   ],
   "source": [
    "np.dot(arr, vector)"
   ]
  },
  {
   "cell_type": "code",
   "execution_count": 118,
   "metadata": {},
   "outputs": [
    {
     "data": {
      "text/plain": [
       "((2,), (2, 2))"
      ]
     },
     "execution_count": 118,
     "metadata": {},
     "output_type": "execute_result"
    }
   ],
   "source": [
    "np.array(value).shape, vector.shape"
   ]
  },
  {
   "cell_type": "code",
   "execution_count": 119,
   "metadata": {},
   "outputs": [
    {
     "data": {
      "text/plain": [
       "array([[24, 12],\n",
       "       [ 4,  8]])"
      ]
     },
     "execution_count": 119,
     "metadata": {},
     "output_type": "execute_result"
    }
   ],
   "source": [
    "np.dot([[6, 0], [0, 2]], arr)"
   ]
  },
  {
   "cell_type": "markdown",
   "metadata": {},
   "source": [
    "## 7. 배열 저장 및 불러오기"
   ]
  },
  {
   "cell_type": "markdown",
   "metadata": {},
   "source": [
    "### 7-1. 바이너리 파일로 저장/읽기\n",
    "- **np.save(\"파일경로\", 배열)**\n",
    "    - 배열을 raw 바이너리 형식으로 저장한다. (압축하지 않은)\n",
    "    - 파일명에 확장자로 npy를 붙인다. (무조건 붙인다. abc.xxx 해도 abc.xxx.npy 로 저장)\n",
    "- **np.load(\"파일경로\")**\n",
    "    - 파일에 저장된 배열을 불러온다.\n",
    "- **np.savez(\"파일경로\", 이름=배열, 이름=배열, ...)**\n",
    "    - 여러개의 배열을 저장할 때 사용\n",
    "    - 파일명에 확장자로 npz가 붙는다.\n",
    "    - 내부적으로 압축해서 저장한다.\n",
    "    - load() 함수로 불러오면 저장된 배열목록이 반환 된다. 저장시 지정한 이름을 이용해 조회 "
   ]
  },
  {
   "cell_type": "code",
   "execution_count": 1,
   "metadata": {},
   "outputs": [
    {
     "name": "stdout",
     "output_type": "stream",
     "text": [
      "(5,) (3, 3, 5) (5, 10)\n"
     ]
    }
   ],
   "source": [
    "import numpy as np\n",
    "\n",
    "a = np.array([1, 10, 5, 7, 20])\n",
    "b = np.ones(shape=(3,3,5))\n",
    "c = np.random.normal(10, 2, size=(5,10)) #평균:10, 표준편차:2\n",
    "print(a.shape, b.shape, c.shape)"
   ]
  },
  {
   "cell_type": "code",
   "execution_count": 2,
   "metadata": {},
   "outputs": [],
   "source": [
    "# binary 파일에 배열을 저장\n",
    "# 한파일에 하나에 배열 - save(경로, 배열)\n",
    "# 경로: 상대경로(현재 working directory 기준 경로), . : 현재디렉토리, ..: 상위디렉토리\n",
    "#       절대경로(root 디렉토리부터 전체 경로) - c:\\a\\b\\abc\n",
    "np.save(\"data/array_a\", a)  #data/array_a.npy\n",
    "np.save(\"data/array_b.npy\", b)\n",
    "np.save(\"data/array.c\", c) #data/array.c.npy"
   ]
  },
  {
   "cell_type": "code",
   "execution_count": 3,
   "metadata": {},
   "outputs": [
    {
     "name": "stdout",
     "output_type": "stream",
     "text": [
      "[ 1 10  5  7 20]\n",
      "[[[1. 1. 1. 1. 1.]\n",
      "  [1. 1. 1. 1. 1.]\n",
      "  [1. 1. 1. 1. 1.]]\n",
      "\n",
      " [[1. 1. 1. 1. 1.]\n",
      "  [1. 1. 1. 1. 1.]\n",
      "  [1. 1. 1. 1. 1.]]\n",
      "\n",
      " [[1. 1. 1. 1. 1.]\n",
      "  [1. 1. 1. 1. 1.]\n",
      "  [1. 1. 1. 1. 1.]]]\n",
      "[[ 8.4130659  11.19543239  9.27530979  8.73957262  9.38621063  8.4025236\n",
      "  11.40206669  9.36356144  8.28962679 10.6658509 ]\n",
      " [ 8.29978192 10.36985003 12.05964706  8.58017066  8.67475366 10.93089608\n",
      "   4.89577291  8.34300704 12.15502457  8.05734223]\n",
      " [10.15104087 10.65426095 10.87755188 11.10479966  7.53393409 10.59446406\n",
      "   8.98402937  9.90909378 12.44098816  7.63606038]\n",
      " [ 7.43167508  8.48621674  8.72959296  8.71454025  8.09317757  9.46519291\n",
      "   7.72172066 10.63775799  7.9000678   6.50084424]\n",
      " [ 8.99801634  9.83348618 10.73740148  7.89461481  8.55618807  9.27896608\n",
      "  11.93359474  7.42898445  8.42434498  7.20127248]]\n"
     ]
    }
   ],
   "source": [
    "# 불러오기(load) - load()\n",
    "a2 = np.load('data/array_a.npy')\n",
    "b2 = np.load('data/array_b.npy')\n",
    "c2 = np.load('data/array.c.npy')\n",
    "\n",
    "print(a2)\n",
    "print(b2)\n",
    "print(c2)"
   ]
  },
  {
   "cell_type": "code",
   "execution_count": 4,
   "metadata": {},
   "outputs": [],
   "source": [
    "# 한파일에 여러개 배열 - savez(경로, 이름1=배열, 이름2=배열, ...)\n",
    "np.savez(\"data/array\", a=a, b=b, c=c) #data/array.npz"
   ]
  },
  {
   "cell_type": "code",
   "execution_count": 5,
   "metadata": {},
   "outputs": [
    {
     "data": {
      "text/plain": [
       "NpzFile 'data/array.npz' with keys: a, b, c"
      ]
     },
     "execution_count": 5,
     "metadata": {},
     "output_type": "execute_result"
    }
   ],
   "source": [
    "arrays = np.load('data/array.npz')\n",
    "arrays"
   ]
  },
  {
   "cell_type": "code",
   "execution_count": 6,
   "metadata": {},
   "outputs": [
    {
     "data": {
      "text/plain": [
       "['a', 'b', 'c']"
      ]
     },
     "execution_count": 6,
     "metadata": {},
     "output_type": "execute_result"
    }
   ],
   "source": [
    "# 배열들의 이름들을 조회\n",
    "arrays.files"
   ]
  },
  {
   "cell_type": "code",
   "execution_count": 7,
   "metadata": {},
   "outputs": [
    {
     "name": "stdout",
     "output_type": "stream",
     "text": [
      "[ 1 10  5  7 20]\n",
      "[[[1. 1. 1. 1. 1.]\n",
      "  [1. 1. 1. 1. 1.]\n",
      "  [1. 1. 1. 1. 1.]]\n",
      "\n",
      " [[1. 1. 1. 1. 1.]\n",
      "  [1. 1. 1. 1. 1.]\n",
      "  [1. 1. 1. 1. 1.]]\n",
      "\n",
      " [[1. 1. 1. 1. 1.]\n",
      "  [1. 1. 1. 1. 1.]\n",
      "  [1. 1. 1. 1. 1.]]]\n",
      "[[ 8.4130659  11.19543239  9.27530979  8.73957262  9.38621063  8.4025236\n",
      "  11.40206669  9.36356144  8.28962679 10.6658509 ]\n",
      " [ 8.29978192 10.36985003 12.05964706  8.58017066  8.67475366 10.93089608\n",
      "   4.89577291  8.34300704 12.15502457  8.05734223]\n",
      " [10.15104087 10.65426095 10.87755188 11.10479966  7.53393409 10.59446406\n",
      "   8.98402937  9.90909378 12.44098816  7.63606038]\n",
      " [ 7.43167508  8.48621674  8.72959296  8.71454025  8.09317757  9.46519291\n",
      "   7.72172066 10.63775799  7.9000678   6.50084424]\n",
      " [ 8.99801634  9.83348618 10.73740148  7.89461481  8.55618807  9.27896608\n",
      "  11.93359474  7.42898445  8.42434498  7.20127248]]\n"
     ]
    }
   ],
   "source": [
    "# 각 배열을 조회 - index연산자 사용\n",
    "a3 = arrays['a']\n",
    "b3 = arrays['b']\n",
    "c3 = arrays['c']\n",
    "\n",
    "print(a3)\n",
    "print(b3)\n",
    "print(c3)"
   ]
  },
  {
   "cell_type": "code",
   "execution_count": null,
   "metadata": {},
   "outputs": [],
   "source": []
  },
  {
   "cell_type": "markdown",
   "metadata": {},
   "source": [
    "### 7-2. 텍스트 파일로 저장/읽기\n",
    "- **savetxt(\"파일경로\", 배열 , delimiter='공백')**\n",
    "  - 텍스트 형태로 저장.\n",
    "  - 각 원소는 공백을 기준으로 나뉘며 delimiter 속성으로 구분자를 지정할 수 있다. (delimiter생략시 공백)\n",
    "  - 1차원과 2차원 배열만 저장 가능하다. (3차원 이상은 저장이 안된다.)\n",
    "- **loadtxt(\"파일경로\" ,dtype=float, comments='', delimiter=공백)**"
   ]
  },
  {
   "cell_type": "code",
   "execution_count": 8,
   "metadata": {},
   "outputs": [
    {
     "name": "stdout",
     "output_type": "stream",
     "text": [
      "[[1.5 2.3 3.1]\n",
      " [4.2 5.8 6.5]]\n"
     ]
    }
   ],
   "source": [
    "import numpy as np\n",
    "\n",
    "# 예제 데이터 생성\n",
    "arr = np.array([[1.5, 2.3, 3.1], [4.2, 5.8, 6.5]])\n",
    "\n",
    "print(arr)\n"
   ]
  },
  {
   "cell_type": "code",
   "execution_count": 10,
   "metadata": {},
   "outputs": [],
   "source": [
    "# 데이터를 텍스트 파일로 저장\n",
    "np.savetxt('data/data.txt', arr, delimiter=',')"
   ]
  },
  {
   "cell_type": "code",
   "execution_count": 11,
   "metadata": {},
   "outputs": [
    {
     "name": "stdout",
     "output_type": "stream",
     "text": [
      "[[1.5 2.3 3.1]\n",
      " [4.2 5.8 6.5]]\n"
     ]
    }
   ],
   "source": [
    "# 텍스트 파일에서 데이터 불러오기\n",
    "loaded_data = np.loadtxt('data/data.txt', delimiter=',')\n",
    "\n",
    "print(loaded_data)"
   ]
  },
  {
   "cell_type": "code",
   "execution_count": 13,
   "metadata": {},
   "outputs": [
    {
     "name": "stdout",
     "output_type": "stream",
     "text": [
      "Data loaded from 'data.csv':\\n [[1.5 2.3 3.1]\n",
      " [4.2 5.8 6.5]]\n"
     ]
    }
   ],
   "source": [
    "# CSV 파일에서 데이터 불러오기\n",
    "\n",
    "data = \"1.5,2.3,3.1\\n4.2,5.8,6.5\\n\"\n",
    "with open('data.csv', 'w') as file:\n",
    "    file.write(data)\n",
    "\n",
    "loaded_data = np.loadtxt('data.csv', delimiter=',')\n",
    "print(loaded_data)\n"
   ]
  },
  {
   "cell_type": "code",
   "execution_count": 14,
   "metadata": {},
   "outputs": [
    {
     "name": "stdout",
     "output_type": "stream",
     "text": [
      "[[1.5 2.3 3.1]\n",
      " [4.2 5.8 6.5]]\n"
     ]
    }
   ],
   "source": [
    "# 공백으로 구분된 텍스트 파일에서 데이터 불러오기\n",
    "\n",
    "data = \"1.5 2.3 3.1\\n4.2 5.8 6.5\\n\"\n",
    "with open('data.txt', 'w') as file:\n",
    "    file.write(data)\n",
    "\n",
    "loaded_data = np.loadtxt('data.txt')\n",
    "print(loaded_data)"
   ]
  },
  {
   "cell_type": "code",
   "execution_count": 16,
   "metadata": {},
   "outputs": [
    {
     "name": "stdout",
     "output_type": "stream",
     "text": [
      "[[1.5 2.3 3.1]\n",
      " [4.2 5.8 6.5]]\n"
     ]
    }
   ],
   "source": [
    "# 주석과 헤더가 있는 파일에서 데이터 불러오기\n",
    "\n",
    "data = \"# This is a comment\\n# Another comment\\n1.5 2.3 3.1\\n4.2 5.8 6.5\\n\"\n",
    "with open('data_with_comments.txt', 'w') as file:\n",
    "    file.write(data)\n",
    "\n",
    "loaded_data = np.loadtxt('data_with_comments.txt', comments='#')\n",
    "print(loaded_data)\n"
   ]
  }
 ],
 "metadata": {
  "kernelspec": {
   "display_name": "lecture",
   "language": "python",
   "name": "python3"
  },
  "language_info": {
   "codemirror_mode": {
    "name": "ipython",
    "version": 3
   },
   "file_extension": ".py",
   "mimetype": "text/x-python",
   "name": "python",
   "nbconvert_exporter": "python",
   "pygments_lexer": "ipython3",
   "version": "3.12.4"
  }
 },
 "nbformat": 4,
 "nbformat_minor": 2
}
