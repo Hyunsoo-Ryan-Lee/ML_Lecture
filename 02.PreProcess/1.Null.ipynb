{
 "cells": [
  {
   "cell_type": "markdown",
   "metadata": {},
   "source": [
    "## 결측치 처리\n",
    "---\n",
    "### 1. 상수 대체\n",
    "**사용 예:**\n",
    "- 데이터 분석 초기에 간단한 대체가 필요한 경우\n",
    "- 특정 값(예: 0 또는 -1)이 의미 있는 경우\n",
    "- 데이터의 null 값이 특별한 의미가 없고, 단순히 빈 값으로 처리할 수 있을 때\n",
    "\n",
    "**예시:**\n",
    "- 제품의 재고 수량에서 결측값을 0으로 대체하여, 결측값이 있는 경우 해당 제품의 재고가 없음을 의미하도록 할 때\n",
    "---\n",
    "### 2. 평균 대체\n",
    "**사용 예:**\n",
    "- 연속형 데이터의 결측값을 처리할 때\n",
    "- 데이터 분포가 정규분포에 가깝고, 평균값이 대표 값을 잘 나타낼 때\n",
    "- 결측값이 많지 않고, 평균으로 대체해도 큰 왜곡이 없을 때\n",
    "\n",
    "**예시:**\n",
    "- 학생들의 시험 점수에서 결측값을 평균 점수로 대체하여, 전체 성적 분포를 유지하고자 할 때\n",
    "---\n",
    "### 3. 중간값 대체\n",
    "**사용 예:**\n",
    "- 데이터에 극단값(outliers)이 존재하여 평균이 대표 값을 잘 나타내지 못할 때\n",
    "- 데이터가 비대칭적으로 분포되어 있을 때\n",
    "- 연속형 데이터에서 중앙값이 더 적합한 대표 값일 때\n",
    "\n",
    "**예시:**\n",
    "- 가구 소득 데이터에서 결측값을 중간값으로 대체하여, 소득 분포의 왜곡을 최소화할 때\n",
    "---\n",
    "### 4. 최대값 대체\n",
    "**사용 예:**\n",
    "- 데이터의 특정 값이 매우 중요한 의미를 가질 때\n",
    "- 결측값이 발생한 경우 최대값을 대체하는 것이 의미가 있을 때\n",
    "- 데이터 분석 목적상 최고 값을 기준으로 결측값을 대체하는 것이 적절할 때\n",
    "\n",
    "**예시:**\n",
    "- 판매량 데이터에서 결측값을 최대 판매량으로 대체하여, 최악의 시나리오를 가정하고자 할 때\n",
    "---\n",
    "### 5. 최소값 대체\n",
    "**사용 예:**\n",
    "- 데이터의 특정 값이 매우 중요한 의미를 가질 때\n",
    "- 결측값이 발생한 경우 최소값을 대체하는 것이 의미가 있을 때\n",
    "- 데이터 분석 목적상 최저 값을 기준으로 결측값을 대체하는 것이 적절할 때\n",
    "\n",
    "**예시:**\n",
    "- 온도 데이터에서 결측값을 최소 온도로 대체하여, 최악의 시나리오를 가정하고자 할 때\n",
    "---\n",
    "### 6. 최빈값 대체\n",
    "**사용 예:**\n",
    "- 범주형 데이터의 결측값을 처리할 때\n",
    "- 특정 범주의 빈도가 매우 높아 그 값으로 대체하는 것이 자연스러울 때\n",
    "- 데이터가 명목형 또는 순서형일 때\n",
    "\n",
    "**예시:**\n",
    "- 고객 선호 색상 데이터에서 결측값을 가장 많이 선택된 색상으로 대체하여, 분석 결과의 신뢰성을 높일 때\n",
    "---\n",
    "### 7. 선행값 대체\n",
    "**사용 예:**\n",
    "- 시계열 데이터의 결측값을 처리할 때\n",
    "- 연속된 데이터에서 결측값이 이전 값과 동일할 가능성이 높을 때\n",
    "- 결측값이 발생한 경우 이전 상태를 유지하는 것이 적절할 때\n",
    "\n",
    "**예시:**\n",
    "- 주식 가격 데이터에서 결측값을 이전 날의 가격으로 대체하여, 일시적인 데이터 손실을 보완할 때\n",
    "---\n",
    "### 8. 후행값 대체\n",
    "**사용 예:**\n",
    "- 시계열 데이터의 결측값을 처리할 때\n",
    "- 연속된 데이터에서 결측값이 이후 값과 동일할 가능성이 높을 때\n",
    "- 결측값이 발생한 경우 이후 상태를 유지하는 것이 적절할 때\n",
    "\n",
    "**예시:**\n",
    "- 센서 데이터에서 결측값을 이후의 값으로 대체하여, 센서가 정상 작동을 재개한 이후의 데이터를 신뢰할 때"
   ]
  },
  {
   "cell_type": "markdown",
   "metadata": {},
   "source": [
    "## 1. Pandas 메소드를 활용한 결측치 처리\n",
    "\n",
    "- **상수 대체**: 도메인 지식이 있거나 null값을 명확히 구분하고자 할 때 사용.\n",
    "- **평균 대체**: 데이터가 정규분포를 따르고, 극단값이 없는 경우 사용.\n",
    "- **중간값 대체**: 극단값의 영향을 줄이고자 할 때 사용.\n",
    "- **최빈값 대체**: 범주형 변수의 null값을 대체하거나, 특정 값이 자주 나타나는 경우 사용."
   ]
  },
  {
   "cell_type": "code",
   "execution_count": 21,
   "metadata": {},
   "outputs": [],
   "source": [
    "import pandas as pd\n",
    "import numpy as np\n",
    "\n",
    "col_a = [np.random.randint(10) for _ in range(1,20)] + [np.nan]*2\n",
    "col_b = [np.random.randint(10)*13 for _ in range(1,20)] + [np.nan]*2\n",
    "col_c = [np.random.randint(10)*47 for _ in range(1,20)] + [np.nan]*2"
   ]
  },
  {
   "cell_type": "code",
   "execution_count": 27,
   "metadata": {},
   "outputs": [
    {
     "data": {
      "text/plain": [
       "A    5\n",
       "B    6\n",
       "C    4\n",
       "dtype: int64"
      ]
     },
     "execution_count": 27,
     "metadata": {},
     "output_type": "execute_result"
    }
   ],
   "source": [
    "# 샘플 데이터 생성\n",
    "# np.random.seed(42)\n",
    "data = {\n",
    "    'A': np.random.choice(col_a, 50),\n",
    "    'B': np.random.choice(col_b, 50),\n",
    "    'C': np.random.choice(col_c, 50)\n",
    "}\n",
    "df = pd.DataFrame(data)\n",
    "\n",
    "# 데이터프레임 출력\n",
    "df.isnull().sum()"
   ]
  },
  {
   "cell_type": "code",
   "execution_count": 29,
   "metadata": {},
   "outputs": [],
   "source": [
    "import pandas as pd\n",
    "\n",
    "df = pd.read_csv(\"./dataset/null.csv\")"
   ]
  },
  {
   "cell_type": "code",
   "execution_count": 30,
   "metadata": {},
   "outputs": [
    {
     "data": {
      "text/html": [
       "<div>\n",
       "<style scoped>\n",
       "    .dataframe tbody tr th:only-of-type {\n",
       "        vertical-align: middle;\n",
       "    }\n",
       "\n",
       "    .dataframe tbody tr th {\n",
       "        vertical-align: top;\n",
       "    }\n",
       "\n",
       "    .dataframe thead th {\n",
       "        text-align: right;\n",
       "    }\n",
       "</style>\n",
       "<table border=\"1\" class=\"dataframe\">\n",
       "  <thead>\n",
       "    <tr style=\"text-align: right;\">\n",
       "      <th></th>\n",
       "      <th>A</th>\n",
       "      <th>B</th>\n",
       "      <th>C</th>\n",
       "    </tr>\n",
       "  </thead>\n",
       "  <tbody>\n",
       "    <tr>\n",
       "      <th>0</th>\n",
       "      <td>3.0</td>\n",
       "      <td>0.0</td>\n",
       "      <td>141.0</td>\n",
       "    </tr>\n",
       "    <tr>\n",
       "      <th>1</th>\n",
       "      <td>NaN</td>\n",
       "      <td>NaN</td>\n",
       "      <td>329.0</td>\n",
       "    </tr>\n",
       "  </tbody>\n",
       "</table>\n",
       "</div>"
      ],
      "text/plain": [
       "     A    B      C\n",
       "0  3.0  0.0  141.0\n",
       "1  NaN  NaN  329.0"
      ]
     },
     "execution_count": 30,
     "metadata": {},
     "output_type": "execute_result"
    }
   ],
   "source": [
    "df.mode()"
   ]
  },
  {
   "cell_type": "code",
   "execution_count": null,
   "metadata": {},
   "outputs": [],
   "source": [
    "## 상수 대체\n",
    "### limit -> 각 레이블값에 대해서 결측치 변경을 수행할 횟수 / 행 기준일경우 왼쪽부터, 열 기준일 경우 위에서부터 수행\n",
    "df_cons = df.fillna(0, limit=3)\n",
    "\n",
    "# 평균으로 결측값 대체\n",
    "df_mean = df.fillna(df.mean())\n",
    "print(df_mean)\n",
    "\n",
    "## 중간값 대체\n",
    "df_median = df.fillna(df.median())\n",
    "print(df_median)\n",
    "\n",
    "## 최대/최소값 대체\n",
    "df_max = df.fillna(df.max())\n",
    "df_min = df.fillna(df.min())\n",
    "\n",
    "## 최빈값 대체 -> dataframe의 최빈값을 구해주는 mode() 함수 사용\n",
    "df_mode = df.fillna(df.mode().iloc[0])\n",
    "print(df_mode)"
   ]
  },
  {
   "cell_type": "code",
   "execution_count": null,
   "metadata": {},
   "outputs": [],
   "source": [
    "## 선행값 대체\n",
    "\n",
    "df_ffill = df.fillna(method='ffill')\n",
    "print(df_ffill)\n",
    "\n",
    "## 후행값 대체\n",
    "\n",
    "df_bfill = df.fillna(method='bfill')\n",
    "# print(df_bfill)"
   ]
  },
  {
   "cell_type": "markdown",
   "metadata": {},
   "source": [
    "## 2. Sklearn 메소드를 활용한 결측치 처리\n",
    "- **SimpleImputer()**\n",
    "  - missing_values: 결측치 처리를 할 데이터 타입\n",
    "  - strategy: default = 'mean', 'median', 'most_frequent', 'constant'\n",
    "  - fill_value: 결측치를 채우는 값 (option: str or numerical value, default=None)\n",
    "  - copy: 복사본을 만들어서 결측치 처리를 할지의 여부 (option: bool, default = True)"
   ]
  },
  {
   "cell_type": "code",
   "execution_count": 14,
   "metadata": {},
   "outputs": [
    {
     "name": "stdout",
     "output_type": "stream",
     "text": [
      "[[4.         2.         4.        ]\n",
      " [5.         5.         1.        ]\n",
      " [3.8        4.         4.        ]\n",
      " [5.         3.5        3.42857143]\n",
      " [5.         3.5        3.42857143]\n",
      " [2.         3.         1.        ]\n",
      " [3.8        3.         3.42857143]\n",
      " [3.8        2.         5.        ]\n",
      " [3.8        4.         3.42857143]\n",
      " [5.         4.         4.        ]\n",
      " [4.         3.         4.        ]\n",
      " [3.8        4.         4.        ]\n",
      " [5.         4.         4.        ]\n",
      " [2.         3.5        5.        ]\n",
      " [4.         3.         3.        ]\n",
      " [2.         5.         1.        ]\n",
      " [4.         3.         4.        ]\n",
      " [5.         5.         3.42857143]\n",
      " [1.         3.5        4.        ]\n",
      " [4.         2.         3.42857143]]\n"
     ]
    }
   ],
   "source": [
    "from sklearn.impute import SimpleImputer\n",
    "import numpy as np\n",
    "\n",
    "# 평균으로 결측값 대체\n",
    "imputer = SimpleImputer(strategy='mean')\n",
    "data_imputed = imputer.fit_transform(df)\n",
    "print(data_imputed)"
   ]
  }
 ],
 "metadata": {
  "kernelspec": {
   "display_name": "lecture",
   "language": "python",
   "name": "python3"
  },
  "language_info": {
   "codemirror_mode": {
    "name": "ipython",
    "version": 3
   },
   "file_extension": ".py",
   "mimetype": "text/x-python",
   "name": "python",
   "nbconvert_exporter": "python",
   "pygments_lexer": "ipython3",
   "version": "3.12.4"
  }
 },
 "nbformat": 4,
 "nbformat_minor": 2
}
