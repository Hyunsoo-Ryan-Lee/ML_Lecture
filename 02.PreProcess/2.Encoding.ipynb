{
 "cells": [
  {
   "cell_type": "markdown",
   "metadata": {},
   "source": [
    "## Encoding"
   ]
  },
  {
   "cell_type": "markdown",
   "metadata": {},
   "source": [
    "#### 1. Label Encoding\n",
    "- 범주형 변수를 정수로 변환합니다. 범주 간 순서가 의미 없을 때 사용합니다.\n",
    "- 주로 트리 기반 모델에서 사용되며, 단순하고 빠르게 구현할 수 있습니다.\n",
    "- [\"a\", \"b\", \"c\"] -> [0, 1, 2]"
   ]
  },
  {
   "cell_type": "code",
   "execution_count": 1,
   "metadata": {},
   "outputs": [
    {
     "name": "stdout",
     "output_type": "stream",
     "text": [
      "   color size  target\n",
      "0    red    S       1\n",
      "1   blue    M       0\n",
      "2  green    L       0\n",
      "3   blue    M       1\n",
      "4  green    S       0\n",
      "5    red    L       1\n",
      "6    red    S       0\n",
      "7   blue    M       1\n"
     ]
    }
   ],
   "source": [
    "import pandas as pd\n",
    "\n",
    "# 샘플 데이터 생성\n",
    "data = {\n",
    "    'color': ['red', 'blue', 'green', 'blue', 'green', 'red', 'red', 'blue'],\n",
    "    'size': ['S', 'M', 'L', 'M', 'S', 'L', 'S', 'M'],\n",
    "    'target': [1, 0, 0, 1, 0, 1, 0, 1]\n",
    "}\n",
    "df = pd.DataFrame(data)\n",
    "print(df)"
   ]
  },
  {
   "cell_type": "code",
   "execution_count": null,
   "metadata": {},
   "outputs": [],
   "source": []
  },
  {
   "cell_type": "code",
   "execution_count": 2,
   "metadata": {},
   "outputs": [
    {
     "name": "stdout",
     "output_type": "stream",
     "text": [
      "   color size  target  color_label\n",
      "0    red    S       1            2\n",
      "1   blue    M       0            0\n",
      "2  green    L       0            1\n",
      "3   blue    M       1            0\n",
      "4  green    S       0            1\n",
      "5    red    L       1            2\n",
      "6    red    S       0            2\n",
      "7   blue    M       1            0\n"
     ]
    }
   ],
   "source": [
    "## Label Encoding -> 각 카테고리 값을 숫자형으로 변환\n",
    "\n",
    "df['color_label'] = df['color'].astype('category').cat.codes\n",
    "print(df)"
   ]
  },
  {
   "cell_type": "code",
   "execution_count": 6,
   "metadata": {},
   "outputs": [
    {
     "data": {
      "text/html": [
       "<div>\n",
       "<style scoped>\n",
       "    .dataframe tbody tr th:only-of-type {\n",
       "        vertical-align: middle;\n",
       "    }\n",
       "\n",
       "    .dataframe tbody tr th {\n",
       "        vertical-align: top;\n",
       "    }\n",
       "\n",
       "    .dataframe thead th {\n",
       "        text-align: right;\n",
       "    }\n",
       "</style>\n",
       "<table border=\"1\" class=\"dataframe\">\n",
       "  <thead>\n",
       "    <tr style=\"text-align: right;\">\n",
       "      <th></th>\n",
       "      <th>color</th>\n",
       "      <th>size</th>\n",
       "      <th>target</th>\n",
       "      <th>color_label</th>\n",
       "      <th>factorize</th>\n",
       "    </tr>\n",
       "  </thead>\n",
       "  <tbody>\n",
       "    <tr>\n",
       "      <th>0</th>\n",
       "      <td>red</td>\n",
       "      <td>S</td>\n",
       "      <td>1</td>\n",
       "      <td>2</td>\n",
       "      <td>0</td>\n",
       "    </tr>\n",
       "    <tr>\n",
       "      <th>1</th>\n",
       "      <td>blue</td>\n",
       "      <td>M</td>\n",
       "      <td>0</td>\n",
       "      <td>0</td>\n",
       "      <td>1</td>\n",
       "    </tr>\n",
       "    <tr>\n",
       "      <th>2</th>\n",
       "      <td>green</td>\n",
       "      <td>L</td>\n",
       "      <td>0</td>\n",
       "      <td>1</td>\n",
       "      <td>2</td>\n",
       "    </tr>\n",
       "    <tr>\n",
       "      <th>3</th>\n",
       "      <td>blue</td>\n",
       "      <td>M</td>\n",
       "      <td>1</td>\n",
       "      <td>0</td>\n",
       "      <td>1</td>\n",
       "    </tr>\n",
       "    <tr>\n",
       "      <th>4</th>\n",
       "      <td>green</td>\n",
       "      <td>S</td>\n",
       "      <td>0</td>\n",
       "      <td>1</td>\n",
       "      <td>2</td>\n",
       "    </tr>\n",
       "    <tr>\n",
       "      <th>5</th>\n",
       "      <td>red</td>\n",
       "      <td>L</td>\n",
       "      <td>1</td>\n",
       "      <td>2</td>\n",
       "      <td>0</td>\n",
       "    </tr>\n",
       "    <tr>\n",
       "      <th>6</th>\n",
       "      <td>red</td>\n",
       "      <td>S</td>\n",
       "      <td>0</td>\n",
       "      <td>2</td>\n",
       "      <td>0</td>\n",
       "    </tr>\n",
       "    <tr>\n",
       "      <th>7</th>\n",
       "      <td>blue</td>\n",
       "      <td>M</td>\n",
       "      <td>1</td>\n",
       "      <td>0</td>\n",
       "      <td>1</td>\n",
       "    </tr>\n",
       "  </tbody>\n",
       "</table>\n",
       "</div>"
      ],
      "text/plain": [
       "   color size  target  color_label  factorize\n",
       "0    red    S       1            2          0\n",
       "1   blue    M       0            0          1\n",
       "2  green    L       0            1          2\n",
       "3   blue    M       1            0          1\n",
       "4  green    S       0            1          2\n",
       "5    red    L       1            2          0\n",
       "6    red    S       0            2          0\n",
       "7   blue    M       1            0          1"
      ]
     },
     "execution_count": 6,
     "metadata": {},
     "output_type": "execute_result"
    }
   ],
   "source": [
    "## factorize 함수 사용\n",
    "\n",
    "df['factorize'] = df['color'].factorize()[0]\n",
    "\n",
    "df"
   ]
  },
  {
   "cell_type": "code",
   "execution_count": 3,
   "metadata": {},
   "outputs": [
    {
     "name": "stdout",
     "output_type": "stream",
     "text": [
      "   color size  target  color_label  color_label_sklearn\n",
      "0    red    S       1            2                    2\n",
      "1   blue    M       0            0                    0\n",
      "2  green    L       0            1                    1\n",
      "3   blue    M       1            0                    0\n",
      "4  green    S       0            1                    1\n",
      "5    red    L       1            2                    2\n",
      "6    red    S       0            2                    2\n",
      "7   blue    M       1            0                    0\n"
     ]
    }
   ],
   "source": [
    "from sklearn.preprocessing import LabelEncoder\n",
    "\n",
    "le = LabelEncoder()\n",
    "df['color_label_sklearn'] = le.fit_transform(df['color'])\n",
    "print(df)"
   ]
  },
  {
   "cell_type": "markdown",
   "metadata": {},
   "source": [
    "#### 2. One-Hot Encoding\n",
    "- 범주형 변수를 이진 변수의 배열로 변환합니다. 범주 간 순서가 없는 경우 사용합니다.\n",
    "- 각 범주가 서로 독립적일 때 유용하며, 회귀나 SVM 모델에서 많이 사용됩니다.\n",
    "- [\"a\", \"b\", \"c\"] -> [[1, 0, 0], [0, 1, 0], [0, 0, 1]]"
   ]
  },
  {
   "cell_type": "code",
   "execution_count": 10,
   "metadata": {},
   "outputs": [
    {
     "name": "stdout",
     "output_type": "stream",
     "text": [
      "   target  color_blue  color_green  color_red  size_L  size_M  size_S\n",
      "0       1       False        False       True   False   False    True\n",
      "1       0        True        False      False   False    True   False\n",
      "2       0       False         True      False    True   False   False\n",
      "3       1        True        False      False   False    True   False\n",
      "4       0       False         True      False   False   False    True\n",
      "5       1       False        False       True    True   False   False\n",
      "6       0       False        False       True   False   False    True\n",
      "7       1        True        False      False   False    True   False\n"
     ]
    }
   ],
   "source": [
    "## One-Hot Encoding -> 각 카테고리 값을 이진 변수(dummy 변수)로 변환\n",
    "\n",
    "# df_one_hot = pd.get_dummies(df, columns=['color'])\n",
    "df_one_hot = pd.get_dummies(df, columns=['color', 'size'])\n",
    "print(df_one_hot)"
   ]
  },
  {
   "cell_type": "code",
   "execution_count": 15,
   "metadata": {},
   "outputs": [
    {
     "name": "stdout",
     "output_type": "stream",
     "text": [
      "   color_blue  color_green  color_red  size_L  size_M  size_S\n",
      "0         0.0          0.0        1.0     0.0     0.0     1.0\n",
      "1         1.0          0.0        0.0     0.0     1.0     0.0\n",
      "2         0.0          1.0        0.0     1.0     0.0     0.0\n",
      "3         1.0          0.0        0.0     0.0     1.0     0.0\n",
      "4         0.0          1.0        0.0     0.0     0.0     1.0\n",
      "5         0.0          0.0        1.0     1.0     0.0     0.0\n",
      "6         0.0          0.0        1.0     0.0     0.0     1.0\n",
      "7         1.0          0.0        0.0     0.0     1.0     0.0\n"
     ]
    }
   ],
   "source": [
    "from sklearn.preprocessing import OneHotEncoder\n",
    "\n",
    "ohe = OneHotEncoder()\n",
    "encoded = ohe.fit_transform(df[['color', 'size']])\n",
    "df_one_hot_sklearn = pd.DataFrame(encoded.toarray(), columns=ohe.get_feature_names_out(['color', 'size']))\n",
    "print(df_one_hot_sklearn)"
   ]
  },
  {
   "cell_type": "markdown",
   "metadata": {},
   "source": [
    "#### 3. Ordinal Encoding\n",
    "- 범주형 변수를 정수로 변환합니다. 범주 간 순서가 의미 있을 때 사용합니다.\n",
    "- 범주의 순서가 중요한 경우에 유용하며, 특히 순위형 데이터에서 많이 사용됩니다.\n",
    "- [\"low\", \"medium\", \"high\"] -> [0, 1, 2]"
   ]
  },
  {
   "cell_type": "code",
   "execution_count": 16,
   "metadata": {},
   "outputs": [
    {
     "name": "stdout",
     "output_type": "stream",
     "text": [
      "   color size  target  size_ordinal\n",
      "0    red    S       1             1\n",
      "1   blue    M       0             2\n",
      "2  green    L       0             3\n",
      "3   blue    M       1             2\n",
      "4  green    S       0             1\n",
      "5    red    L       1             3\n",
      "6    red    S       0             1\n",
      "7   blue    M       1             2\n"
     ]
    }
   ],
   "source": [
    "## Ordinal Encoding -> 순서가 있는 카테고리 값을 숫자형으로 변환\n",
    "\n",
    "size_mapping = {'S': 1, 'M': 2, 'L': 3}\n",
    "df['size_ordinal'] = df['size'].map(size_mapping)\n",
    "print(df)"
   ]
  },
  {
   "cell_type": "code",
   "execution_count": 17,
   "metadata": {},
   "outputs": [
    {
     "name": "stdout",
     "output_type": "stream",
     "text": [
      "   color size  target  size_ordinal  size_ordinal_sklearn\n",
      "0    red    S       1             1                   0.0\n",
      "1   blue    M       0             2                   1.0\n",
      "2  green    L       0             3                   2.0\n",
      "3   blue    M       1             2                   1.0\n",
      "4  green    S       0             1                   0.0\n",
      "5    red    L       1             3                   2.0\n",
      "6    red    S       0             1                   0.0\n",
      "7   blue    M       1             2                   1.0\n"
     ]
    }
   ],
   "source": [
    "from sklearn.preprocessing import OrdinalEncoder\n",
    "\n",
    "size_mapping = {'S': 1, 'M': 2, 'L': 3}\n",
    "ordinal_encoder = OrdinalEncoder(categories=[['S', 'M', 'L']])\n",
    "df['size_ordinal_sklearn'] = ordinal_encoder.fit_transform(df[['size']])\n",
    "print(df)"
   ]
  },
  {
   "cell_type": "markdown",
   "metadata": {},
   "source": [
    "#### 4. Target Encoding\n",
    "- 범주형 변수를 해당 범주의 타겟 평균값으로 변환합니다. 데이터의 통계 정보를 활용합니다.\n",
    "- 범주가 많은 경우나 타겟 변수와의 관계를 반영하고자 할 때 사용됩니다.\n",
    "- [\"a\", \"b\", \"a\", \"c\"] -> [0.3, 0.7, 0.3, 0.9]"
   ]
  },
  {
   "cell_type": "code",
   "execution_count": 19,
   "metadata": {},
   "outputs": [
    {
     "name": "stdout",
     "output_type": "stream",
     "text": [
      "   color size  target  size_ordinal  size_ordinal_sklearn  color_target\n",
      "0    red    S       1             1                   0.0      0.666667\n",
      "1   blue    M       0             2                   1.0      0.666667\n",
      "2  green    L       0             3                   2.0      0.000000\n",
      "3   blue    M       1             2                   1.0      0.666667\n",
      "4  green    S       0             1                   0.0      0.000000\n",
      "5    red    L       1             3                   2.0      0.666667\n",
      "6    red    S       0             1                   0.0      0.666667\n",
      "7   blue    M       1             2                   1.0      0.666667\n"
     ]
    },
    {
     "data": {
      "text/plain": [
       "color\n",
       "blue     0.666667\n",
       "green    0.000000\n",
       "red      0.666667\n",
       "Name: target, dtype: float64"
      ]
     },
     "execution_count": 19,
     "metadata": {},
     "output_type": "execute_result"
    }
   ],
   "source": [
    "## Target Encoding -> 각 카테고리 값에 대해 목표 변수의 평균을 사용\n",
    "\n",
    "target_mean = df.groupby('color')['target'].mean()\n",
    "df['color_target'] = df['color'].map(target_mean)\n",
    "print(df)\n",
    "target_mean"
   ]
  },
  {
   "cell_type": "code",
   "execution_count": null,
   "metadata": {},
   "outputs": [],
   "source": []
  }
 ],
 "metadata": {
  "kernelspec": {
   "display_name": "lecture",
   "language": "python",
   "name": "python3"
  },
  "language_info": {
   "codemirror_mode": {
    "name": "ipython",
    "version": 3
   },
   "file_extension": ".py",
   "mimetype": "text/x-python",
   "name": "python",
   "nbconvert_exporter": "python",
   "pygments_lexer": "ipython3",
   "version": "3.12.4"
  }
 },
 "nbformat": 4,
 "nbformat_minor": 2
}
