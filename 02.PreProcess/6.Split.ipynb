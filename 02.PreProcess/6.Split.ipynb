{
 "cells": [
  {
   "cell_type": "markdown",
   "metadata": {},
   "source": [
    "## 데이터 분할\n",
    "\n",
    "### 1. 개념\n",
    "\n",
    "**Train-Test Split**: 데이터셋을 두 개의 부분으로 나누는 과정입니다. \n",
    "- **훈련 세트 (Training Set)**: 모델을 학습시키는 데 사용되는 데이터입니다.\n",
    "- **테스트 세트 (Test Set)**: 학습된 모델의 성능을 평가하는 데 사용되는 데이터입니다.\n",
    "\n",
    "![](https://velog.velcdn.com/images/newnew_daddy/post/c70285e5-28e4-4f4e-9322-e1cc227aabc7/image.png)\n",
    "\n",
    "보통 데이터셋의 70-80%는 훈련 세트로, 나머지 20-30%는 테스트 세트로 나눕니다. \n",
    "\n",
    "### 2. 목적\n",
    "\n",
    "1. **모델 평가**: 모델이 새로운 데이터에 대해 얼마나 잘 일반화되는지 평가하기 위해 사용합니다. \n",
    "2. **과적합 방지**: 훈련 데이터에 너무 특화된 모델이 생성되지 않도록 합니다.\n",
    "\n",
    "### 3. 이유\n",
    "\n",
    "1. **일반화 능력 측정**:\n",
    "   - 모델이 훈련 데이터에서 잘 동작한다고 해서 실제 데이터에서도 잘 동작하는 것은 아닙니다.\n",
    "   - 테스트 세트를 통해 모델이 보지 못한 데이터에 대해 얼마나 잘 예측하는지 확인할 수 있습니다.\n",
    "   \n",
    "2. **과적합(Overfitting) 방지**:\n",
    "   - 모델이 훈련 데이터에 너무 맞춰지면 새로운 데이터에 대해 좋은 성능을 내지 못합니다.\n",
    "   - 테스트 세트는 모델이 얼마나 일반화됐는지, 즉 새로운 데이터에 대해 잘 예측하는지를 확인할 수 있습니다.\n",
    "   \n",
    "3. **모델 선택**:\n",
    "   - 여러 모델을 비교하고 선택할 때 테스트 세트의 성능을 기준으로 합니다.\n",
    "   - 이는 데이터가 동일한 조건에서 평가되어 공정한 비교가 가능하게 합니다.\n",
    "   \n",
    "4. **파라미터 튜닝**:\n",
    "   - 하이퍼파라미터를 조정할 때도 테스트 세트를 사용하여 최적의 파라미터를 선택할 수 있습니다.\n",
    "   - 교차 검증(cross-validation)과 함께 사용하면 더욱 효과적입니다."
   ]
  },
  {
   "cell_type": "markdown",
   "metadata": {},
   "source": []
  },
  {
   "cell_type": "code",
   "execution_count": null,
   "metadata": {},
   "outputs": [],
   "source": [
    "### 1. Train-Test Split"
   ]
  },
  {
   "cell_type": "code",
   "execution_count": null,
   "metadata": {},
   "outputs": [],
   "source": [
    "### 2. Cross-Validation Split"
   ]
  },
  {
   "cell_type": "code",
   "execution_count": null,
   "metadata": {},
   "outputs": [],
   "source": []
  },
  {
   "cell_type": "code",
   "execution_count": null,
   "metadata": {},
   "outputs": [],
   "source": []
  }
 ],
 "metadata": {
  "language_info": {
   "name": "python"
  }
 },
 "nbformat": 4,
 "nbformat_minor": 2
}
