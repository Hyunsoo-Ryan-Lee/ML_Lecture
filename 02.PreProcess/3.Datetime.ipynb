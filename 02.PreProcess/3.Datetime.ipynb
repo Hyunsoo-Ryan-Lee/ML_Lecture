{
 "cells": [
  {
   "cell_type": "code",
   "execution_count": 46,
   "metadata": {},
   "outputs": [
    {
     "data": {
      "text/html": [
       "<div>\n",
       "<style scoped>\n",
       "    .dataframe tbody tr th:only-of-type {\n",
       "        vertical-align: middle;\n",
       "    }\n",
       "\n",
       "    .dataframe tbody tr th {\n",
       "        vertical-align: top;\n",
       "    }\n",
       "\n",
       "    .dataframe thead th {\n",
       "        text-align: right;\n",
       "    }\n",
       "</style>\n",
       "<table border=\"1\" class=\"dataframe\">\n",
       "  <thead>\n",
       "    <tr style=\"text-align: right;\">\n",
       "      <th></th>\n",
       "      <th>date_1</th>\n",
       "      <th>date_2</th>\n",
       "      <th>date_3</th>\n",
       "    </tr>\n",
       "  </thead>\n",
       "  <tbody>\n",
       "    <tr>\n",
       "      <th>0</th>\n",
       "      <td>2024-01-01</td>\n",
       "      <td>2024/05/01</td>\n",
       "      <td>01-Sep-2024</td>\n",
       "    </tr>\n",
       "    <tr>\n",
       "      <th>1</th>\n",
       "      <td>2024-01-02</td>\n",
       "      <td>2024/05/02</td>\n",
       "      <td>02-Sep-2024</td>\n",
       "    </tr>\n",
       "    <tr>\n",
       "      <th>2</th>\n",
       "      <td>2024-01-03</td>\n",
       "      <td>2024/05/03</td>\n",
       "      <td>03-Sep-2024</td>\n",
       "    </tr>\n",
       "    <tr>\n",
       "      <th>3</th>\n",
       "      <td>2024-01-04</td>\n",
       "      <td>2024/05/04</td>\n",
       "      <td>04-Sep-2024</td>\n",
       "    </tr>\n",
       "    <tr>\n",
       "      <th>4</th>\n",
       "      <td>2024-01-05</td>\n",
       "      <td>2024/05/05</td>\n",
       "      <td>05-Sep-2024</td>\n",
       "    </tr>\n",
       "  </tbody>\n",
       "</table>\n",
       "</div>"
      ],
      "text/plain": [
       "       date_1      date_2       date_3\n",
       "0  2024-01-01  2024/05/01  01-Sep-2024\n",
       "1  2024-01-02  2024/05/02  02-Sep-2024\n",
       "2  2024-01-03  2024/05/03  03-Sep-2024\n",
       "3  2024-01-04  2024/05/04  04-Sep-2024\n",
       "4  2024-01-05  2024/05/05  05-Sep-2024"
      ]
     },
     "execution_count": 46,
     "metadata": {},
     "output_type": "execute_result"
    }
   ],
   "source": [
    "import pandas as pd\n",
    "import numpy as np\n",
    "\n",
    "# date_column_1 = pd.date_range(start='2024-01-01', periods=50, freq='D').strftime('%Y-%m-%d')\n",
    "# date_column_2= pd.date_range(start='2024-05-01', periods=50, freq='D').strftime('%Y/%m/%d')\n",
    "# date_column_3 = pd.date_range(start='2024-09-01', periods=50, freq='D').strftime('%d-%b-%Y')\n",
    "\n",
    "# # 샘플 데이터프레임 생성\n",
    "# df = pd.DataFrame({\n",
    "#     'date_1': date_column_1,\n",
    "#     'date_2': date_column_2,\n",
    "#     'date_3': date_column_3,\n",
    "# })\n",
    "\n",
    "df = pd.read_csv('./dataset/datetime.csv')\n",
    "\n",
    "df.head()"
   ]
  },
  {
   "cell_type": "code",
   "execution_count": 37,
   "metadata": {},
   "outputs": [
    {
     "name": "stdout",
     "output_type": "stream",
     "text": [
      "<class 'pandas.core.frame.DataFrame'>\n",
      "RangeIndex: 50 entries, 0 to 49\n",
      "Data columns (total 3 columns):\n",
      " #   Column  Non-Null Count  Dtype \n",
      "---  ------  --------------  ----- \n",
      " 0   date_1  50 non-null     object\n",
      " 1   date_2  50 non-null     object\n",
      " 2   date_3  50 non-null     object\n",
      "dtypes: object(3)\n",
      "memory usage: 1.3+ KB\n"
     ]
    }
   ],
   "source": [
    "df.info()"
   ]
  },
  {
   "cell_type": "markdown",
   "metadata": {},
   "source": [
    "#### object -> datetime 형식으로 변경"
   ]
  },
  {
   "cell_type": "code",
   "execution_count": 38,
   "metadata": {},
   "outputs": [],
   "source": [
    "df['date_1'] = pd.to_datetime(df['date_1'], format='%Y-%m-%d')\n",
    "df['date_2'] = pd.to_datetime(df['date_2'], format='%Y/%m/%d')\n",
    "df['date_3'] = pd.to_datetime(df['date_3'], format='%d-%b-%Y')"
   ]
  },
  {
   "cell_type": "code",
   "execution_count": 39,
   "metadata": {},
   "outputs": [
    {
     "name": "stdout",
     "output_type": "stream",
     "text": [
      "<class 'pandas.core.frame.DataFrame'>\n",
      "RangeIndex: 50 entries, 0 to 49\n",
      "Data columns (total 3 columns):\n",
      " #   Column  Non-Null Count  Dtype         \n",
      "---  ------  --------------  -----         \n",
      " 0   date_1  50 non-null     datetime64[ns]\n",
      " 1   date_2  50 non-null     datetime64[ns]\n",
      " 2   date_3  50 non-null     datetime64[ns]\n",
      "dtypes: datetime64[ns](3)\n",
      "memory usage: 1.3 KB\n"
     ]
    }
   ],
   "source": [
    "df.info()"
   ]
  },
  {
   "cell_type": "markdown",
   "metadata": {},
   "source": [
    "#### 필요한 날짜/시간 정보 추출"
   ]
  },
  {
   "cell_type": "code",
   "execution_count": null,
   "metadata": {},
   "outputs": [],
   "source": [
    "# year, month, day, hour, minute, second\n",
    "\n",
    "df['date_1'].dt.year"
   ]
  },
  {
   "cell_type": "code",
   "execution_count": null,
   "metadata": {},
   "outputs": [],
   "source": [
    "## 요일 추출 -> (0: 월요일, 6: 일요일)\n",
    "\n",
    "df['date_1'].dt.weekday"
   ]
  },
  {
   "cell_type": "code",
   "execution_count": null,
   "metadata": {},
   "outputs": [],
   "source": [
    "pd.get_dummies(df['date_1'].dt.weekday, columns=['weekday'], prefix='weekday')"
   ]
  },
  {
   "cell_type": "markdown",
   "metadata": {},
   "source": [
    "#### 날짜 차이 계산"
   ]
  },
  {
   "cell_type": "code",
   "execution_count": 32,
   "metadata": {},
   "outputs": [
    {
     "data": {
      "text/plain": [
       "0     89\n",
       "1     88\n",
       "2     87\n",
       "3     86\n",
       "4     85\n",
       "5     84\n",
       "6     83\n",
       "7     82\n",
       "8     81\n",
       "9     80\n",
       "10    79\n",
       "11    78\n",
       "12    77\n",
       "13    76\n",
       "14    75\n",
       "15    74\n",
       "16    73\n",
       "17    72\n",
       "18    71\n",
       "19    70\n",
       "20    69\n",
       "21    68\n",
       "22    67\n",
       "23    66\n",
       "24    65\n",
       "25    64\n",
       "26    63\n",
       "27    62\n",
       "28    61\n",
       "29    60\n",
       "30    59\n",
       "31    58\n",
       "32    57\n",
       "33    56\n",
       "34    55\n",
       "35    54\n",
       "36    53\n",
       "37    52\n",
       "38    51\n",
       "39    50\n",
       "40    49\n",
       "41    48\n",
       "42    47\n",
       "43    46\n",
       "44    45\n",
       "45    44\n",
       "46    43\n",
       "47    42\n",
       "48    41\n",
       "49    40\n",
       "Name: date_2, dtype: int64"
      ]
     },
     "execution_count": 32,
     "metadata": {},
     "output_type": "execute_result"
    }
   ],
   "source": [
    "(pd.to_datetime('today') - df['date_2']).dt.days"
   ]
  },
  {
   "cell_type": "markdown",
   "metadata": {},
   "source": [
    "#### 날짜 관련 특징 생성"
   ]
  },
  {
   "cell_type": "code",
   "execution_count": null,
   "metadata": {},
   "outputs": [],
   "source": [
    "## 단순 변환시 나노초 단위로 바뀌기 때문에 10^9을 나눠주어야 제대로 된 unix timestamp로 변환된다.\n",
    "\n",
    "df['date_1'].astype(int) // 10**9"
   ]
  }
 ],
 "metadata": {
  "kernelspec": {
   "display_name": "lecture",
   "language": "python",
   "name": "python3"
  },
  "language_info": {
   "codemirror_mode": {
    "name": "ipython",
    "version": 3
   },
   "file_extension": ".py",
   "mimetype": "text/x-python",
   "name": "python",
   "nbconvert_exporter": "python",
   "pygments_lexer": "ipython3",
   "version": "3.12.4"
  }
 },
 "nbformat": 4,
 "nbformat_minor": 2
}
