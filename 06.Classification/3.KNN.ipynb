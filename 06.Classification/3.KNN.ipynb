{
 "cells": [
  {
   "cell_type": "markdown",
   "metadata": {},
   "source": [
    "## K-NN (K-Nearest Neighbors) 알고리즘\n",
    "\n",
    "### 알고리즘의 원리\n",
    "\n",
    "![](https://velog.velcdn.com/images/newnew_daddy/post/5cdaac3b-e27d-4a0e-aecb-27296b498d5d/image.png)\n",
    "\n",
    "1. **거리 측정**: \n",
    "- 새로운 데이터 포인트와 기존 데이터 포인트들 간의 거리를 계산.(유클리드 거리, 맨해튼 거리 등) \n",
    "\n",
    "2. **K개의 이웃 선택**:\n",
    "- 가장 가까운 K개의 데이터 포인트를 선택한다. \n",
    "- K는 사용자가 설정해야 하는 하이퍼파라미터이며, K의 값에 따라 모델의 성능이 달라질 수 있다.\n",
    "\n",
    "3. **다수결 투표**:\n",
    "- 선택된 K개의 이웃 중 가장 많이 등장하는 클래스로 새로운 데이터 포인트를 분류. \n",
    "- 예를 들어, K = 3이고, 세 이웃 중 두 개가 클래스 A이고 하나가 클래스 B라면, 새로운 데이터 포인트는 클래스 A로 분류된다.\n",
    "\n",
    "### K-NN의 특징\n",
    "- 구현이 간단하고 이해하기 쉬우며, 직관적이다. 복잡한 수학적 모델을 필요로 하지 않는다.\n",
    "- 데이터의 크기나 스케일에 민감하므로, 일반적으로 데이터 전처리 과정에서 정규화나 표준화가 필요하다.\n",
    "- 하이퍼파라미터 K는 일반적으로 홀수로 선택하여 투표 결과가 동률이 되는 것을 방지한다.\n",
    "- 너무 작은 K 값은 모델이 과적합(Overfitting)되는 경향이 있고, 너무 큰 K 값은 모델이 과소적합(Underfitting)되는 경향이 있다."
   ]
  },
  {
   "cell_type": "code",
   "execution_count": 18,
   "metadata": {},
   "outputs": [
    {
     "data": {
      "text/plain": [
       "array([  17.99    ,   10.38    ,  122.8     , 1001.      ,    0.1184  ,\n",
       "          0.2776  ,    0.3001  ,    0.1471  ,    0.2419  ,    0.07871 ,\n",
       "          1.095   ,    0.9053  ,    8.589   ,  153.4     ,    0.006399,\n",
       "          0.04904 ,    0.05373 ,    0.01587 ,    0.03003 ,    0.006193,\n",
       "         25.38    ,   17.33    ,  184.6     , 2019.      ,    0.1622  ,\n",
       "          0.6656  ,    0.7119  ,    0.2654  ,    0.4601  ,    0.1189  ])"
      ]
     },
     "execution_count": 18,
     "metadata": {},
     "output_type": "execute_result"
    }
   ],
   "source": [
    "from sklearn.datasets import load_breast_cancer\n",
    "from sklearn.model_selection import train_test_split\n",
    "from sklearn.neighbors import KNeighborsClassifier\n",
    "from sklearn.metrics import accuracy_score\n",
    "import matplotlib.pyplot as plt\n",
    "import numpy as np\n",
    "np.set_printoptions(suppress=True)\n",
    "\n",
    "# 데이터 로드\n",
    "bc = load_breast_cancer()\n",
    "X = bc.data\n",
    "y = bc.target\n",
    "\n",
    "X[0]"
   ]
  },
  {
   "cell_type": "code",
   "execution_count": 19,
   "metadata": {},
   "outputs": [
    {
     "data": {
      "text/plain": [
       "array([ 1.09706398, -2.07333501,  1.26993369,  0.9843749 ,  1.56846633,\n",
       "        3.28351467,  2.65287398,  2.53247522,  2.21751501,  2.25574689,\n",
       "        2.48973393, -0.56526506,  2.83303087,  2.48757756, -0.21400165,\n",
       "        1.31686157,  0.72402616,  0.66081994,  1.14875667,  0.90708308,\n",
       "        1.88668963, -1.35929347,  2.30360062,  2.00123749,  1.30768627,\n",
       "        2.61666502,  2.10952635,  2.29607613,  2.75062224,  1.93701461])"
      ]
     },
     "execution_count": 19,
     "metadata": {},
     "output_type": "execute_result"
    }
   ],
   "source": [
    "from sklearn.preprocessing import StandardScaler\n",
    "\n",
    "\n",
    "# 데이터 스케일링\n",
    "scaler = StandardScaler()\n",
    "X_scaled = scaler.fit_transform(X)\n",
    "\n",
    "X_scaled[0]"
   ]
  },
  {
   "cell_type": "code",
   "execution_count": 21,
   "metadata": {},
   "outputs": [],
   "source": [
    "# 학습 데이터와 테스트 데이터 분할\n",
    "X_train, X_test, y_train, y_test = train_test_split(X_scaled, y, test_size=0.3, random_state=42)\n",
    "\n",
    "# K-NN 모델 생성 (K=3)\n",
    "knn = KNeighborsClassifier(n_neighbors=3)\n",
    "knn.fit(X_train, y_train)\n",
    "\n",
    "# 예측\n",
    "y_pred = knn.predict(X_test)"
   ]
  },
  {
   "cell_type": "code",
   "execution_count": 27,
   "metadata": {},
   "outputs": [
    {
     "name": "stdout",
     "output_type": "stream",
     "text": [
      "Train :  0.9849246231155779\n",
      "Test :  0.9590643274853801\n"
     ]
    }
   ],
   "source": [
    "## 모델 정확도 평가\n",
    "\n",
    "print(\"Train : \", knn.score(X_train, y_train))\n",
    "print(\"Test : \", knn.score(X_test, y_test))"
   ]
  },
  {
   "cell_type": "code",
   "execution_count": 22,
   "metadata": {},
   "outputs": [
    {
     "name": "stdout",
     "output_type": "stream",
     "text": [
      "Accuracy: 0.96\n",
      "--------------------------------------------------\n",
      "Classification Report:\n",
      "               precision    recall  f1-score   support\n",
      "\n",
      "           0       0.95      0.94      0.94        63\n",
      "           1       0.96      0.97      0.97       108\n",
      "\n",
      "    accuracy                           0.96       171\n",
      "   macro avg       0.96      0.95      0.96       171\n",
      "weighted avg       0.96      0.96      0.96       171\n",
      "\n"
     ]
    }
   ],
   "source": [
    "# 정확도 평가\n",
    "accuracy = accuracy_score(y_test, y_pred)\n",
    "print(f\"Accuracy: {accuracy:.2f}\")\n",
    "print('-'*50)\n",
    "# 분류 리포트 출력\n",
    "report = classification_report(y_test, y_pred)\n",
    "print(\"Classification Report:\\n\", report)"
   ]
  },
  {
   "cell_type": "code",
   "execution_count": 24,
   "metadata": {},
   "outputs": [
    {
     "name": "stdout",
     "output_type": "stream",
     "text": [
      "[[ 59   4]\n",
      " [  3 105]]\n"
     ]
    }
   ],
   "source": [
    "from sklearn.metrics import confusion_matrix\n",
    "import seaborn as sns\n",
    "\n",
    "cm = confusion_matrix(y_test, y_pred)\n",
    "print(cm)"
   ]
  },
  {
   "cell_type": "code",
   "execution_count": 25,
   "metadata": {},
   "outputs": [
    {
     "data": {
      "image/png": "[encoded data removed]",
      "text/plain": [
       "<Figure size 640x480 with 2 Axes>"
      ]
     },
     "metadata": {},
     "output_type": "display_data"
    }
   ],
   "source": [
    "sns.heatmap(cm, annot=True, fmt='d', cmap='Blues')\n",
    "plt.xlabel('Predict')\n",
    "plt.ylabel('Actual')\n",
    "plt.title('Confusion Matrix')\n",
    "plt.show()"
   ]
  }
 ],
 "metadata": {
  "kernelspec": {
   "display_name": "lecture",
   "language": "python",
   "name": "python3"
  },
  "language_info": {
   "codemirror_mode": {
    "name": "ipython",
    "version": 3
   },
   "file_extension": ".py",
   "mimetype": "text/x-python",
   "name": "python",
   "nbconvert_exporter": "python",
   "pygments_lexer": "ipython3",
   "version": "3.12.4"
  }
 },
 "nbformat": 4,
 "nbformat_minor": 2
}
